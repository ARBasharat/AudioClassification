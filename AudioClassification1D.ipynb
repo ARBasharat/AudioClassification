{
  "nbformat": 4,
  "nbformat_minor": 0,
  "metadata": {
    "kernelspec": {
      "display_name": "Python 3",
      "language": "python",
      "name": "python3"
    },
    "language_info": {
      "codemirror_mode": {
        "name": "ipython",
        "version": 3
      },
      "file_extension": ".py",
      "mimetype": "text/x-python",
      "name": "python",
      "nbconvert_exporter": "python",
      "pygments_lexer": "ipython3",
      "version": "3.7.6"
    },
    "colab": {
      "name": "AudioClassification1D.ipynb",
      "provenance": [],
      "collapsed_sections": [],
      "include_colab_link": true
    },
    "accelerator": "GPU"
  },
  "cells": [
    {
      "cell_type": "markdown",
      "metadata": {
        "id": "view-in-github",
        "colab_type": "text"
      },
      "source": [
        "<a href=\"https://colab.research.google.com/github/ARBasharat/AudioClassification/blob/master/AudioClassification1D.ipynb\" target=\"_parent\"><img src=\"https://colab.research.google.com/assets/colab-badge.svg\" alt=\"Open In Colab\"/></a>"
      ]
    },
    {
      "cell_type": "markdown",
      "metadata": {
        "id": "DspSBGrmy8lA"
      },
      "source": [
        "Contact: abbash@iu.edu <br/>\n",
        "Audio Classification after augmenting training data"
      ]
    },
    {
      "cell_type": "markdown",
      "metadata": {
        "id": "XBJqvKExzLvw"
      },
      "source": [
        "# Load Libraries"
      ]
    },
    {
      "cell_type": "code",
      "metadata": {
        "id": "1pKd4WHgN_2I"
      },
      "source": [
        "import numpy as np\n",
        "import pandas as pd\n",
        "import matplotlib.pyplot as plt\n",
        "import tensorflow as tf\n",
        "from tensorflow import keras\n",
        "import random\n",
        "import librosa\n",
        "from tensorflow.keras import datasets, layers, models\n",
        "from sklearn.model_selection import train_test_split"
      ],
      "execution_count": 1,
      "outputs": []
    },
    {
      "cell_type": "markdown",
      "metadata": {
        "id": "UVf4mCi7zOcK"
      },
      "source": [
        "# Load Data from Google Drive"
      ]
    },
    {
      "cell_type": "code",
      "metadata": {
        "id": "L4rpOw4gziwf",
        "outputId": "3baff7b2-2bcc-448c-c218-04a2cf8629a7",
        "colab": {
          "base_uri": "https://localhost:8080/",
          "height": 34
        }
      },
      "source": [
        "from google.colab import drive\n",
        "drive.mount(\"/content/drive\")\n",
        "\n",
        "train = np.load(\"drive/My Drive/AudioClassification/audio_train.npy\").astype('float32')\n",
        "test = np.load(\"drive/My Drive/AudioClassification/audio_test.npy\").astype('float32')\n",
        "train_labels_df = pd.read_csv(\"drive/My Drive/AudioClassification/labels_train.csv\")"
      ],
      "execution_count": 2,
      "outputs": [
        {
          "output_type": "stream",
          "text": [
            "Drive already mounted at /content/drive; to attempt to forcibly remount, call drive.mount(\"/content/drive\", force_remount=True).\n"
          ],
          "name": "stdout"
        }
      ]
    },
    {
      "cell_type": "markdown",
      "metadata": {
        "id": "Tne6xDwgzRuD"
      },
      "source": [
        "# Process Data"
      ]
    },
    {
      "cell_type": "code",
      "metadata": {
        "id": "jaQAD_G-On32",
        "outputId": "f7cbb6d9-45cd-4afc-b4cb-83547ff6210e",
        "colab": {
          "base_uri": "https://localhost:8080/",
          "height": 102
        }
      },
      "source": [
        "train_labels = train_labels_df.to_numpy()[:,1]\n",
        "labels_categorical = keras.utils.to_categorical(train_labels)\n",
        "\n",
        "X_train_original, X_val_original, y_train_original, y_val = train_test_split(train, \n",
        "                          labels_categorical, test_size=0.20, random_state=42)\n",
        "\n",
        "print(\"Training Data:\", X_train_original.shape)\n",
        "print(\"Training Labels:\", y_train_original.shape)\n",
        "print(\"Validation Data:\", X_val_original.shape)\n",
        "print(\"Validation Labels:\", y_val.shape)\n",
        "print(\"Testing Data:\", test.shape)"
      ],
      "execution_count": 3,
      "outputs": [
        {
          "output_type": "stream",
          "text": [
            "Training Data: (753, 30000)\n",
            "Training Labels: (753, 10)\n",
            "Validation Data: (189, 30000)\n",
            "Validation Labels: (189, 10)\n",
            "Testing Data: (558, 30000)\n"
          ],
          "name": "stdout"
        }
      ]
    },
    {
      "cell_type": "code",
      "metadata": {
        "id": "ZTosG_h9PJzp"
      },
      "source": [
        "## We switch between white and normal noise randomly\n",
        "\n",
        "def add_white_noise(data, rate = 0.05):\n",
        "  data_with_white_noise = data + rate * np.random.randn(len(data))\n",
        "  return data_with_white_noise\n",
        "\n",
        "'''\n",
        "Noise addition using normal distribution with mean = 0 and std =1\n",
        "Permissible noise factor value = x > 0.004\n",
        "'''\n",
        "def add_normal_distributed_noise(data, rate = 0.09, sr = 30000):\n",
        "  data_with_noramlized_noise = data + rate * np.random.normal(0, 1, len(data))\n",
        "  return data_with_noramlized_noise\n",
        "\n",
        "'''\n",
        "Time Shifting\n",
        "Permissible factor values = sr/10\n",
        "'''\n",
        "def add_time_shift(data, sr = 30000):\n",
        "  data_with_time_shift = np.roll(data, int(sr/10))\n",
        "  return data_with_time_shift\n",
        "\n",
        "'''\n",
        "Pitch shifting\n",
        "Permissible factor values = -5 <= x <= 5\n",
        "'''\n",
        "def add_pitch_shift(data, sr = 30000, steps = -7):\n",
        "  data_with_pitch_shift = librosa.effects.pitch_shift(data, sr, n_steps = steps)\n",
        "  return data_with_pitch_shift"
      ],
      "execution_count": 4,
      "outputs": []
    },
    {
      "cell_type": "code",
      "metadata": {
        "id": "LVkqhn9iOkRD",
        "outputId": "819a1700-11b5-4712-dc6b-0a90253d5943",
        "colab": {
          "base_uri": "https://localhost:8080/",
          "height": 34
        }
      },
      "source": [
        "# Get augmented_training data equal to size of real data\n",
        "def get_augmented_data_two_times(X_train_original, y_train_original):\n",
        "  new_data = []\n",
        "  new_labels = []\n",
        "  for i in range(0, len(X_train_original)):\n",
        "    data = X_train_original[i]\n",
        "    label = y_train_original[i]\n",
        "    choice = random.choice([1, 2, 3, 4]) ## Used for selecting between white noise and normalized noise\n",
        "    ## get augmented data\n",
        "    new_data.append(data)\n",
        "    if choice == 1:\n",
        "      new_data.append(add_white_noise(data))\n",
        "    elif choice == 2:\n",
        "      new_data.append(add_normal_distributed_noise(data))\n",
        "    elif choice == 3:\n",
        "      new_data.append(add_time_shift(data))\n",
        "    elif choice == 4:\n",
        "      new_data.append(add_pitch_shift(data))\n",
        "    ## get labels\n",
        "    new_labels.append(label)\n",
        "    new_labels.append(label)\n",
        "\n",
        "  ## Get augmented train data and labels\n",
        "  train_data = np.array(new_data)\n",
        "  y_train = np.array(new_labels)\n",
        "  return train_data, y_train\n",
        "\n",
        "train_data, y_train = get_augmented_data_two_times(X_train_original, y_train_original)\n",
        "print(train_data.shape, y_train.shape)"
      ],
      "execution_count": 5,
      "outputs": [
        {
          "output_type": "stream",
          "text": [
            "(1506, 30000) (1506, 10)\n"
          ],
          "name": "stdout"
        }
      ]
    },
    {
      "cell_type": "code",
      "metadata": {
        "id": "bl4yARVXTCpx"
      },
      "source": [
        "train_data /= train_data.max()\n",
        "X_val_original /= X_val_original.max()\n",
        "test /= test.max()"
      ],
      "execution_count": 6,
      "outputs": []
    },
    {
      "cell_type": "code",
      "metadata": {
        "id": "3wTLj5JIPouL",
        "outputId": "c2edf912-ff0a-48bb-ad82-33d4bdbbfadb",
        "colab": {
          "base_uri": "https://localhost:8080/",
          "height": 34
        }
      },
      "source": [
        "X_train = train_data.reshape((train_data.shape[0], train_data.shape[1], 1))\n",
        "X_val = X_val_original.reshape((X_val_original.shape[0], X_val_original.shape[1], 1))\n",
        "X_test = test.reshape((test.shape[0], test.shape[1], 1))\n",
        "print(X_train.shape, X_val.shape, X_test.shape, y_train.shape, y_val.shape)"
      ],
      "execution_count": 7,
      "outputs": [
        {
          "output_type": "stream",
          "text": [
            "(1506, 30000, 1) (189, 30000, 1) (558, 30000, 1) (1506, 10) (189, 10)\n"
          ],
          "name": "stdout"
        }
      ]
    },
    {
      "cell_type": "markdown",
      "metadata": {
        "id": "VSSW3drLz3yw"
      },
      "source": [
        "# Define Models"
      ]
    },
    {
      "cell_type": "code",
      "metadata": {
        "id": "bu8hKb8E0rBH"
      },
      "source": [
        "## Base Model Architecture \n",
        "def getBaseModel():\n",
        "  model = models.Sequential()\n",
        "  model.add(layers.Conv1D(32, 3, activation='relu', input_shape=(30000, 1)))\n",
        "  model.add(layers.MaxPooling1D(2))\n",
        "  model.add(layers.Conv1D(64, 3, activation='relu'))\n",
        "  model.add(layers.MaxPooling1D(2))\n",
        "  model.add(layers.Conv1D(128, 3, activation='relu'))\n",
        "  model.add(layers.Flatten())\n",
        "  model.add(layers.Dense(128, activation='relu'))\n",
        "  model.add(layers.Dense(64, activation='relu'))\n",
        "  model.add(layers.Dense(10, activation='softmax'))\n",
        "  model.summary()\n",
        "  return model\n",
        "\n",
        "def get_model_2():\n",
        "  model = tf.keras.models.Sequential()\n",
        "  model.add(layers.Conv1D(32, kernel_size=3, activation='relu', \n",
        "                    input_shape=(30000, 1)))\n",
        "  model.add(layers.Dropout(0.25))\n",
        "  model.add(layers.Conv1D(48, kernel_size=3, activation='relu'))\n",
        "  model.add(layers.Conv1D(120, kernel_size=3, activation='relu'))\n",
        "  model.add(layers.MaxPooling1D(pool_size=2))\n",
        "  model.add(layers.Dropout(0.25))\n",
        "  model.add(layers.Flatten())\n",
        "  model.add(layers.Dense(128, activation='relu'))\n",
        "  model.add(layers.Dropout(0.25))\n",
        "  model.add(layers.Dense(64, activation='relu'))\n",
        "  model.add(layers.Dropout(0.4))\n",
        "  model.add(layers.Dense(10, activation='softmax'))\n",
        "  return model\n",
        "\n",
        "def get_model_3():\n",
        "  model = tf.keras.models.Sequential()\n",
        "  model.add(layers.Conv1D(32, kernel_size=3, activation='relu', \n",
        "                    input_shape=(30000, 1)))\n",
        "  model.add(layers.MaxPooling1D(pool_size=2))\n",
        "  model.add(layers.Dropout(0.25))\n",
        "  model.add(layers.Conv1D(64, kernel_size=3, activation='relu'))\n",
        "  model.add(layers.MaxPooling1D(pool_size=2))\n",
        "  model.add(layers.Dropout(0.25))\n",
        "  model.add(layers.Conv1D(128, kernel_size=3, activation='relu'))\n",
        "  model.add(layers.MaxPooling1D(pool_size=2))\n",
        "  model.add(layers.Dropout(0.25))\n",
        "  model.add(layers.Flatten())\n",
        "  model.add(layers.Dense(128, activation='relu'))\n",
        "  model.add(layers.Dropout(0.25))\n",
        "  model.add(layers.Dense(64, activation='relu'))\n",
        "  model.add(layers.Dropout(0.4))\n",
        "  model.add(layers.Dense(10, activation='softmax'))\n",
        "  return model"
      ],
      "execution_count": 8,
      "outputs": []
    },
    {
      "cell_type": "code",
      "metadata": {
        "id": "fYVYzIIdN_2u"
      },
      "source": [
        "## Compile and Train Model with Early stopping\n",
        "def compileModel(model, optimizer = 'adam', epochs = 10):\n",
        "  earlyStopping = tf.keras.callbacks.EarlyStopping(monitor='val_loss', patience=10)\n",
        "  \n",
        "  model.compile(optimizer=optimizer,\n",
        "          loss=tf.keras.losses.categorical_crossentropy,\n",
        "          metrics=['accuracy'])\n",
        "  \n",
        "  history = model.fit(X_train, y_train, epochs=epochs, verbose=2, batch_size=64,\n",
        "          validation_data=(X_val, y_val), callbacks=earlyStopping)\n",
        "  \n",
        "  return history\n",
        "\n",
        "## Plot Training History\n",
        "def plotTrainingAccuracy(history):\n",
        "  plt.figure()\n",
        "  plt.plot(history.history['accuracy'], label='training_accuracy')\n",
        "  plt.plot(history.history['val_accuracy'], label = 'validation_accuracy')\n",
        "  plt.xlabel('Epoch')\n",
        "  plt.ylabel('Accuracy')\n",
        "  plt.legend(loc='upper left')\n",
        "  plt.show()\n",
        "  plt.close()\n",
        "\n",
        "def plotTrainingLoss(history):\n",
        "  plt.figure()\n",
        "  plt.plot(history.history['loss'], label='training_loss')\n",
        "  plt.plot(history.history['val_loss'], label = 'validation_loss')\n",
        "  plt.xlabel('Epoch')\n",
        "  plt.ylabel('Loss')\n",
        "  plt.legend(loc='upper left')\n",
        "  plt.show()\n",
        "  plt.close()\n",
        "\n",
        "## Evaluate the model\n",
        "def predictModel(model, test):\n",
        "  return model.predict_classes(test, verbose=0)\n",
        "  \n",
        "\n",
        "## Evaluate the model\n",
        "def evaluateModel(model, X_test, y_test):\n",
        "  test_loss, test_acc = model.evaluate(X_test, y_test, verbose=0)\n",
        "  print(\"\\n ### Performance of Test Data ###\")\n",
        "  print(\"Validation Accuracy: \", test_acc)\n",
        "  print(\"Validation Loss: \", test_loss, \"\\n\")"
      ],
      "execution_count": 9,
      "outputs": []
    },
    {
      "cell_type": "markdown",
      "metadata": {
        "id": "53sILVpn0IU0"
      },
      "source": [
        "# Train Model 1"
      ]
    },
    {
      "cell_type": "code",
      "metadata": {
        "id": "bAlaXn85N_2x",
        "outputId": "6ed53964-c5d1-42aa-846a-448f3efbc506",
        "colab": {
          "base_uri": "https://localhost:8080/",
          "height": 884
        }
      },
      "source": [
        "model = getBaseModel()\n",
        "history = compileModel(model, optimizer = 'adam', epochs = 100)"
      ],
      "execution_count": 18,
      "outputs": [
        {
          "output_type": "stream",
          "text": [
            "Model: \"sequential_2\"\n",
            "_________________________________________________________________\n",
            "Layer (type)                 Output Shape              Param #   \n",
            "=================================================================\n",
            "conv1d_6 (Conv1D)            (None, 29998, 32)         128       \n",
            "_________________________________________________________________\n",
            "max_pooling1d_4 (MaxPooling1 (None, 14999, 32)         0         \n",
            "_________________________________________________________________\n",
            "conv1d_7 (Conv1D)            (None, 14997, 64)         6208      \n",
            "_________________________________________________________________\n",
            "max_pooling1d_5 (MaxPooling1 (None, 7498, 64)          0         \n",
            "_________________________________________________________________\n",
            "conv1d_8 (Conv1D)            (None, 7496, 128)         24704     \n",
            "_________________________________________________________________\n",
            "flatten_2 (Flatten)          (None, 959488)            0         \n",
            "_________________________________________________________________\n",
            "dense_6 (Dense)              (None, 128)               122814592 \n",
            "_________________________________________________________________\n",
            "dense_7 (Dense)              (None, 64)                8256      \n",
            "_________________________________________________________________\n",
            "dense_8 (Dense)              (None, 10)                650       \n",
            "=================================================================\n",
            "Total params: 122,854,538\n",
            "Trainable params: 122,854,538\n",
            "Non-trainable params: 0\n",
            "_________________________________________________________________\n",
            "Epoch 1/100\n",
            "WARNING:tensorflow:Callbacks method `on_train_batch_end` is slow compared to the batch time (batch time: 0.0520s vs `on_train_batch_end` time: 0.0941s). Check your callbacks.\n",
            "24/24 - 4s - loss: 2.2653 - accuracy: 0.1607 - val_loss: 2.1573 - val_accuracy: 0.1534\n",
            "Epoch 2/100\n",
            "24/24 - 3s - loss: 1.8903 - accuracy: 0.2795 - val_loss: 1.9583 - val_accuracy: 0.2169\n",
            "Epoch 3/100\n",
            "24/24 - 4s - loss: 1.4887 - accuracy: 0.4456 - val_loss: 2.0272 - val_accuracy: 0.2751\n",
            "Epoch 4/100\n",
            "24/24 - 4s - loss: 1.1900 - accuracy: 0.5704 - val_loss: 2.5951 - val_accuracy: 0.2698\n",
            "Epoch 5/100\n",
            "24/24 - 4s - loss: 0.8968 - accuracy: 0.6926 - val_loss: 3.0913 - val_accuracy: 0.3280\n",
            "Epoch 6/100\n",
            "24/24 - 4s - loss: 0.7435 - accuracy: 0.7430 - val_loss: 3.2009 - val_accuracy: 0.2910\n",
            "Epoch 7/100\n",
            "24/24 - 4s - loss: 0.6305 - accuracy: 0.7776 - val_loss: 2.8158 - val_accuracy: 0.3545\n",
            "Epoch 8/100\n",
            "24/24 - 4s - loss: 0.5622 - accuracy: 0.7975 - val_loss: 5.0250 - val_accuracy: 0.3757\n",
            "Epoch 9/100\n",
            "24/24 - 4s - loss: 0.6393 - accuracy: 0.7829 - val_loss: 3.8564 - val_accuracy: 0.3545\n",
            "Epoch 10/100\n",
            "24/24 - 4s - loss: 0.5345 - accuracy: 0.8074 - val_loss: 3.2419 - val_accuracy: 0.3333\n",
            "Epoch 11/100\n",
            "24/24 - 4s - loss: 0.4813 - accuracy: 0.8240 - val_loss: 3.6527 - val_accuracy: 0.3598\n",
            "Epoch 12/100\n",
            "24/24 - 4s - loss: 0.4610 - accuracy: 0.8386 - val_loss: 4.0586 - val_accuracy: 0.3545\n"
          ],
          "name": "stdout"
        }
      ]
    },
    {
      "cell_type": "code",
      "metadata": {
        "id": "ZI7UI22NN_23",
        "outputId": "85697a1e-e8e1-48d6-9605-cc3f53448cb4",
        "colab": {
          "base_uri": "https://localhost:8080/",
          "height": 626
        }
      },
      "source": [
        "plotTrainingAccuracy(history)\n",
        "plotTrainingLoss(history)\n",
        "evaluateModel(model, X_val, y_val)"
      ],
      "execution_count": 19,
      "outputs": [
        {
          "output_type": "display_data",
          "data": {
            "image/png": "[encoded data removed]",
            "text/plain": [
              "<Figure size 432x288 with 1 Axes>"
            ]
          },
          "metadata": {
            "tags": [],
            "needs_background": "light"
          }
        },
        {
          "output_type": "display_data",
          "data": {
            "image/png": "[encoded data removed]",
            "text/plain": [
              "<Figure size 432x288 with 1 Axes>"
            ]
          },
          "metadata": {
            "tags": [],
            "needs_background": "light"
          }
        },
        {
          "output_type": "stream",
          "text": [
            "\n",
            " ### Performance of Test Data ###\n",
            "Validation Accuracy:  0.35449734330177307\n",
            "Validation Loss:  4.058623313903809 \n",
            "\n"
          ],
          "name": "stdout"
        }
      ]
    },
    {
      "cell_type": "code",
      "metadata": {
        "id": "GoNqor6aAjWU",
        "outputId": "cd240f97-c1c2-4a63-f6da-e4192b10fefa",
        "colab": {
          "base_uri": "https://localhost:8080/",
          "height": 459
        }
      },
      "source": [
        "predictions = predictModel(model, X_test)\n",
        "predictions"
      ],
      "execution_count": 20,
      "outputs": [
        {
          "output_type": "execute_result",
          "data": {
            "text/plain": [
              "array([9, 9, 4, 1, 7, 5, 9, 3, 6, 7, 4, 7, 7, 8, 0, 7, 7, 7, 7, 3, 7, 7,\n",
              "       7, 7, 3, 5, 7, 5, 0, 1, 3, 7, 8, 7, 6, 3, 7, 0, 9, 9, 7, 3, 5, 9,\n",
              "       3, 0, 3, 1, 3, 7, 7, 6, 3, 0, 8, 3, 5, 7, 4, 0, 7, 3, 8, 7, 0, 7,\n",
              "       3, 7, 3, 3, 3, 9, 0, 4, 0, 5, 9, 7, 7, 3, 7, 1, 3, 7, 5, 3, 3, 7,\n",
              "       4, 7, 0, 9, 0, 9, 3, 1, 7, 7, 7, 7, 7, 3, 7, 7, 0, 3, 1, 4, 7, 7,\n",
              "       6, 3, 7, 5, 1, 9, 1, 5, 5, 1, 7, 9, 3, 7, 1, 7, 7, 5, 1, 9, 7, 3,\n",
              "       7, 8, 3, 7, 4, 3, 4, 4, 7, 5, 5, 4, 7, 3, 0, 0, 1, 5, 7, 0, 5, 7,\n",
              "       3, 9, 3, 7, 5, 0, 3, 8, 7, 7, 7, 1, 6, 3, 4, 0, 8, 7, 8, 3, 6, 8,\n",
              "       3, 0, 3, 5, 7, 7, 7, 7, 4, 4, 7, 1, 3, 3, 9, 7, 7, 4, 8, 8, 9, 5,\n",
              "       7, 7, 5, 7, 7, 4, 7, 8, 7, 9, 4, 3, 9, 7, 5, 9, 9, 7, 7, 4, 3, 7,\n",
              "       9, 0, 1, 7, 7, 5, 8, 5, 1, 7, 3, 7, 7, 5, 7, 8, 6, 3, 3, 0, 4, 9,\n",
              "       6, 7, 8, 5, 7, 7, 9, 8, 7, 0, 3, 8, 0, 5, 4, 3, 7, 7, 7, 7, 1, 6,\n",
              "       3, 3, 5, 3, 7, 4, 1, 3, 3, 6, 3, 7, 1, 7, 9, 7, 1, 5, 4, 3, 8, 7,\n",
              "       7, 7, 0, 3, 7, 0, 7, 7, 0, 7, 7, 3, 8, 0, 4, 8, 9, 3, 1, 3, 3, 7,\n",
              "       4, 3, 3, 4, 8, 6, 7, 6, 9, 3, 3, 1, 3, 7, 5, 4, 7, 7, 3, 3, 7, 7,\n",
              "       8, 7, 7, 5, 7, 8, 1, 7, 3, 6, 1, 7, 8, 9, 9, 8, 0, 6, 7, 8, 8, 5,\n",
              "       3, 4, 7, 7, 7, 8, 7, 5, 3, 8, 4, 8, 7, 8, 7, 4, 7, 6, 7, 0, 9, 7,\n",
              "       1, 1, 6, 7, 7, 7, 9, 7, 3, 3, 1, 7, 1, 0, 9, 3, 5, 8, 3, 1, 7, 5,\n",
              "       3, 7, 8, 1, 4, 4, 7, 3, 7, 6, 9, 7, 1, 5, 5, 7, 7, 4, 1, 5, 7, 7,\n",
              "       6, 0, 8, 4, 7, 8, 3, 7, 7, 7, 7, 9, 3, 0, 6, 7, 7, 3, 3, 4, 7, 8,\n",
              "       0, 8, 9, 6, 3, 3, 7, 3, 7, 5, 4, 9, 1, 4, 7, 7, 3, 3, 5, 4, 9, 6,\n",
              "       7, 7, 3, 7, 3, 7, 3, 3, 7, 0, 7, 3, 8, 5, 7, 7, 8, 7, 7, 3, 3, 4,\n",
              "       5, 7, 7, 9, 9, 4, 7, 3, 3, 3, 7, 9, 7, 8, 9, 5, 7, 4, 7, 7, 3, 7,\n",
              "       7, 9, 3, 7, 7, 4, 3, 8, 9, 7, 7, 3, 0, 3, 7, 3, 7, 1, 3, 3, 7, 5,\n",
              "       1, 3, 7, 5, 7, 3, 7, 5, 3, 7, 0, 3, 7, 3, 3, 7, 3, 1, 4, 3, 8, 0,\n",
              "       3, 0, 3, 1, 5, 5, 7, 5])"
            ]
          },
          "metadata": {
            "tags": []
          },
          "execution_count": 20
        }
      ]
    },
    {
      "cell_type": "code",
      "metadata": {
        "id": "rwpOE_YaJUfu"
      },
      "source": [
        "pd.DataFrame(predictions).to_csv(\"submission.csv\")"
      ],
      "execution_count": 21,
      "outputs": []
    },
    {
      "cell_type": "markdown",
      "metadata": {
        "id": "bpFBKSYA0MJo"
      },
      "source": [
        "# Train Model 1"
      ]
    },
    {
      "cell_type": "code",
      "metadata": {
        "id": "Dlqcwih40MJq",
        "outputId": "e215df57-ca1f-47b7-c97f-045b77fb5194",
        "colab": {
          "base_uri": "https://localhost:8080/",
          "height": 884
        }
      },
      "source": [
        "model_2 = get_model_2()\n",
        "history_2 = compileModel(model_2, optimizer = 'adam', epochs = 100)"
      ],
      "execution_count": 10,
      "outputs": [
        {
          "output_type": "stream",
          "text": [
            "Epoch 1/100\n",
            "WARNING:tensorflow:Callbacks method `on_train_batch_end` is slow compared to the batch time (batch time: 0.1389s vs `on_train_batch_end` time: 0.2356s). Check your callbacks.\n",
            "24/24 - 9s - loss: 2.4545 - accuracy: 0.1202 - val_loss: 2.2482 - val_accuracy: 0.1323\n",
            "Epoch 2/100\n",
            "24/24 - 9s - loss: 2.2647 - accuracy: 0.1275 - val_loss: 2.2392 - val_accuracy: 0.1217\n",
            "Epoch 3/100\n",
            "24/24 - 9s - loss: 2.2082 - accuracy: 0.1534 - val_loss: 2.1508 - val_accuracy: 0.1852\n",
            "Epoch 4/100\n",
            "24/24 - 9s - loss: 2.1283 - accuracy: 0.1833 - val_loss: 2.1066 - val_accuracy: 0.1640\n",
            "Epoch 5/100\n",
            "24/24 - 9s - loss: 1.9627 - accuracy: 0.2583 - val_loss: 2.0229 - val_accuracy: 0.2011\n",
            "Epoch 6/100\n",
            "24/24 - 9s - loss: 1.8148 - accuracy: 0.3214 - val_loss: 2.0492 - val_accuracy: 0.2116\n",
            "Epoch 7/100\n",
            "24/24 - 9s - loss: 1.7113 - accuracy: 0.3473 - val_loss: 2.0966 - val_accuracy: 0.2275\n",
            "Epoch 8/100\n",
            "24/24 - 9s - loss: 1.6478 - accuracy: 0.3765 - val_loss: 1.9963 - val_accuracy: 0.2540\n",
            "Epoch 9/100\n",
            "24/24 - 9s - loss: 1.5222 - accuracy: 0.4582 - val_loss: 2.0697 - val_accuracy: 0.2910\n",
            "Epoch 10/100\n",
            "24/24 - 9s - loss: 1.4264 - accuracy: 0.4980 - val_loss: 2.0606 - val_accuracy: 0.3069\n",
            "Epoch 11/100\n",
            "24/24 - 9s - loss: 1.3162 - accuracy: 0.5292 - val_loss: 2.1893 - val_accuracy: 0.3069\n",
            "Epoch 12/100\n",
            "24/24 - 9s - loss: 1.2353 - accuracy: 0.5538 - val_loss: 2.0238 - val_accuracy: 0.3122\n",
            "Epoch 13/100\n",
            "24/24 - 9s - loss: 1.1616 - accuracy: 0.5956 - val_loss: 2.4572 - val_accuracy: 0.2434\n",
            "Epoch 14/100\n",
            "24/24 - 9s - loss: 1.0676 - accuracy: 0.6235 - val_loss: 2.1499 - val_accuracy: 0.3228\n",
            "Epoch 15/100\n",
            "24/24 - 9s - loss: 1.0021 - accuracy: 0.6487 - val_loss: 1.9346 - val_accuracy: 0.3228\n",
            "Epoch 16/100\n",
            "24/24 - 9s - loss: 0.9637 - accuracy: 0.6647 - val_loss: 2.2174 - val_accuracy: 0.3228\n",
            "Epoch 17/100\n",
            "24/24 - 9s - loss: 0.9290 - accuracy: 0.6813 - val_loss: 2.4280 - val_accuracy: 0.3122\n",
            "Epoch 18/100\n",
            "24/24 - 9s - loss: 0.8637 - accuracy: 0.6899 - val_loss: 2.2351 - val_accuracy: 0.3280\n",
            "Epoch 19/100\n",
            "24/24 - 9s - loss: 0.8236 - accuracy: 0.7065 - val_loss: 2.2011 - val_accuracy: 0.3175\n",
            "Epoch 20/100\n",
            "24/24 - 9s - loss: 0.7590 - accuracy: 0.7357 - val_loss: 2.2738 - val_accuracy: 0.3122\n",
            "Epoch 21/100\n",
            "24/24 - 9s - loss: 0.7240 - accuracy: 0.7364 - val_loss: 2.3778 - val_accuracy: 0.3386\n",
            "Epoch 22/100\n",
            "24/24 - 9s - loss: 0.6892 - accuracy: 0.7410 - val_loss: 2.3953 - val_accuracy: 0.3016\n",
            "Epoch 23/100\n",
            "24/24 - 9s - loss: 0.6681 - accuracy: 0.7596 - val_loss: 2.7053 - val_accuracy: 0.2910\n",
            "Epoch 24/100\n",
            "24/24 - 9s - loss: 0.6618 - accuracy: 0.7616 - val_loss: 2.3954 - val_accuracy: 0.3333\n",
            "Epoch 25/100\n",
            "24/24 - 9s - loss: 0.6662 - accuracy: 0.7570 - val_loss: 2.3173 - val_accuracy: 0.3175\n"
          ],
          "name": "stdout"
        }
      ]
    },
    {
      "cell_type": "code",
      "metadata": {
        "id": "bMr4VkyC0MJv",
        "outputId": "9630e955-f304-4f07-ebbd-afa5241a782e",
        "colab": {
          "base_uri": "https://localhost:8080/",
          "height": 626
        }
      },
      "source": [
        "plotTrainingAccuracy(history_2)\n",
        "plotTrainingLoss(history_2)\n",
        "evaluateModel(model_2, X_val, y_val)"
      ],
      "execution_count": 11,
      "outputs": [
        {
          "output_type": "display_data",
          "data": {
            "image/png": "[encoded data removed]",
            "text/plain": [
              "<Figure size 432x288 with 1 Axes>"
            ]
          },
          "metadata": {
            "tags": [],
            "needs_background": "light"
          }
        },
        {
          "output_type": "display_data",
          "data": {
            "image/png": "[encoded data removed]",
            "text/plain": [
              "<Figure size 432x288 with 1 Axes>"
            ]
          },
          "metadata": {
            "tags": [],
            "needs_background": "light"
          }
        },
        {
          "output_type": "stream",
          "text": [
            "\n",
            " ### Performance of Test Data ###\n",
            "Validation Accuracy:  0.3174603283405304\n",
            "Validation Loss:  2.3173370361328125 \n",
            "\n"
          ],
          "name": "stdout"
        }
      ]
    },
    {
      "cell_type": "code",
      "metadata": {
        "id": "7dNcPigz0MJz",
        "outputId": "cc99f973-1a4f-420f-cd4a-8156f875cdbc",
        "colab": {
          "base_uri": "https://localhost:8080/",
          "height": 530
        }
      },
      "source": [
        "predictions = predictModel(model_2, X_test)\n",
        "predictions"
      ],
      "execution_count": 12,
      "outputs": [
        {
          "output_type": "stream",
          "text": [
            "WARNING:tensorflow:From <ipython-input-9-141152275d41>:37: Sequential.predict_classes (from tensorflow.python.keras.engine.sequential) is deprecated and will be removed after 2021-01-01.\n",
            "Instructions for updating:\n",
            "Please use instead:* `np.argmax(model.predict(x), axis=-1)`,   if your model does multi-class classification   (e.g. if it uses a `softmax` last-layer activation).* `(model.predict(x) > 0.5).astype(\"int32\")`,   if your model does binary classification   (e.g. if it uses a `sigmoid` last-layer activation).\n"
          ],
          "name": "stdout"
        },
        {
          "output_type": "execute_result",
          "data": {
            "text/plain": [
              "array([9, 9, 4, 1, 5, 5, 9, 1, 0, 9, 4, 7, 8, 8, 1, 3, 4, 4, 7, 1, 4, 7,\n",
              "       7, 7, 4, 7, 9, 5, 0, 1, 3, 1, 8, 7, 6, 0, 7, 1, 9, 9, 6, 0, 1, 9,\n",
              "       7, 3, 6, 1, 3, 6, 7, 6, 4, 0, 8, 3, 8, 6, 4, 0, 7, 3, 8, 9, 0, 0,\n",
              "       1, 6, 0, 3, 0, 7, 0, 4, 0, 8, 9, 7, 1, 5, 6, 1, 6, 7, 4, 6, 6, 7,\n",
              "       9, 6, 0, 8, 0, 7, 3, 1, 3, 7, 7, 6, 7, 3, 1, 7, 3, 3, 1, 1, 7, 7,\n",
              "       6, 1, 4, 5, 0, 8, 1, 5, 5, 4, 8, 0, 0, 1, 1, 0, 6, 6, 4, 9, 7, 3,\n",
              "       7, 3, 3, 7, 4, 4, 7, 4, 4, 7, 5, 8, 3, 0, 0, 0, 1, 8, 7, 0, 5, 6,\n",
              "       3, 5, 3, 7, 1, 1, 6, 6, 7, 7, 7, 6, 6, 3, 7, 0, 5, 0, 8, 3, 6, 8,\n",
              "       3, 0, 6, 8, 9, 4, 7, 7, 7, 4, 7, 3, 0, 3, 6, 7, 7, 4, 3, 8, 8, 7,\n",
              "       7, 7, 5, 7, 7, 7, 6, 4, 7, 9, 6, 3, 0, 1, 9, 9, 5, 7, 7, 4, 3, 7,\n",
              "       9, 0, 1, 7, 7, 8, 8, 7, 8, 7, 0, 7, 7, 5, 7, 8, 6, 7, 3, 3, 6, 5,\n",
              "       6, 7, 5, 5, 7, 7, 1, 3, 7, 0, 3, 8, 0, 7, 4, 3, 7, 7, 7, 7, 5, 6,\n",
              "       4, 3, 7, 3, 7, 4, 8, 9, 3, 6, 3, 6, 1, 7, 9, 7, 1, 1, 4, 6, 3, 7,\n",
              "       6, 8, 3, 3, 7, 1, 7, 7, 0, 7, 7, 3, 5, 6, 8, 8, 1, 9, 1, 8, 6, 6,\n",
              "       8, 3, 3, 4, 6, 8, 7, 6, 9, 3, 3, 1, 7, 3, 8, 7, 6, 3, 6, 3, 0, 6,\n",
              "       6, 7, 7, 5, 7, 8, 1, 7, 6, 6, 1, 6, 8, 9, 9, 6, 3, 6, 7, 7, 8, 4,\n",
              "       3, 5, 8, 7, 7, 8, 7, 5, 3, 4, 7, 3, 8, 7, 6, 6, 4, 6, 7, 5, 0, 7,\n",
              "       1, 8, 6, 7, 9, 4, 1, 3, 3, 3, 1, 7, 5, 0, 0, 9, 9, 5, 6, 8, 6, 5,\n",
              "       3, 7, 8, 6, 7, 4, 6, 3, 7, 6, 3, 7, 1, 9, 5, 7, 7, 4, 1, 5, 6, 3,\n",
              "       6, 0, 6, 8, 7, 8, 3, 4, 7, 7, 6, 0, 3, 6, 6, 7, 7, 1, 9, 7, 7, 8,\n",
              "       0, 8, 0, 6, 3, 6, 7, 3, 3, 9, 4, 9, 1, 1, 7, 7, 3, 3, 8, 4, 0, 6,\n",
              "       7, 7, 3, 7, 4, 7, 3, 3, 7, 0, 7, 6, 5, 5, 1, 7, 8, 7, 7, 3, 3, 5,\n",
              "       9, 5, 7, 9, 1, 3, 9, 6, 1, 3, 7, 4, 7, 8, 1, 4, 7, 5, 7, 3, 3, 6,\n",
              "       0, 7, 0, 8, 3, 5, 6, 8, 1, 4, 6, 3, 4, 3, 7, 3, 7, 4, 6, 3, 7, 5,\n",
              "       0, 3, 7, 9, 7, 6, 1, 8, 6, 7, 0, 0, 7, 3, 5, 9, 0, 1, 4, 7, 8, 9,\n",
              "       3, 0, 6, 1, 9, 5, 7, 4])"
            ]
          },
          "metadata": {
            "tags": []
          },
          "execution_count": 12
        }
      ]
    },
    {
      "cell_type": "code",
      "metadata": {
        "id": "smP6zOC70MJ2"
      },
      "source": [
        "pd.DataFrame(predictions).to_csv(\"submission_2.csv\")"
      ],
      "execution_count": 13,
      "outputs": []
    },
    {
      "cell_type": "markdown",
      "metadata": {
        "id": "W7BsviKk0Osf"
      },
      "source": [
        "# Train Model 3"
      ]
    },
    {
      "cell_type": "code",
      "metadata": {
        "id": "HxFIkfsu0Osg",
        "outputId": "77d28bc7-f41d-41ed-88ff-32484898e9c4",
        "colab": {
          "base_uri": "https://localhost:8080/",
          "height": 867
        }
      },
      "source": [
        "model_3 = get_model_3()\n",
        "history_3 = compileModel(model_3, optimizer = 'adam', epochs = 100)"
      ],
      "execution_count": 14,
      "outputs": [
        {
          "output_type": "stream",
          "text": [
            "Epoch 1/100\n",
            "24/24 - 4s - loss: 2.3545 - accuracy: 0.1235 - val_loss: 2.2505 - val_accuracy: 0.0847\n",
            "Epoch 2/100\n",
            "24/24 - 4s - loss: 2.2556 - accuracy: 0.1248 - val_loss: 2.2350 - val_accuracy: 0.1111\n",
            "Epoch 3/100\n",
            "24/24 - 4s - loss: 2.2249 - accuracy: 0.1448 - val_loss: 2.1973 - val_accuracy: 0.1323\n",
            "Epoch 4/100\n",
            "24/24 - 4s - loss: 2.1710 - accuracy: 0.1434 - val_loss: 2.1525 - val_accuracy: 0.1640\n",
            "Epoch 5/100\n",
            "24/24 - 4s - loss: 2.1329 - accuracy: 0.1786 - val_loss: 2.1367 - val_accuracy: 0.1534\n",
            "Epoch 6/100\n",
            "24/24 - 4s - loss: 2.0585 - accuracy: 0.2125 - val_loss: 2.0676 - val_accuracy: 0.2011\n",
            "Epoch 7/100\n",
            "24/24 - 4s - loss: 1.9460 - accuracy: 0.2523 - val_loss: 1.9994 - val_accuracy: 0.2487\n",
            "Epoch 8/100\n",
            "24/24 - 4s - loss: 1.7814 - accuracy: 0.3267 - val_loss: 1.9277 - val_accuracy: 0.2698\n",
            "Epoch 9/100\n",
            "24/24 - 4s - loss: 1.6303 - accuracy: 0.4004 - val_loss: 1.8889 - val_accuracy: 0.3228\n",
            "Epoch 10/100\n",
            "24/24 - 4s - loss: 1.4875 - accuracy: 0.4542 - val_loss: 1.8155 - val_accuracy: 0.3439\n",
            "Epoch 11/100\n",
            "24/24 - 4s - loss: 1.3301 - accuracy: 0.5286 - val_loss: 1.8257 - val_accuracy: 0.3280\n",
            "Epoch 12/100\n",
            "24/24 - 4s - loss: 1.2454 - accuracy: 0.5531 - val_loss: 1.7582 - val_accuracy: 0.3968\n",
            "Epoch 13/100\n",
            "24/24 - 4s - loss: 1.1077 - accuracy: 0.6189 - val_loss: 1.7691 - val_accuracy: 0.4339\n",
            "Epoch 14/100\n",
            "24/24 - 4s - loss: 0.9994 - accuracy: 0.6580 - val_loss: 1.8567 - val_accuracy: 0.4074\n",
            "Epoch 15/100\n",
            "24/24 - 4s - loss: 0.8792 - accuracy: 0.6853 - val_loss: 1.7174 - val_accuracy: 0.4603\n",
            "Epoch 16/100\n",
            "24/24 - 4s - loss: 0.8118 - accuracy: 0.7145 - val_loss: 1.8240 - val_accuracy: 0.4868\n",
            "Epoch 17/100\n",
            "24/24 - 4s - loss: 0.7707 - accuracy: 0.7297 - val_loss: 1.7343 - val_accuracy: 0.4762\n",
            "Epoch 18/100\n",
            "24/24 - 4s - loss: 0.7408 - accuracy: 0.7371 - val_loss: 1.9573 - val_accuracy: 0.4444\n",
            "Epoch 19/100\n",
            "24/24 - 4s - loss: 0.6681 - accuracy: 0.7663 - val_loss: 1.9168 - val_accuracy: 0.5185\n",
            "Epoch 20/100\n",
            "24/24 - 4s - loss: 0.6424 - accuracy: 0.7776 - val_loss: 1.7405 - val_accuracy: 0.4815\n",
            "Epoch 21/100\n",
            "24/24 - 4s - loss: 0.5756 - accuracy: 0.8035 - val_loss: 1.8731 - val_accuracy: 0.5079\n",
            "Epoch 22/100\n",
            "24/24 - 4s - loss: 0.5761 - accuracy: 0.8028 - val_loss: 1.9643 - val_accuracy: 0.4815\n",
            "Epoch 23/100\n",
            "24/24 - 4s - loss: 0.5273 - accuracy: 0.8127 - val_loss: 1.8184 - val_accuracy: 0.5026\n",
            "Epoch 24/100\n",
            "24/24 - 4s - loss: 0.6154 - accuracy: 0.7882 - val_loss: 1.9719 - val_accuracy: 0.4392\n",
            "Epoch 25/100\n",
            "24/24 - 4s - loss: 0.6139 - accuracy: 0.7869 - val_loss: 1.8901 - val_accuracy: 0.5079\n"
          ],
          "name": "stdout"
        }
      ]
    },
    {
      "cell_type": "code",
      "metadata": {
        "id": "PGkFcHnD0Osj",
        "outputId": "b7c3085a-c86a-40dc-a737-b0879ae529b7",
        "colab": {
          "base_uri": "https://localhost:8080/",
          "height": 626
        }
      },
      "source": [
        "plotTrainingAccuracy(history_3)\n",
        "plotTrainingLoss(history_3)\n",
        "evaluateModel(model_3, X_val, y_val)"
      ],
      "execution_count": 15,
      "outputs": [
        {
          "output_type": "display_data",
          "data": {
            "image/png": "[encoded data removed]",
            "text/plain": [
              "<Figure size 432x288 with 1 Axes>"
            ]
          },
          "metadata": {
            "tags": [],
            "needs_background": "light"
          }
        },
        {
          "output_type": "display_data",
          "data": {
            "image/png": "[encoded data removed]",
            "text/plain": [
              "<Figure size 432x288 with 1 Axes>"
            ]
          },
          "metadata": {
            "tags": [],
            "needs_background": "light"
          }
        },
        {
          "output_type": "stream",
          "text": [
            "\n",
            " ### Performance of Test Data ###\n",
            "Validation Accuracy:  0.5079365372657776\n",
            "Validation Loss:  1.8900771141052246 \n",
            "\n"
          ],
          "name": "stdout"
        }
      ]
    },
    {
      "cell_type": "code",
      "metadata": {
        "id": "uZEoJ90x0Osm",
        "outputId": "ab8b4cd3-a408-40bb-f6d8-aabe7dcad8e7",
        "colab": {
          "base_uri": "https://localhost:8080/",
          "height": 459
        }
      },
      "source": [
        "predictions = predictModel(model_3, X_test)\n",
        "predictions"
      ],
      "execution_count": 16,
      "outputs": [
        {
          "output_type": "execute_result",
          "data": {
            "text/plain": [
              "array([5, 9, 4, 1, 7, 5, 9, 9, 0, 0, 8, 0, 9, 8, 0, 6, 7, 7, 5, 9, 7, 3,\n",
              "       8, 3, 3, 5, 7, 4, 0, 1, 7, 4, 8, 3, 6, 9, 8, 0, 9, 9, 3, 9, 5, 1,\n",
              "       1, 0, 3, 9, 3, 7, 8, 6, 1, 0, 8, 3, 5, 3, 7, 0, 3, 6, 8, 6, 9, 0,\n",
              "       1, 6, 3, 3, 3, 1, 0, 5, 9, 5, 9, 3, 9, 5, 9, 1, 6, 9, 5, 0, 3, 0,\n",
              "       9, 6, 0, 8, 0, 8, 8, 1, 6, 3, 3, 3, 0, 4, 1, 7, 0, 3, 1, 4, 8, 8,\n",
              "       1, 9, 5, 5, 9, 0, 9, 5, 5, 4, 5, 0, 0, 7, 1, 0, 3, 5, 1, 9, 8, 7,\n",
              "       3, 0, 7, 3, 1, 9, 5, 1, 7, 8, 5, 5, 1, 0, 9, 9, 1, 5, 3, 0, 5, 3,\n",
              "       7, 9, 3, 9, 1, 9, 3, 3, 3, 3, 3, 1, 6, 6, 5, 0, 5, 0, 8, 8, 6, 0,\n",
              "       3, 9, 6, 5, 5, 9, 8, 7, 8, 1, 6, 1, 9, 1, 9, 6, 1, 4, 8, 8, 5, 5,\n",
              "       3, 0, 5, 5, 7, 8, 6, 1, 9, 9, 6, 3, 9, 9, 5, 9, 9, 3, 3, 5, 9, 3,\n",
              "       9, 0, 1, 3, 6, 5, 8, 5, 1, 9, 7, 0, 3, 5, 9, 8, 6, 8, 3, 9, 6, 5,\n",
              "       6, 7, 8, 5, 8, 6, 9, 8, 8, 0, 6, 8, 0, 5, 4, 7, 3, 3, 3, 3, 7, 8,\n",
              "       3, 6, 5, 3, 5, 8, 6, 9, 3, 1, 3, 3, 1, 8, 9, 1, 1, 5, 7, 4, 8, 3,\n",
              "       3, 4, 0, 6, 3, 9, 7, 8, 9, 3, 8, 3, 4, 0, 8, 8, 0, 9, 1, 4, 6, 6,\n",
              "       4, 3, 3, 1, 3, 6, 9, 6, 9, 3, 6, 0, 3, 6, 5, 5, 6, 9, 1, 1, 9, 3,\n",
              "       3, 0, 5, 5, 9, 4, 3, 8, 6, 6, 1, 3, 5, 9, 9, 8, 0, 6, 3, 8, 8, 4,\n",
              "       3, 8, 9, 3, 3, 8, 8, 5, 3, 4, 8, 5, 3, 8, 6, 6, 1, 6, 9, 0, 9, 3,\n",
              "       1, 9, 6, 6, 9, 1, 9, 9, 3, 8, 4, 3, 5, 0, 0, 5, 5, 8, 6, 6, 3, 7,\n",
              "       3, 5, 4, 1, 5, 4, 3, 6, 6, 6, 8, 3, 9, 5, 5, 7, 9, 4, 1, 5, 9, 4,\n",
              "       6, 0, 8, 4, 9, 8, 4, 8, 1, 6, 3, 9, 7, 6, 0, 3, 3, 1, 1, 1, 9, 8,\n",
              "       0, 5, 0, 6, 3, 3, 3, 3, 0, 5, 5, 7, 1, 4, 5, 8, 3, 3, 5, 4, 0, 6,\n",
              "       7, 7, 7, 6, 0, 9, 3, 3, 9, 0, 3, 7, 8, 5, 5, 3, 8, 9, 8, 3, 3, 8,\n",
              "       5, 5, 9, 9, 1, 5, 9, 6, 9, 3, 7, 4, 3, 8, 0, 8, 6, 8, 3, 7, 3, 3,\n",
              "       0, 9, 9, 3, 8, 1, 1, 8, 0, 1, 3, 3, 0, 6, 8, 1, 5, 4, 3, 6, 6, 8,\n",
              "       0, 3, 5, 9, 8, 8, 1, 5, 1, 3, 0, 3, 3, 0, 4, 7, 9, 1, 4, 7, 8, 9,\n",
              "       6, 9, 3, 1, 5, 5, 6, 5])"
            ]
          },
          "metadata": {
            "tags": []
          },
          "execution_count": 16
        }
      ]
    },
    {
      "cell_type": "code",
      "metadata": {
        "id": "6JacDGpT0Osp"
      },
      "source": [
        "pd.DataFrame(predictions).to_csv(\"submission_3.csv\")"
      ],
      "execution_count": 17,
      "outputs": []
    }
  ]
}