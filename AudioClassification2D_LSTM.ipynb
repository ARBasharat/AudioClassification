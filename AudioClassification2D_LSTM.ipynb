{
  "nbformat": 4,
  "nbformat_minor": 0,
  "metadata": {
    "colab": {
      "name": "AudioClassification2D_LSTM.ipynb",
      "provenance": [],
      "collapsed_sections": [],
      "include_colab_link": true
    },
    "kernelspec": {
      "display_name": "Python 3",
      "name": "python3"
    },
    "accelerator": "GPU"
  },
  "cells": [
    {
      "cell_type": "markdown",
      "metadata": {
        "id": "view-in-github",
        "colab_type": "text"
      },
      "source": [
        "<a href=\"https://colab.research.google.com/github/ARBasharat/AudioClassification/blob/master/AudioClassification2D_LSTM.ipynb\" target=\"_parent\"><img src=\"https://colab.research.google.com/assets/colab-badge.svg\" alt=\"Open In Colab\"/></a>"
      ]
    },
    {
      "cell_type": "markdown",
      "metadata": {
        "id": "8yzxm-fj2nqy"
      },
      "source": [
        "abbash@iu.edu <br/>\n",
        "Audio Spectrogram Classification using LSTM <br/>"
      ]
    },
    {
      "cell_type": "markdown",
      "metadata": {
        "id": "lgIDOENui_ic"
      },
      "source": [
        "# Load Libraries"
      ]
    },
    {
      "cell_type": "code",
      "metadata": {
        "id": "iAve6DCL4JH4"
      },
      "source": [
        "import os\n",
        "import random\n",
        "import time\n",
        "import tensorflow as tf\n",
        "from tensorflow import keras\n",
        "import numpy as np\n",
        "import pandas as pd\n",
        "from tensorflow.keras import datasets, layers, models\n",
        "from sklearn.model_selection import train_test_split\n",
        "import matplotlib.pyplot as plt\n",
        "import librosa\n",
        "from scipy import signal"
      ],
      "execution_count": 1,
      "outputs": []
    },
    {
      "cell_type": "markdown",
      "metadata": {
        "id": "9QFJAOZNFfiX"
      },
      "source": [
        "# Read Data from Google Drive"
      ]
    },
    {
      "cell_type": "code",
      "metadata": {
        "id": "iYA5MGNeFdH3",
        "outputId": "44bb41ad-b6e7-498f-e175-d2aa98ecf0e6",
        "colab": {
          "base_uri": "https://localhost:8080/",
          "height": 34
        }
      },
      "source": [
        "from google.colab import drive\n",
        "drive.mount(\"/content/drive\")\n",
        "\n",
        "train = np.load(\"drive/My Drive/AudioClassification/audio_train.npy\").astype('float32')\n",
        "test = np.load(\"drive/My Drive/AudioClassification/audio_test.npy\").astype('float32')\n",
        "train_labels_df = pd.read_csv(\"drive/My Drive/AudioClassification/labels_train.csv\")\n"
      ],
      "execution_count": 2,
      "outputs": [
        {
          "output_type": "stream",
          "text": [
            "Mounted at /content/drive\n"
          ],
          "name": "stdout"
        }
      ]
    },
    {
      "cell_type": "markdown",
      "metadata": {
        "id": "yUv0VHZH54Fj"
      },
      "source": [
        "# Process the data"
      ]
    },
    {
      "cell_type": "code",
      "metadata": {
        "id": "11jFsu6TxU8b",
        "outputId": "08d3822f-b610-4d4d-9592-c60316dfde1f",
        "colab": {
          "base_uri": "https://localhost:8080/",
          "height": 102
        }
      },
      "source": [
        "train_labels = train_labels_df.to_numpy()[:,1]\n",
        "labels_categorical = keras.utils.to_categorical(train_labels)\n",
        "X_train_original, X_val_original, y_train_original, y_val = train_test_split(train, \n",
        "                          labels_categorical, test_size=0.20, random_state=42)\n",
        "\n",
        "print(\"Training Data:\", X_train_original.shape)\n",
        "print(\"Training Labels:\", y_train_original.shape)\n",
        "print(\"Validation Data:\", X_val_original.shape)\n",
        "print(\"Validation Labels:\", y_val.shape)\n",
        "print(\"Testing Data:\", test.shape)"
      ],
      "execution_count": 5,
      "outputs": [
        {
          "output_type": "stream",
          "text": [
            "Training Data: (753, 30000)\n",
            "Training Labels: (753, 10)\n",
            "Validation Data: (189, 30000)\n",
            "Validation Labels: (189, 10)\n",
            "Testing Data: (558, 30000)\n"
          ],
          "name": "stdout"
        }
      ]
    },
    {
      "cell_type": "code",
      "metadata": {
        "id": "1YPGKIztk3HC"
      },
      "source": [
        "## We switch between white and normal noise randomly\n",
        "\n",
        "def add_white_noise(data, rate = 0.05):\n",
        "  data_with_white_noise = data + rate * np.random.randn(len(data))\n",
        "  return data_with_white_noise\n",
        "\n",
        "'''\n",
        "Noise addition using normal distribution with mean = 0 and std =1\n",
        "Permissible noise factor value = x > 0.004\n",
        "'''\n",
        "def add_normal_distributed_noise(data, rate = 0.09, sr = 30000):\n",
        "  data_with_noramlized_noise = data + rate * np.random.normal(0, 1, len(data))\n",
        "  return data_with_noramlized_noise\n",
        "\n",
        "'''\n",
        "Time Shifting\n",
        "Permissible factor values = sr/10\n",
        "'''\n",
        "def add_time_shift(data, sr = 30000):\n",
        "  data_with_time_shift = np.roll(data, int(sr/10))\n",
        "  return data_with_time_shift\n",
        "\n",
        "'''\n",
        "Time Stretching\n",
        "Permissible factor values = 0 < x < 1.0\n",
        "'''\n",
        "def add_time_stretch(data, factor = 0.8):\n",
        "  data_with_time_strect = librosa.effects.time_stretch(data, factor)\n",
        "  return data_with_time_strect\n",
        "\n",
        "\n",
        "'''\n",
        "Pitch shifting\n",
        "Permissible factor values = -5 <= x <= 5\n",
        "'''\n",
        "def add_pitch_shift(data, sr = 30000, steps = -7):\n",
        "  data_with_pitch_shift = librosa.effects.pitch_shift(data, sr, n_steps = steps)\n",
        "  return data_with_pitch_shift"
      ],
      "execution_count": 6,
      "outputs": []
    },
    {
      "cell_type": "code",
      "metadata": {
        "id": "_l-qPHisuteE",
        "outputId": "58ac952b-d527-47a7-e9dc-ee9f8db0a93b",
        "colab": {
          "base_uri": "https://localhost:8080/",
          "height": 34
        }
      },
      "source": [
        "# Get augmented_training data equal to size of real data\n",
        "def get_augmented_data_two_times(X_train_original, y_train_original):\n",
        "  new_data = []\n",
        "  new_labels = []\n",
        "  for i in range(0, len(X_train_original)):\n",
        "    data = X_train_original[i]\n",
        "    label = y_train_original[i]\n",
        "    choice = random.choice([1, 2, 3, 4, 5]) ## Used for selecting between white noise and normalized noise\n",
        "    ## get augmented data\n",
        "    new_data.append(data)\n",
        "    if choice == 1:\n",
        "      new_data.append(add_white_noise(data))\n",
        "    elif choice == 2:\n",
        "      new_data.append(add_normal_distributed_noise(data))\n",
        "    elif choice == 3:\n",
        "      new_data.append(add_time_shift(data))\n",
        "    elif choice == 4:\n",
        "      new_data.append(add_time_stretch(data))\n",
        "    elif choice == 5:\n",
        "      new_data.append(add_pitch_shift(data))\n",
        "    ## get labels\n",
        "    new_labels.append(label)\n",
        "    new_labels.append(label)\n",
        "\n",
        "  ## Shuffle data\n",
        "  compressed = list(zip(new_data, new_labels))\n",
        "  random.shuffle(compressed)\n",
        "  new_data, new_labels = zip(*compressed)\n",
        "\n",
        "  ## Get augmented train data and labels\n",
        "  train_data = np.array(new_data)\n",
        "  y_train = np.array(new_labels)\n",
        "  return train_data, y_train\n",
        "\n",
        "train_data, y_train = get_augmented_data_two_times(X_train_original, y_train_original)\n",
        "print(train_data.shape, y_train.shape)"
      ],
      "execution_count": 7,
      "outputs": [
        {
          "output_type": "stream",
          "text": [
            "(1506,) (1506, 10)\n"
          ],
          "name": "stdout"
        }
      ]
    },
    {
      "cell_type": "code",
      "metadata": {
        "id": "GOP7SkntypV_"
      },
      "source": [
        "def get_spectrogram(in_data):\n",
        "  spectrogram = []\n",
        "  for elem in in_data:\n",
        "    converted = librosa.stft(elem)\n",
        "    spectrum, _ = librosa.magphase(converted)\n",
        "    spectrum = np.abs(spectrum).astype(np.float32)\n",
        "    norm = spectrum.max()\n",
        "    spectrum /= norm\n",
        "    result = np.zeros((spectrum.shape[0], 74))\n",
        "    result[:spectrum.shape[0],:spectrum.shape[1]] = spectrum\n",
        "    result = result.reshape((result.shape[0], result.shape[1]))\n",
        "    spectrogram.append(result)\n",
        "  spectrogram = np.array(spectrogram)\n",
        "  return spectrogram"
      ],
      "execution_count": 21,
      "outputs": []
    },
    {
      "cell_type": "code",
      "metadata": {
        "id": "RkyiQ0KPt3tN",
        "outputId": "1cfdb73e-74b3-4e8a-b5b5-d3eb30a6e7f4",
        "colab": {
          "base_uri": "https://localhost:8080/",
          "height": 68
        }
      },
      "source": [
        "X_train = get_spectrogram(train_data)\n",
        "X_val = get_spectrogram(X_val_original)\n",
        "X_test = get_spectrogram(test)\n",
        "\n",
        "print(\"Train Shape: \", X_train.shape, y_train.shape)\n",
        "print(\"Validation Shape: \", X_val.shape, y_val.shape)\n",
        "print(\"Test Shape: \", X_test.shape)"
      ],
      "execution_count": 25,
      "outputs": [
        {
          "output_type": "stream",
          "text": [
            "Train Shape:  (1506, 1025, 74) (1506, 10)\n",
            "Validation Shape:  (189, 1025, 74) (189, 10)\n",
            "Test Shape:  (558, 1025, 74)\n"
          ],
          "name": "stdout"
        }
      ]
    },
    {
      "cell_type": "code",
      "metadata": {
        "id": "xfs4wPqjqHCT"
      },
      "source": [
        "def plot_performance_curves(history):\n",
        "  #  \"Accuracy\"\n",
        "  plt.plot(history.history['acc'])\n",
        "  plt.plot(history.history['val_acc'])\n",
        "  plt.title('model accuracy')\n",
        "  plt.ylabel('accuracy')\n",
        "  plt.xlabel('epoch')\n",
        "  plt.legend(['train', 'validation'], loc='upper left')\n",
        "  plt.show()\n",
        "  # \"Loss\"\n",
        "  plt.plot(history.history['loss'])\n",
        "  plt.plot(history.history['val_loss'])\n",
        "  plt.title('model loss')\n",
        "  plt.ylabel('loss')\n",
        "  plt.xlabel('epoch')\n",
        "  plt.legend(['train', 'validation'], loc='upper left')\n",
        "  plt.show()"
      ],
      "execution_count": 41,
      "outputs": []
    },
    {
      "cell_type": "markdown",
      "metadata": {
        "id": "k8ot9i2BWRiG"
      },
      "source": [
        "# Train LTSM Model"
      ]
    },
    {
      "cell_type": "code",
      "metadata": {
        "id": "-oog5mnMkLQF"
      },
      "source": [
        "def get_model(X_train):\n",
        "  model = keras.models.Sequential()\n",
        "  model.add(layers.Bidirectional(layers.LSTM(256, return_sequences=True), \n",
        "                        input_shape=X_train[0].shape))\n",
        "  model.add(layers.Bidirectional(layers.LSTM(256, return_sequences=True)))\n",
        "  model.add(layers.Dropout(0.2))\n",
        "  model.add(layers.Dense(400))\n",
        "  model.add(layers.ELU())\n",
        "  model.add(layers.Dropout(0.2))\n",
        "  model.add(layers.Flatten())\n",
        "  model.add(layers.Dense(10, activation='softmax'))\n",
        "  return model "
      ],
      "execution_count": 34,
      "outputs": []
    },
    {
      "cell_type": "code",
      "metadata": {
        "id": "-64lw1Jalpoz",
        "outputId": "7c3972dd-13c6-4870-e3b8-377b3ad2948b",
        "colab": {
          "base_uri": "https://localhost:8080/",
          "height": 1000
        }
      },
      "source": [
        "model = get_model(X_train)\n",
        "model.summary()\n",
        "model.compile(loss='categorical_crossentropy',\n",
        "              optimizer=keras.optimizers.Adam(0.005, beta_1=0.1, beta_2=0.001, amsgrad=True),\n",
        "              metrics=['acc'])\n",
        "\n",
        "callback = tf.keras.callbacks.EarlyStopping(monitor='val_loss', patience=10)\n",
        "history = model.fit(X_train, y_train, batch_size=64, epochs=200,\n",
        "          verbose=2, validation_data=(X_val, y_val), callbacks=callback)"
      ],
      "execution_count": 35,
      "outputs": [
        {
          "output_type": "stream",
          "text": [
            "Model: \"sequential_8\"\n",
            "_________________________________________________________________\n",
            "Layer (type)                 Output Shape              Param #   \n",
            "=================================================================\n",
            "bidirectional_14 (Bidirectio (None, 1025, 512)         677888    \n",
            "_________________________________________________________________\n",
            "bidirectional_15 (Bidirectio (None, 1025, 512)         1574912   \n",
            "_________________________________________________________________\n",
            "dropout_12 (Dropout)         (None, 1025, 512)         0         \n",
            "_________________________________________________________________\n",
            "dense_11 (Dense)             (None, 1025, 400)         205200    \n",
            "_________________________________________________________________\n",
            "elu_6 (ELU)                  (None, 1025, 400)         0         \n",
            "_________________________________________________________________\n",
            "dropout_13 (Dropout)         (None, 1025, 400)         0         \n",
            "_________________________________________________________________\n",
            "flatten_1 (Flatten)          (None, 410000)            0         \n",
            "_________________________________________________________________\n",
            "dense_12 (Dense)             (None, 10)                4100010   \n",
            "=================================================================\n",
            "Total params: 6,558,010\n",
            "Trainable params: 6,558,010\n",
            "Non-trainable params: 0\n",
            "_________________________________________________________________\n",
            "Epoch 1/200\n",
            "24/24 - 12s - loss: 22.3986 - acc: 0.1467 - val_loss: 1.9086 - val_acc: 0.3862\n",
            "Epoch 2/200\n",
            "24/24 - 11s - loss: 2.0329 - acc: 0.4283 - val_loss: 1.4065 - val_acc: 0.5132\n",
            "Epoch 3/200\n",
            "24/24 - 11s - loss: 1.3820 - acc: 0.5784 - val_loss: 1.2723 - val_acc: 0.5503\n",
            "Epoch 4/200\n",
            "24/24 - 11s - loss: 1.0625 - acc: 0.6713 - val_loss: 0.7396 - val_acc: 0.8042\n",
            "Epoch 5/200\n",
            "24/24 - 11s - loss: 0.9108 - acc: 0.7165 - val_loss: 0.6430 - val_acc: 0.8095\n",
            "Epoch 6/200\n",
            "24/24 - 11s - loss: 0.7843 - acc: 0.7503 - val_loss: 0.5163 - val_acc: 0.8942\n",
            "Epoch 7/200\n",
            "24/24 - 11s - loss: 0.6967 - acc: 0.7882 - val_loss: 0.4934 - val_acc: 0.8730\n",
            "Epoch 8/200\n",
            "24/24 - 11s - loss: 0.5970 - acc: 0.8088 - val_loss: 0.4607 - val_acc: 0.8730\n",
            "Epoch 9/200\n",
            "24/24 - 11s - loss: 0.5269 - acc: 0.8426 - val_loss: 0.4477 - val_acc: 0.8466\n",
            "Epoch 10/200\n",
            "24/24 - 11s - loss: 0.5016 - acc: 0.8446 - val_loss: 0.4138 - val_acc: 0.8836\n",
            "Epoch 11/200\n",
            "24/24 - 11s - loss: 0.4459 - acc: 0.8652 - val_loss: 0.3776 - val_acc: 0.8836\n",
            "Epoch 12/200\n",
            "24/24 - 11s - loss: 0.4119 - acc: 0.8765 - val_loss: 0.3167 - val_acc: 0.9312\n",
            "Epoch 13/200\n",
            "24/24 - 11s - loss: 0.3780 - acc: 0.8798 - val_loss: 0.3810 - val_acc: 0.8889\n",
            "Epoch 14/200\n",
            "24/24 - 11s - loss: 0.3561 - acc: 0.8818 - val_loss: 0.3257 - val_acc: 0.9153\n",
            "Epoch 15/200\n",
            "24/24 - 11s - loss: 0.3428 - acc: 0.8931 - val_loss: 0.3852 - val_acc: 0.8677\n",
            "Epoch 16/200\n",
            "24/24 - 11s - loss: 0.3185 - acc: 0.8971 - val_loss: 0.2718 - val_acc: 0.9259\n",
            "Epoch 17/200\n",
            "24/24 - 11s - loss: 0.3079 - acc: 0.8997 - val_loss: 0.3184 - val_acc: 0.9048\n",
            "Epoch 18/200\n",
            "24/24 - 11s - loss: 0.2795 - acc: 0.9143 - val_loss: 0.2760 - val_acc: 0.9206\n",
            "Epoch 19/200\n",
            "24/24 - 11s - loss: 0.2714 - acc: 0.9110 - val_loss: 0.2744 - val_acc: 0.9206\n",
            "Epoch 20/200\n",
            "24/24 - 11s - loss: 0.2365 - acc: 0.9256 - val_loss: 0.2503 - val_acc: 0.9365\n",
            "Epoch 21/200\n",
            "24/24 - 11s - loss: 0.2633 - acc: 0.9170 - val_loss: 0.2836 - val_acc: 0.9101\n",
            "Epoch 22/200\n",
            "24/24 - 11s - loss: 0.2265 - acc: 0.9256 - val_loss: 0.2369 - val_acc: 0.9312\n",
            "Epoch 23/200\n",
            "24/24 - 11s - loss: 0.1950 - acc: 0.9422 - val_loss: 0.3626 - val_acc: 0.8836\n",
            "Epoch 24/200\n",
            "24/24 - 11s - loss: 0.2417 - acc: 0.9190 - val_loss: 0.3590 - val_acc: 0.9206\n",
            "Epoch 25/200\n",
            "24/24 - 11s - loss: 0.2088 - acc: 0.9363 - val_loss: 0.2352 - val_acc: 0.9365\n",
            "Epoch 26/200\n",
            "24/24 - 11s - loss: 0.1843 - acc: 0.9436 - val_loss: 0.2102 - val_acc: 0.9365\n",
            "Epoch 27/200\n",
            "24/24 - 11s - loss: 0.1683 - acc: 0.9456 - val_loss: 0.2462 - val_acc: 0.9418\n",
            "Epoch 28/200\n",
            "24/24 - 11s - loss: 0.1884 - acc: 0.9416 - val_loss: 0.2252 - val_acc: 0.9365\n",
            "Epoch 29/200\n",
            "24/24 - 11s - loss: 0.1549 - acc: 0.9522 - val_loss: 0.2690 - val_acc: 0.8942\n",
            "Epoch 30/200\n",
            "24/24 - 11s - loss: 0.1474 - acc: 0.9529 - val_loss: 0.2047 - val_acc: 0.9471\n",
            "Epoch 31/200\n",
            "24/24 - 11s - loss: 0.1500 - acc: 0.9482 - val_loss: 0.2975 - val_acc: 0.9153\n",
            "Epoch 32/200\n",
            "24/24 - 11s - loss: 0.1446 - acc: 0.9568 - val_loss: 0.2497 - val_acc: 0.9312\n",
            "Epoch 33/200\n",
            "24/24 - 11s - loss: 0.1192 - acc: 0.9668 - val_loss: 0.3029 - val_acc: 0.9048\n",
            "Epoch 34/200\n",
            "24/24 - 11s - loss: 0.1157 - acc: 0.9661 - val_loss: 0.2348 - val_acc: 0.9259\n",
            "Epoch 35/200\n",
            "24/24 - 11s - loss: 0.1097 - acc: 0.9655 - val_loss: 0.2637 - val_acc: 0.9101\n",
            "Epoch 36/200\n",
            "24/24 - 11s - loss: 0.1062 - acc: 0.9701 - val_loss: 0.3029 - val_acc: 0.9259\n",
            "Epoch 37/200\n",
            "24/24 - 11s - loss: 0.1099 - acc: 0.9588 - val_loss: 0.2406 - val_acc: 0.9312\n",
            "Epoch 38/200\n",
            "24/24 - 11s - loss: 0.1129 - acc: 0.9635 - val_loss: 0.2151 - val_acc: 0.9418\n",
            "Epoch 39/200\n",
            "24/24 - 11s - loss: 0.0963 - acc: 0.9714 - val_loss: 0.3852 - val_acc: 0.9101\n",
            "Epoch 40/200\n",
            "24/24 - 11s - loss: 0.0943 - acc: 0.9721 - val_loss: 0.2437 - val_acc: 0.9259\n"
          ],
          "name": "stdout"
        }
      ]
    },
    {
      "cell_type": "code",
      "metadata": {
        "id": "QmAiqc6eKfca",
        "outputId": "41e4b51b-2546-489c-af7c-f2b49f453461",
        "colab": {
          "base_uri": "https://localhost:8080/",
          "height": 590
        }
      },
      "source": [
        "model.evaluate(X_val, y_val)\n",
        "plot_performance_curves(history)"
      ],
      "execution_count": 42,
      "outputs": [
        {
          "output_type": "stream",
          "text": [
            "6/6 [==============================] - 1s 99ms/step - loss: 0.2437 - acc: 0.9259\n"
          ],
          "name": "stdout"
        },
        {
          "output_type": "display_data",
          "data": {
            "image/png": "[encoded data removed]",
            "text/plain": [
              "<Figure size 432x288 with 1 Axes>"
            ]
          },
          "metadata": {
            "tags": [],
            "needs_background": "light"
          }
        },
        {
          "output_type": "display_data",
          "data": {
            "image/png": "[encoded data removed]",
            "text/plain": [
              "<Figure size 432x288 with 1 Axes>"
            ]
          },
          "metadata": {
            "tags": [],
            "needs_background": "light"
          }
        }
      ]
    },
    {
      "cell_type": "code",
      "metadata": {
        "id": "C_fHcKA1GCkE",
        "outputId": "f273d717-f1f9-457d-999c-dc5cb2eb7509",
        "colab": {
          "base_uri": "https://localhost:8080/",
          "height": 459
        }
      },
      "source": [
        "predictions = model.predict(X_test)\n",
        "prediction_classes = model.predict_classes(X_test)\n",
        "prediction_classes"
      ],
      "execution_count": 44,
      "outputs": [
        {
          "output_type": "execute_result",
          "data": {
            "text/plain": [
              "array([5, 9, 4, 1, 4, 5, 9, 3, 3, 7, 7, 3, 1, 8, 0, 7, 7, 3, 5, 3, 3, 3,\n",
              "       9, 6, 3, 5, 7, 7, 0, 4, 4, 1, 3, 1, 6, 3, 1, 3, 9, 9, 0, 1, 5, 9,\n",
              "       4, 7, 3, 3, 3, 6, 9, 6, 0, 0, 8, 3, 5, 6, 3, 3, 3, 7, 8, 7, 0, 0,\n",
              "       4, 6, 3, 3, 3, 4, 3, 5, 1, 4, 9, 7, 1, 5, 0, 1, 6, 9, 7, 3, 3, 3,\n",
              "       1, 6, 0, 8, 0, 8, 7, 7, 3, 3, 6, 6, 0, 3, 7, 3, 7, 3, 3, 4, 1, 3,\n",
              "       3, 3, 7, 7, 1, 9, 9, 4, 5, 1, 5, 9, 3, 4, 3, 3, 7, 3, 0, 3, 8, 7,\n",
              "       3, 3, 3, 6, 7, 3, 5, 4, 1, 1, 4, 8, 7, 3, 3, 3, 1, 5, 0, 9, 5, 3,\n",
              "       3, 9, 3, 9, 4, 0, 3, 6, 0, 7, 3, 7, 7, 3, 5, 0, 4, 0, 8, 8, 6, 3,\n",
              "       7, 3, 6, 5, 5, 1, 0, 7, 6, 1, 0, 1, 3, 3, 9, 6, 1, 4, 8, 8, 4, 5,\n",
              "       7, 6, 7, 5, 7, 1, 6, 6, 9, 9, 6, 3, 3, 9, 5, 9, 1, 7, 0, 5, 1, 1,\n",
              "       9, 3, 3, 3, 6, 4, 8, 5, 8, 9, 7, 3, 3, 7, 5, 8, 6, 8, 3, 3, 6, 9,\n",
              "       6, 9, 4, 5, 0, 7, 9, 3, 9, 3, 3, 8, 0, 5, 8, 7, 7, 6, 7, 3, 7, 3,\n",
              "       3, 3, 5, 1, 5, 8, 6, 9, 3, 3, 3, 7, 9, 0, 9, 1, 1, 5, 1, 7, 3, 9,\n",
              "       3, 8, 7, 3, 0, 3, 3, 3, 3, 3, 5, 3, 3, 3, 8, 8, 0, 0, 4, 8, 8, 6,\n",
              "       6, 3, 3, 1, 1, 7, 0, 7, 9, 3, 3, 3, 3, 1, 4, 1, 6, 7, 3, 3, 3, 3,\n",
              "       6, 3, 7, 4, 1, 4, 3, 9, 3, 3, 1, 7, 9, 9, 9, 3, 3, 6, 8, 8, 8, 4,\n",
              "       3, 8, 3, 3, 3, 6, 8, 7, 3, 4, 7, 8, 3, 8, 3, 6, 7, 6, 9, 9, 9, 0,\n",
              "       1, 1, 9, 4, 9, 1, 1, 3, 3, 3, 8, 3, 4, 0, 9, 7, 7, 6, 3, 6, 3, 7,\n",
              "       7, 5, 4, 4, 5, 4, 3, 3, 4, 7, 3, 0, 1, 5, 5, 7, 1, 1, 1, 5, 0, 3,\n",
              "       6, 3, 6, 4, 1, 8, 7, 3, 9, 6, 6, 3, 3, 3, 3, 6, 6, 3, 7, 1, 1, 8,\n",
              "       0, 4, 0, 6, 3, 6, 4, 7, 3, 1, 4, 9, 1, 5, 1, 4, 3, 3, 4, 4, 0, 1,\n",
              "       5, 7, 7, 3, 3, 9, 3, 3, 9, 3, 3, 3, 8, 5, 1, 3, 6, 4, 4, 3, 3, 4,\n",
              "       5, 5, 0, 9, 1, 5, 9, 6, 3, 3, 3, 1, 1, 8, 0, 3, 8, 8, 8, 7, 3, 7,\n",
              "       3, 9, 3, 6, 7, 8, 3, 8, 1, 1, 3, 3, 3, 6, 4, 8, 4, 1, 3, 6, 4, 7,\n",
              "       3, 3, 1, 1, 4, 3, 3, 8, 3, 7, 3, 3, 6, 3, 7, 7, 3, 3, 4, 4, 8, 4,\n",
              "       7, 3, 3, 1, 5, 5, 7, 5])"
            ]
          },
          "metadata": {
            "tags": []
          },
          "execution_count": 44
        }
      ]
    },
    {
      "cell_type": "code",
      "metadata": {
        "id": "4YUd7wc7qYWP",
        "outputId": "0edf6c8d-4323-4c19-a6bd-3718cf6d9bd3",
        "colab": {
          "base_uri": "https://localhost:8080/",
          "height": 34
        }
      },
      "source": [
        "import collections\n",
        "counter=collections.Counter(prediction_classes)\n",
        "print(counter)"
      ],
      "execution_count": 45,
      "outputs": [
        {
          "output_type": "stream",
          "text": [
            "Counter({3: 164, 7: 68, 1: 59, 6: 50, 9: 48, 4: 48, 8: 43, 5: 42, 0: 36})\n"
          ],
          "name": "stdout"
        }
      ]
    },
    {
      "cell_type": "code",
      "metadata": {
        "id": "O2wHfkotGFPr"
      },
      "source": [
        "pd.DataFrame(prediction_classes).to_csv(\"submission.csv\")"
      ],
      "execution_count": 46,
      "outputs": []
    }
  ]
}