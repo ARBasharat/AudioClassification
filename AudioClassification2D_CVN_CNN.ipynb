{
  "nbformat": 4,
  "nbformat_minor": 0,
  "metadata": {
    "colab": {
      "name": "AudioClassification2D_CVN.ipynb",
      "provenance": [],
      "collapsed_sections": [],
      "include_colab_link": true
    },
    "kernelspec": {
      "display_name": "Python 3",
      "name": "python3"
    },
    "accelerator": "GPU"
  },
  "cells": [
    {
      "cell_type": "markdown",
      "metadata": {
        "id": "view-in-github",
        "colab_type": "text"
      },
      "source": [
        "<a href=\"https://colab.research.google.com/github/ARBasharat/AudioClassification/blob/master/AudioClassification2D_CVN_CNN.ipynb\" target=\"_parent\"><img src=\"https://colab.research.google.com/assets/colab-badge.svg\" alt=\"Open In Colab\"/></a>"
      ]
    },
    {
      "cell_type": "markdown",
      "metadata": {
        "id": "8yzxm-fj2nqy"
      },
      "source": [
        "Contact: abbash@iu.edu <br/>\n",
        "Audio Spectrogram Classification using Convolutional Variational Network and Random Forest <br/>"
      ]
    },
    {
      "cell_type": "markdown",
      "metadata": {
        "id": "ISPbyjrIJkuv"
      },
      "source": [
        "# Import Libraries"
      ]
    },
    {
      "cell_type": "code",
      "metadata": {
        "id": "iAve6DCL4JH4"
      },
      "source": [
        "import random\n",
        "import tensorflow as tf\n",
        "from tensorflow import keras\n",
        "import numpy as np\n",
        "import pandas as pd\n",
        "from tensorflow.keras import datasets, layers, models\n",
        "from sklearn.model_selection import train_test_split\n",
        "import matplotlib.pyplot as plt\n",
        "import librosa\n",
        "from scipy import signal\n",
        "from sklearn.ensemble import RandomForestClassifier\n",
        "from sklearn.datasets import make_classification\n",
        "from sklearn.model_selection import cross_val_score\n",
        "from sklearn.metrics import classification_report, confusion_matrix"
      ],
      "execution_count": 26,
      "outputs": []
    },
    {
      "cell_type": "markdown",
      "metadata": {
        "id": "9QFJAOZNFfiX"
      },
      "source": [
        "# Read Data from Google Drive"
      ]
    },
    {
      "cell_type": "code",
      "metadata": {
        "id": "iYA5MGNeFdH3",
        "outputId": "fa454857-5ea9-4f13-af78-de4df2f60a6e",
        "colab": {
          "base_uri": "https://localhost:8080/",
          "height": 34
        }
      },
      "source": [
        "from google.colab import drive\n",
        "drive.mount(\"/content/drive\")\n",
        "\n",
        "train = np.load(\"drive/My Drive/AudioClassification/audio_train.npy\").astype('float32')\n",
        "test = np.load(\"drive/My Drive/AudioClassification/audio_test.npy\").astype('float32')\n",
        "train_labels_df = pd.read_csv(\"drive/My Drive/AudioClassification/labels_train.csv\")\n"
      ],
      "execution_count": 3,
      "outputs": [
        {
          "output_type": "stream",
          "text": [
            "Drive already mounted at /content/drive; to attempt to forcibly remount, call drive.mount(\"/content/drive\", force_remount=True).\n"
          ],
          "name": "stdout"
        }
      ]
    },
    {
      "cell_type": "markdown",
      "metadata": {
        "id": "yUv0VHZH54Fj"
      },
      "source": [
        "# Process the data"
      ]
    },
    {
      "cell_type": "code",
      "metadata": {
        "id": "11jFsu6TxU8b",
        "outputId": "2d41a0e7-b3b4-45d4-9f05-6766d3cc7bd9",
        "colab": {
          "base_uri": "https://localhost:8080/",
          "height": 51
        }
      },
      "source": [
        "train_labels = train_labels_df.to_numpy()[:,1]\n",
        "labels_categorical = keras.utils.to_categorical(train_labels)\n",
        "print(\"Training Labels:\", labels_categorical.shape)\n",
        "\n",
        "# train and test combined\n",
        "train_data = np.concatenate((train, test), axis=0)\n",
        "print(\"Training Data:\", train_data.shape)"
      ],
      "execution_count": 4,
      "outputs": [
        {
          "output_type": "stream",
          "text": [
            "Training Labels: (942, 10)\n",
            "Training Data: (1500, 30000)\n"
          ],
          "name": "stdout"
        }
      ]
    },
    {
      "cell_type": "code",
      "metadata": {
        "id": "1YPGKIztk3HC"
      },
      "source": [
        "## We switch between white and normal noise randomly\n",
        "\n",
        "def add_white_noise(data, rate = 0.05):\n",
        "  data_with_white_noise = data + rate * np.random.randn(len(data))\n",
        "  return data_with_white_noise\n",
        "\n",
        "'''\n",
        "Noise addition using normal distribution with mean = 0 and std =1\n",
        "Permissible noise factor value = x > 0.004\n",
        "'''\n",
        "def add_normal_distributed_noise(data, rate = 0.09, sr = 30000):\n",
        "  data_with_noramlized_noise = data + rate * np.random.normal(0, 1, len(data))\n",
        "  return data_with_noramlized_noise\n",
        "\n",
        "'''\n",
        "Time Shifting\n",
        "Permissible factor values = sr/10\n",
        "'''\n",
        "def add_time_shift(data, sr = 30000):\n",
        "  data_with_time_shift = np.roll(data, int(sr/10))\n",
        "  return data_with_time_shift\n",
        "\n",
        "'''\n",
        "Time Stretching\n",
        "Permissible factor values = 0 < x < 1.0\n",
        "'''\n",
        "def add_time_stretch(data, factor = 0.8):\n",
        "  data_with_time_strect = librosa.effects.time_stretch(data, factor)\n",
        "  return data_with_time_strect\n",
        "\n",
        "\n",
        "'''\n",
        "Pitch shifting\n",
        "Permissible factor values = -5 <= x <= 5\n",
        "'''\n",
        "def add_pitch_shift(data, sr = 30000, steps = -7):\n",
        "  data_with_pitch_shift = librosa.effects.pitch_shift(data, sr, n_steps = steps)\n",
        "  return data_with_pitch_shift"
      ],
      "execution_count": 5,
      "outputs": []
    },
    {
      "cell_type": "code",
      "metadata": {
        "id": "_l-qPHisuteE"
      },
      "source": [
        "# Get augmented_training data equal to size of real data\n",
        "def get_augmented_data_two_times(X_train_original, y_train_original):\n",
        "  new_data = []\n",
        "  new_labels = []\n",
        "  for i in range(0, len(X_train_original)):\n",
        "    data = X_train_original[i]\n",
        "    label = y_train_original[i]\n",
        "    choice = random.choice([1, 2, 3, 4, 5]) ## Used for selecting between white noise and normalized noise\n",
        "    ## get augmented data\n",
        "    new_data.append(data)\n",
        "    if choice == 1:\n",
        "      new_data.append(add_white_noise(data))\n",
        "    elif choice == 2:\n",
        "      new_data.append(add_normal_distributed_noise(data))\n",
        "    elif choice == 3:\n",
        "      new_data.append(add_time_shift(data))\n",
        "    elif choice == 4:\n",
        "      new_data.append(add_time_stretch(data))\n",
        "    elif choice == 5:\n",
        "      new_data.append(add_pitch_shift(data))\n",
        "    ## get labels\n",
        "    new_labels.append(label)\n",
        "    new_labels.append(label)\n",
        "\n",
        "  ## Shuffle data\n",
        "  compressed = list(zip(new_data, new_labels))\n",
        "  random.shuffle(compressed)\n",
        "  new_data, new_labels = zip(*compressed)\n",
        "\n",
        "  ## Get augmented train data and labels\n",
        "  train_data = np.array(new_data)\n",
        "  y_train = np.array(new_labels)\n",
        "  return train_data, y_train\n",
        "\n",
        "#train_data, y_train = get_augmented_data_two_times(X_train_original, y_train_original)\n",
        "#print(train_data.shape, y_train.shape)"
      ],
      "execution_count": 6,
      "outputs": []
    },
    {
      "cell_type": "code",
      "metadata": {
        "id": "GOP7SkntypV_"
      },
      "source": [
        "def get_spectrogram(in_data):\n",
        "  spectrogram = []\n",
        "  for elem in in_data:\n",
        "    converted = librosa.stft(elem)\n",
        "    spectrum, _ = librosa.magphase(converted)\n",
        "    spectrum = np.abs(spectrum).astype(np.float32)\n",
        "    norm = spectrum.max()\n",
        "    spectrum /= norm\n",
        "    result = np.zeros((1028, 76))\n",
        "    result[:spectrum.shape[0],:spectrum.shape[1]] = spectrum\n",
        "    result = result.reshape((result.shape[0], result.shape[1], 1))\n",
        "    spectrogram.append(result)\n",
        "  spectrogram = np.array(spectrogram)\n",
        "  return spectrogram"
      ],
      "execution_count": 8,
      "outputs": []
    },
    {
      "cell_type": "code",
      "metadata": {
        "id": "RkyiQ0KPt3tN",
        "outputId": "15f3440f-bc41-4a95-c480-253fe222f3ee",
        "colab": {
          "base_uri": "https://localhost:8080/",
          "height": 51
        }
      },
      "source": [
        "X_train = get_spectrogram(train_data)\n",
        "X_test = get_spectrogram(test)\n",
        "X_val = get_spectrogram(train)\n",
        "print(\"Train Shapes: \", X_train.shape)\n",
        "print(\"Test Shapes: \", X_test.shape)"
      ],
      "execution_count": 18,
      "outputs": [
        {
          "output_type": "stream",
          "text": [
            "Train Shapes:  (1500, 1028, 76, 1)\n",
            "Test Shapes:  (558, 1028, 76, 1)\n"
          ],
          "name": "stdout"
        }
      ]
    },
    {
      "cell_type": "markdown",
      "metadata": {
        "id": "k8ot9i2BWRiG"
      },
      "source": [
        "# **Model Definations**"
      ]
    },
    {
      "cell_type": "code",
      "metadata": {
        "id": "s7Ke0wJypw2f"
      },
      "source": [
        "class Sampling(layers.Layer):\n",
        "    \"\"\"Uses (z_mean, z_log_var) to sample z, the vector encoding a digit.\"\"\"\n",
        "\n",
        "    def call(self, inputs):\n",
        "        z_mean, z_log_var = inputs\n",
        "        batch = tf.shape(z_mean)[0]\n",
        "        dim = tf.shape(z_mean)[1]\n",
        "        epsilon = tf.keras.backend.random_normal(shape=(batch, dim))\n",
        "        return z_mean + tf.exp(0.5 * z_log_var) * epsilon"
      ],
      "execution_count": 11,
      "outputs": []
    },
    {
      "cell_type": "code",
      "metadata": {
        "id": "Incn3uxNqPvg"
      },
      "source": [
        "class VAE(keras.Model):\n",
        "    def __init__(self, encoder, decoder, **kwargs):\n",
        "        super(VAE, self).__init__(**kwargs)\n",
        "        self.encoder = encoder\n",
        "        self.decoder = decoder\n",
        "\n",
        "    def train_step(self, data):\n",
        "        if isinstance(data, tuple):\n",
        "            data = data[0]\n",
        "        with tf.GradientTape() as tape:\n",
        "            z_mean, z_log_var, z = encoder(data)\n",
        "            reconstruction = decoder(z)\n",
        "            \n",
        "            reconstruction_loss = tf.reduce_mean(\n",
        "                keras.losses.binary_crossentropy(data, reconstruction)\n",
        "            )\n",
        "            reconstruction_loss *= 1028 * 76\n",
        "            \n",
        "            kl_loss = 1 + z_log_var - tf.square(z_mean) - tf.exp(z_log_var)\n",
        "            kl_loss = tf.reduce_mean(kl_loss)\n",
        "            kl_loss *= -0.5\n",
        "            \n",
        "            total_loss = reconstruction_loss + kl_loss\n",
        "        grads = tape.gradient(total_loss, self.trainable_weights)\n",
        "        self.optimizer.apply_gradients(zip(grads, self.trainable_weights))\n",
        "        return {\n",
        "            \"loss\": total_loss,\n",
        "            \"reconstruction_loss\": reconstruction_loss,\n",
        "            \"kl_loss\": kl_loss,\n",
        "        }"
      ],
      "execution_count": 12,
      "outputs": []
    },
    {
      "cell_type": "markdown",
      "metadata": {
        "id": "_a_fdxCIU_wU"
      },
      "source": [
        "# Train Models with 2 Latent Dimensions to get an idea of CVN performance"
      ]
    },
    {
      "cell_type": "code",
      "metadata": {
        "id": "oAMklBx2_ttM"
      },
      "source": [
        "latent_dim = 2\n",
        "batch_size = 32"
      ],
      "execution_count": 14,
      "outputs": []
    },
    {
      "cell_type": "code",
      "metadata": {
        "id": "9Zhb0BqyyF_Z",
        "outputId": "620b1218-67f6-4597-bcb8-3a6051c116eb",
        "colab": {
          "base_uri": "https://localhost:8080/",
          "height": 680
        }
      },
      "source": [
        "encoder_inputs = keras.Input(shape=X_train[0].shape)\n",
        "x = layers.Conv2D(32, kernel_size=(2, 2), activation='relu', padding=\"same\")(encoder_inputs)\n",
        "x = layers.Conv2D(32, kernel_size=(2, 2), activation='relu', padding=\"same\")(x)\n",
        "x = layers.MaxPooling2D(pool_size=(2, 2))(x)\n",
        "x = layers.Conv2D(64, kernel_size=(2, 2), activation='relu', padding=\"same\")(x)\n",
        "x = layers.Conv2D(64, kernel_size=(2, 2), activation='relu', padding=\"same\")(x)\n",
        "x = layers.MaxPooling2D(pool_size=(2, 2))(x)\n",
        "x = layers.Conv2D(128, kernel_size=(2, 2), activation='relu', padding=\"same\")(x)\n",
        "x = layers.Conv2D(256, kernel_size=(2, 2), activation='relu', padding=\"same\")(x)\n",
        "x = layers.Flatten()(x)\n",
        "x = layers.Dense(128, activation='relu')(x)\n",
        "x = layers.Dense(64, activation='relu')(x)\n",
        "z_mean = layers.Dense(latent_dim, name=\"z_mean\")(x)\n",
        "z_log_var = layers.Dense(latent_dim, name=\"z_log_var\")(x)\n",
        "z = Sampling()([z_mean, z_log_var])\n",
        "encoder = keras.Model(encoder_inputs, [z_mean, z_log_var, z], name=\"encoder\")\n",
        "encoder.summary()"
      ],
      "execution_count": 15,
      "outputs": [
        {
          "output_type": "stream",
          "text": [
            "Model: \"encoder\"\n",
            "__________________________________________________________________________________________________\n",
            "Layer (type)                    Output Shape         Param #     Connected to                     \n",
            "==================================================================================================\n",
            "input_2 (InputLayer)            [(None, 1028, 76, 1) 0                                            \n",
            "__________________________________________________________________________________________________\n",
            "conv2d_6 (Conv2D)               (None, 1028, 76, 32) 160         input_2[0][0]                    \n",
            "__________________________________________________________________________________________________\n",
            "conv2d_7 (Conv2D)               (None, 1028, 76, 32) 4128        conv2d_6[0][0]                   \n",
            "__________________________________________________________________________________________________\n",
            "max_pooling2d_2 (MaxPooling2D)  (None, 514, 38, 32)  0           conv2d_7[0][0]                   \n",
            "__________________________________________________________________________________________________\n",
            "conv2d_8 (Conv2D)               (None, 514, 38, 64)  8256        max_pooling2d_2[0][0]            \n",
            "__________________________________________________________________________________________________\n",
            "conv2d_9 (Conv2D)               (None, 514, 38, 64)  16448       conv2d_8[0][0]                   \n",
            "__________________________________________________________________________________________________\n",
            "max_pooling2d_3 (MaxPooling2D)  (None, 257, 19, 64)  0           conv2d_9[0][0]                   \n",
            "__________________________________________________________________________________________________\n",
            "conv2d_10 (Conv2D)              (None, 257, 19, 128) 32896       max_pooling2d_3[0][0]            \n",
            "__________________________________________________________________________________________________\n",
            "conv2d_11 (Conv2D)              (None, 257, 19, 256) 131328      conv2d_10[0][0]                  \n",
            "__________________________________________________________________________________________________\n",
            "flatten_1 (Flatten)             (None, 1250048)      0           conv2d_11[0][0]                  \n",
            "__________________________________________________________________________________________________\n",
            "dense_2 (Dense)                 (None, 128)          160006272   flatten_1[0][0]                  \n",
            "__________________________________________________________________________________________________\n",
            "dense_3 (Dense)                 (None, 64)           8256        dense_2[0][0]                    \n",
            "__________________________________________________________________________________________________\n",
            "z_mean (Dense)                  (None, 2)            130         dense_3[0][0]                    \n",
            "__________________________________________________________________________________________________\n",
            "z_log_var (Dense)               (None, 2)            130         dense_3[0][0]                    \n",
            "__________________________________________________________________________________________________\n",
            "sampling (Sampling)             (None, 2)            0           z_mean[0][0]                     \n",
            "                                                                 z_log_var[0][0]                  \n",
            "==================================================================================================\n",
            "Total params: 160,208,004\n",
            "Trainable params: 160,208,004\n",
            "Non-trainable params: 0\n",
            "__________________________________________________________________________________________________\n"
          ],
          "name": "stdout"
        }
      ]
    },
    {
      "cell_type": "code",
      "metadata": {
        "id": "lZqDlzS13EEA",
        "outputId": "e21c1fcd-70d4-4bf7-e11f-fc7a92fe941d",
        "colab": {
          "base_uri": "https://localhost:8080/",
          "height": 493
        }
      },
      "source": [
        "latent_inputs = keras.Input(shape=(latent_dim,))\n",
        "x = layers.Dense(257 * 19 * 64, activation=\"relu\")(latent_inputs)\n",
        "x = layers.Reshape((257, 19, 64))(x)\n",
        "x = layers.Conv2DTranspose(256, 3, activation=\"relu\", padding=\"same\")(x)\n",
        "x = layers.Conv2DTranspose(128, 3, activation=\"relu\", padding=\"same\")(x)\n",
        "x = layers.Conv2DTranspose(64, 3, activation=\"relu\", strides=2, padding=\"same\")(x)\n",
        "x = layers.Conv2DTranspose(64, 3, activation=\"relu\", padding=\"same\")(x)\n",
        "x = layers.Conv2DTranspose(32, 3, activation=\"relu\", strides=2, padding=\"same\")(x)\n",
        "x = layers.Conv2DTranspose(32, 3, activation=\"relu\", padding=\"same\")(x)\n",
        "decoder_outputs = layers.Conv2DTranspose(1, 3, activation=\"sigmoid\", padding=\"same\")(x)\n",
        "decoder = keras.Model(latent_inputs, decoder_outputs, name=\"decoder\")\n",
        "decoder.summary()"
      ],
      "execution_count": 16,
      "outputs": [
        {
          "output_type": "stream",
          "text": [
            "Model: \"decoder\"\n",
            "_________________________________________________________________\n",
            "Layer (type)                 Output Shape              Param #   \n",
            "=================================================================\n",
            "input_3 (InputLayer)         [(None, 2)]               0         \n",
            "_________________________________________________________________\n",
            "dense_4 (Dense)              (None, 312512)            937536    \n",
            "_________________________________________________________________\n",
            "reshape (Reshape)            (None, 257, 19, 64)       0         \n",
            "_________________________________________________________________\n",
            "conv2d_transpose (Conv2DTran (None, 257, 19, 256)      147712    \n",
            "_________________________________________________________________\n",
            "conv2d_transpose_1 (Conv2DTr (None, 257, 19, 128)      295040    \n",
            "_________________________________________________________________\n",
            "conv2d_transpose_2 (Conv2DTr (None, 514, 38, 64)       73792     \n",
            "_________________________________________________________________\n",
            "conv2d_transpose_3 (Conv2DTr (None, 514, 38, 64)       36928     \n",
            "_________________________________________________________________\n",
            "conv2d_transpose_4 (Conv2DTr (None, 1028, 76, 32)      18464     \n",
            "_________________________________________________________________\n",
            "conv2d_transpose_5 (Conv2DTr (None, 1028, 76, 32)      9248      \n",
            "_________________________________________________________________\n",
            "conv2d_transpose_6 (Conv2DTr (None, 1028, 76, 1)       289       \n",
            "=================================================================\n",
            "Total params: 1,519,009\n",
            "Trainable params: 1,519,009\n",
            "Non-trainable params: 0\n",
            "_________________________________________________________________\n"
          ],
          "name": "stdout"
        }
      ]
    },
    {
      "cell_type": "code",
      "metadata": {
        "id": "ZhokMEqhqkKR",
        "outputId": "deda8f99-9b0d-4d77-9373-b223e0776c71",
        "colab": {
          "base_uri": "https://localhost:8080/",
          "height": 1000
        }
      },
      "source": [
        "vae = VAE(encoder, decoder)\n",
        "vae.compile(optimizer=keras.optimizers.Adam())\n",
        "history = vae.fit(X_train, X_train, epochs=100, batch_size=batch_size)"
      ],
      "execution_count": 17,
      "outputs": [
        {
          "output_type": "stream",
          "text": [
            "Epoch 1/100\n",
            " 2/47 [>.............................] - ETA: 10s - loss: 53971.3496 - reconstruction_loss: 53971.3457 - kl_loss: 0.0032   WARNING:tensorflow:Callbacks method `on_train_batch_end` is slow compared to the batch time (batch time: 0.1530s vs `on_train_batch_end` time: 0.2971s). Check your callbacks.\n",
            "47/47 [==============================] - 23s 483ms/step - loss: 9691.3011 - reconstruction_loss: 7150.7911 - kl_loss: 2540.5100\n",
            "Epoch 2/100\n",
            "47/47 [==============================] - 21s 455ms/step - loss: 1017.3155 - reconstruction_loss: 1017.3153 - kl_loss: 1.6871e-04\n",
            "Epoch 3/100\n",
            "47/47 [==============================] - 22s 461ms/step - loss: 893.6787 - reconstruction_loss: 893.6785 - kl_loss: 1.9816e-04\n",
            "Epoch 4/100\n",
            "47/47 [==============================] - 22s 470ms/step - loss: 863.4549 - reconstruction_loss: 863.1231 - kl_loss: 0.3318\n",
            "Epoch 5/100\n",
            "47/47 [==============================] - 23s 479ms/step - loss: 856.4476 - reconstruction_loss: 855.6096 - kl_loss: 0.8381\n",
            "Epoch 6/100\n",
            "47/47 [==============================] - 23s 490ms/step - loss: 850.0865 - reconstruction_loss: 849.1678 - kl_loss: 0.9187\n",
            "Epoch 7/100\n",
            "47/47 [==============================] - 23s 498ms/step - loss: 847.2684 - reconstruction_loss: 846.3931 - kl_loss: 0.8753\n",
            "Epoch 8/100\n",
            "47/47 [==============================] - 23s 500ms/step - loss: 848.3647 - reconstruction_loss: 847.2762 - kl_loss: 1.0885\n",
            "Epoch 9/100\n",
            "47/47 [==============================] - 23s 498ms/step - loss: 844.7412 - reconstruction_loss: 843.8137 - kl_loss: 0.9275\n",
            "Epoch 10/100\n",
            "47/47 [==============================] - 24s 501ms/step - loss: 846.6119 - reconstruction_loss: 845.8246 - kl_loss: 0.7874\n",
            "Epoch 11/100\n",
            "47/47 [==============================] - 24s 505ms/step - loss: 846.1014 - reconstruction_loss: 845.3326 - kl_loss: 0.7688\n",
            "Epoch 12/100\n",
            "47/47 [==============================] - 24s 507ms/step - loss: 840.7811 - reconstruction_loss: 839.7257 - kl_loss: 1.0554\n",
            "Epoch 13/100\n",
            "47/47 [==============================] - 24s 510ms/step - loss: 809.6000 - reconstruction_loss: 806.7683 - kl_loss: 2.8317\n",
            "Epoch 14/100\n",
            "47/47 [==============================] - 24s 512ms/step - loss: 792.7069 - reconstruction_loss: 789.8542 - kl_loss: 2.8527\n",
            "Epoch 15/100\n",
            "47/47 [==============================] - 24s 514ms/step - loss: 787.4129 - reconstruction_loss: 784.4347 - kl_loss: 2.9782\n",
            "Epoch 16/100\n",
            "47/47 [==============================] - 24s 514ms/step - loss: 782.7600 - reconstruction_loss: 779.6776 - kl_loss: 3.0824\n",
            "Epoch 17/100\n",
            "47/47 [==============================] - 24s 514ms/step - loss: 779.6507 - reconstruction_loss: 776.6686 - kl_loss: 2.9821\n",
            "Epoch 18/100\n",
            "47/47 [==============================] - 24s 515ms/step - loss: 777.7473 - reconstruction_loss: 774.7913 - kl_loss: 2.9560\n",
            "Epoch 19/100\n",
            "47/47 [==============================] - 24s 514ms/step - loss: 777.5217 - reconstruction_loss: 774.4992 - kl_loss: 3.0224\n",
            "Epoch 20/100\n",
            "47/47 [==============================] - 24s 514ms/step - loss: 774.9360 - reconstruction_loss: 771.9749 - kl_loss: 2.9611\n",
            "Epoch 21/100\n",
            "47/47 [==============================] - 24s 514ms/step - loss: 771.9659 - reconstruction_loss: 768.9559 - kl_loss: 3.0099\n",
            "Epoch 22/100\n",
            "47/47 [==============================] - 25s 522ms/step - loss: 773.5737 - reconstruction_loss: 770.6405 - kl_loss: 2.9332\n",
            "Epoch 23/100\n",
            "47/47 [==============================] - 25s 535ms/step - loss: 769.5092 - reconstruction_loss: 766.5158 - kl_loss: 2.9934\n",
            "Epoch 24/100\n",
            "47/47 [==============================] - 25s 531ms/step - loss: 772.0875 - reconstruction_loss: 769.1275 - kl_loss: 2.9600\n",
            "Epoch 25/100\n",
            "47/47 [==============================] - 25s 525ms/step - loss: 770.3037 - reconstruction_loss: 767.3890 - kl_loss: 2.9147\n",
            "Epoch 26/100\n",
            "47/47 [==============================] - 25s 530ms/step - loss: 769.0724 - reconstruction_loss: 766.1623 - kl_loss: 2.9102\n",
            "Epoch 27/100\n",
            "47/47 [==============================] - 25s 531ms/step - loss: 768.5817 - reconstruction_loss: 765.6538 - kl_loss: 2.9279\n",
            "Epoch 28/100\n",
            "47/47 [==============================] - 25s 530ms/step - loss: 766.9387 - reconstruction_loss: 763.9985 - kl_loss: 2.9402\n",
            "Epoch 29/100\n",
            "47/47 [==============================] - 25s 529ms/step - loss: 767.6748 - reconstruction_loss: 764.8082 - kl_loss: 2.8667\n",
            "Epoch 30/100\n",
            "47/47 [==============================] - 25s 527ms/step - loss: 766.1453 - reconstruction_loss: 763.2379 - kl_loss: 2.9074\n",
            "Epoch 31/100\n",
            "47/47 [==============================] - 25s 527ms/step - loss: 764.7312 - reconstruction_loss: 761.8412 - kl_loss: 2.8900\n",
            "Epoch 32/100\n",
            "47/47 [==============================] - 25s 527ms/step - loss: 768.1697 - reconstruction_loss: 765.2880 - kl_loss: 2.8817\n",
            "Epoch 33/100\n",
            "47/47 [==============================] - 25s 528ms/step - loss: 764.2915 - reconstruction_loss: 761.4153 - kl_loss: 2.8761\n",
            "Epoch 34/100\n",
            "47/47 [==============================] - 25s 527ms/step - loss: 766.3546 - reconstruction_loss: 763.4481 - kl_loss: 2.9065\n",
            "Epoch 35/100\n",
            "47/47 [==============================] - 25s 526ms/step - loss: 765.9587 - reconstruction_loss: 763.0725 - kl_loss: 2.8863\n",
            "Epoch 36/100\n",
            "47/47 [==============================] - 25s 529ms/step - loss: 766.9807 - reconstruction_loss: 764.1006 - kl_loss: 2.8801\n",
            "Epoch 37/100\n",
            "47/47 [==============================] - 25s 530ms/step - loss: 764.1224 - reconstruction_loss: 761.1501 - kl_loss: 2.9724\n",
            "Epoch 38/100\n",
            "47/47 [==============================] - 25s 530ms/step - loss: 765.7605 - reconstruction_loss: 762.7637 - kl_loss: 2.9968\n",
            "Epoch 39/100\n",
            "47/47 [==============================] - 25s 531ms/step - loss: 763.9968 - reconstruction_loss: 761.0312 - kl_loss: 2.9657\n",
            "Epoch 40/100\n",
            "47/47 [==============================] - 25s 532ms/step - loss: 759.7756 - reconstruction_loss: 756.8344 - kl_loss: 2.9412\n",
            "Epoch 41/100\n",
            "47/47 [==============================] - 25s 532ms/step - loss: 762.4687 - reconstruction_loss: 759.5464 - kl_loss: 2.9223\n",
            "Epoch 42/100\n",
            "47/47 [==============================] - 25s 530ms/step - loss: 762.7972 - reconstruction_loss: 759.7915 - kl_loss: 3.0057\n",
            "Epoch 43/100\n",
            "47/47 [==============================] - 25s 529ms/step - loss: 764.0615 - reconstruction_loss: 761.1142 - kl_loss: 2.9473\n",
            "Epoch 44/100\n",
            "47/47 [==============================] - 25s 529ms/step - loss: 761.8158 - reconstruction_loss: 758.7712 - kl_loss: 3.0446\n",
            "Epoch 45/100\n",
            "47/47 [==============================] - 25s 528ms/step - loss: 757.8181 - reconstruction_loss: 754.8352 - kl_loss: 2.9829\n",
            "Epoch 46/100\n",
            "47/47 [==============================] - 25s 529ms/step - loss: 760.6622 - reconstruction_loss: 757.6734 - kl_loss: 2.9887\n",
            "Epoch 47/100\n",
            "47/47 [==============================] - 25s 528ms/step - loss: 758.5459 - reconstruction_loss: 755.5667 - kl_loss: 2.9792\n",
            "Epoch 48/100\n",
            "47/47 [==============================] - 25s 528ms/step - loss: 761.7797 - reconstruction_loss: 758.7997 - kl_loss: 2.9800\n",
            "Epoch 49/100\n",
            "47/47 [==============================] - 25s 529ms/step - loss: 760.0971 - reconstruction_loss: 757.0722 - kl_loss: 3.0248\n",
            "Epoch 50/100\n",
            "47/47 [==============================] - 25s 529ms/step - loss: 758.6835 - reconstruction_loss: 755.6606 - kl_loss: 3.0229\n",
            "Epoch 51/100\n",
            "47/47 [==============================] - 25s 529ms/step - loss: 757.2681 - reconstruction_loss: 754.2200 - kl_loss: 3.0480\n",
            "Epoch 52/100\n",
            "47/47 [==============================] - 25s 528ms/step - loss: 759.5950 - reconstruction_loss: 756.5648 - kl_loss: 3.0302\n",
            "Epoch 53/100\n",
            "47/47 [==============================] - 25s 529ms/step - loss: 757.7746 - reconstruction_loss: 754.7474 - kl_loss: 3.0272\n",
            "Epoch 54/100\n",
            "47/47 [==============================] - 25s 529ms/step - loss: 758.0131 - reconstruction_loss: 754.9862 - kl_loss: 3.0269\n",
            "Epoch 55/100\n",
            "47/47 [==============================] - 25s 528ms/step - loss: 756.6850 - reconstruction_loss: 753.6433 - kl_loss: 3.0416\n",
            "Epoch 56/100\n",
            "47/47 [==============================] - 25s 529ms/step - loss: 756.3039 - reconstruction_loss: 753.2157 - kl_loss: 3.0881\n",
            "Epoch 57/100\n",
            "47/47 [==============================] - 25s 530ms/step - loss: 755.7032 - reconstruction_loss: 752.6159 - kl_loss: 3.0872\n",
            "Epoch 58/100\n",
            "47/47 [==============================] - 25s 528ms/step - loss: 758.2526 - reconstruction_loss: 755.1567 - kl_loss: 3.0959\n",
            "Epoch 59/100\n",
            "47/47 [==============================] - 25s 528ms/step - loss: 754.2295 - reconstruction_loss: 751.1243 - kl_loss: 3.1051\n",
            "Epoch 60/100\n",
            "47/47 [==============================] - 25s 528ms/step - loss: 753.2859 - reconstruction_loss: 750.2094 - kl_loss: 3.0765\n",
            "Epoch 61/100\n",
            "47/47 [==============================] - 25s 528ms/step - loss: 756.8537 - reconstruction_loss: 753.7228 - kl_loss: 3.1309\n",
            "Epoch 62/100\n",
            "47/47 [==============================] - 25s 530ms/step - loss: 758.0136 - reconstruction_loss: 754.9463 - kl_loss: 3.0674\n",
            "Epoch 63/100\n",
            "47/47 [==============================] - 25s 529ms/step - loss: 756.3142 - reconstruction_loss: 753.1882 - kl_loss: 3.1259\n",
            "Epoch 64/100\n",
            "47/47 [==============================] - 25s 529ms/step - loss: 754.9189 - reconstruction_loss: 751.8378 - kl_loss: 3.0811\n",
            "Epoch 65/100\n",
            "47/47 [==============================] - 25s 529ms/step - loss: 753.8110 - reconstruction_loss: 750.6553 - kl_loss: 3.1556\n",
            "Epoch 66/100\n",
            "47/47 [==============================] - 25s 529ms/step - loss: 753.9567 - reconstruction_loss: 750.8229 - kl_loss: 3.1338\n",
            "Epoch 67/100\n",
            "47/47 [==============================] - 25s 529ms/step - loss: 754.9624 - reconstruction_loss: 751.8396 - kl_loss: 3.1228\n",
            "Epoch 68/100\n",
            "47/47 [==============================] - 25s 529ms/step - loss: 752.3879 - reconstruction_loss: 749.1927 - kl_loss: 3.1952\n",
            "Epoch 69/100\n",
            "47/47 [==============================] - 25s 529ms/step - loss: 749.8778 - reconstruction_loss: 746.6876 - kl_loss: 3.1902\n",
            "Epoch 70/100\n",
            "47/47 [==============================] - 25s 529ms/step - loss: 754.6476 - reconstruction_loss: 751.5009 - kl_loss: 3.1467\n",
            "Epoch 71/100\n",
            "47/47 [==============================] - 25s 529ms/step - loss: 753.0860 - reconstruction_loss: 749.9354 - kl_loss: 3.1506\n",
            "Epoch 72/100\n",
            "47/47 [==============================] - 25s 529ms/step - loss: 753.0651 - reconstruction_loss: 749.8711 - kl_loss: 3.1940\n",
            "Epoch 73/100\n",
            "47/47 [==============================] - 25s 530ms/step - loss: 751.5533 - reconstruction_loss: 748.3691 - kl_loss: 3.1842\n",
            "Epoch 74/100\n",
            "47/47 [==============================] - 25s 530ms/step - loss: 754.8794 - reconstruction_loss: 751.6190 - kl_loss: 3.2603\n",
            "Epoch 75/100\n",
            "47/47 [==============================] - 25s 530ms/step - loss: 753.2028 - reconstruction_loss: 749.9872 - kl_loss: 3.2156\n",
            "Epoch 76/100\n",
            "47/47 [==============================] - 25s 529ms/step - loss: 751.5114 - reconstruction_loss: 748.3211 - kl_loss: 3.1902\n",
            "Epoch 77/100\n",
            "47/47 [==============================] - 25s 529ms/step - loss: 750.8019 - reconstruction_loss: 747.5912 - kl_loss: 3.2107\n",
            "Epoch 78/100\n",
            "47/47 [==============================] - 25s 530ms/step - loss: 752.5447 - reconstruction_loss: 749.2987 - kl_loss: 3.2460\n",
            "Epoch 79/100\n",
            "47/47 [==============================] - 25s 530ms/step - loss: 750.5162 - reconstruction_loss: 747.2960 - kl_loss: 3.2201\n",
            "Epoch 80/100\n",
            "47/47 [==============================] - 25s 530ms/step - loss: 753.0682 - reconstruction_loss: 749.8916 - kl_loss: 3.1766\n",
            "Epoch 81/100\n",
            "47/47 [==============================] - 25s 530ms/step - loss: 751.7763 - reconstruction_loss: 748.5248 - kl_loss: 3.2514\n",
            "Epoch 82/100\n",
            "47/47 [==============================] - 25s 529ms/step - loss: 751.6712 - reconstruction_loss: 748.4406 - kl_loss: 3.2306\n",
            "Epoch 83/100\n",
            "47/47 [==============================] - 25s 528ms/step - loss: 755.0297 - reconstruction_loss: 751.8238 - kl_loss: 3.2059\n",
            "Epoch 84/100\n",
            "47/47 [==============================] - 25s 527ms/step - loss: 748.2858 - reconstruction_loss: 744.9728 - kl_loss: 3.3130\n",
            "Epoch 85/100\n",
            "47/47 [==============================] - 25s 524ms/step - loss: 748.8773 - reconstruction_loss: 745.5944 - kl_loss: 3.2829\n",
            "Epoch 86/100\n",
            "47/47 [==============================] - 25s 523ms/step - loss: 751.8845 - reconstruction_loss: 748.6405 - kl_loss: 3.2440\n",
            "Epoch 87/100\n",
            "47/47 [==============================] - 25s 523ms/step - loss: 750.6088 - reconstruction_loss: 747.3017 - kl_loss: 3.3071\n",
            "Epoch 88/100\n",
            "47/47 [==============================] - 25s 523ms/step - loss: 752.7863 - reconstruction_loss: 749.5257 - kl_loss: 3.2605\n",
            "Epoch 89/100\n",
            "47/47 [==============================] - 25s 523ms/step - loss: 750.3971 - reconstruction_loss: 747.1173 - kl_loss: 3.2797\n",
            "Epoch 90/100\n",
            "47/47 [==============================] - 25s 522ms/step - loss: 749.7941 - reconstruction_loss: 746.4697 - kl_loss: 3.3244\n",
            "Epoch 91/100\n",
            "47/47 [==============================] - 25s 522ms/step - loss: 749.7992 - reconstruction_loss: 746.4592 - kl_loss: 3.3400\n",
            "Epoch 92/100\n",
            "47/47 [==============================] - 25s 522ms/step - loss: 747.3911 - reconstruction_loss: 744.0999 - kl_loss: 3.2912\n",
            "Epoch 93/100\n",
            "47/47 [==============================] - 25s 522ms/step - loss: 749.7599 - reconstruction_loss: 746.4326 - kl_loss: 3.3273\n",
            "Epoch 94/100\n",
            "47/47 [==============================] - 25s 522ms/step - loss: 752.3963 - reconstruction_loss: 749.0823 - kl_loss: 3.3140\n",
            "Epoch 95/100\n",
            "47/47 [==============================] - 25s 522ms/step - loss: 749.5040 - reconstruction_loss: 746.1641 - kl_loss: 3.3399\n",
            "Epoch 96/100\n",
            "47/47 [==============================] - 25s 522ms/step - loss: 747.8676 - reconstruction_loss: 744.4899 - kl_loss: 3.3776\n",
            "Epoch 97/100\n",
            "47/47 [==============================] - 25s 522ms/step - loss: 747.6726 - reconstruction_loss: 744.2938 - kl_loss: 3.3788\n",
            "Epoch 98/100\n",
            "47/47 [==============================] - 25s 522ms/step - loss: 746.6809 - reconstruction_loss: 743.3333 - kl_loss: 3.3476\n",
            "Epoch 99/100\n",
            "47/47 [==============================] - 25s 522ms/step - loss: 748.0750 - reconstruction_loss: 744.6877 - kl_loss: 3.3873\n",
            "Epoch 100/100\n",
            "47/47 [==============================] - 25s 522ms/step - loss: 748.6623 - reconstruction_loss: 745.3154 - kl_loss: 3.3469\n"
          ],
          "name": "stdout"
        }
      ]
    },
    {
      "cell_type": "code",
      "metadata": {
        "id": "zfE35PDhxLw9",
        "outputId": "98decef7-3fa6-4d83-8bca-b845512f068a",
        "colab": {
          "base_uri": "https://localhost:8080/",
          "height": 34
        }
      },
      "source": [
        "## Get embeded data\n",
        "a, b, X_val_encoded = encoder.predict(X_val)\n",
        "print(X_val_encoded.shape)"
      ],
      "execution_count": 19,
      "outputs": [
        {
          "output_type": "stream",
          "text": [
            "(942, 2)\n"
          ],
          "name": "stdout"
        }
      ]
    },
    {
      "cell_type": "code",
      "metadata": {
        "id": "SJBUOaPxx8x7",
        "outputId": "de1b662d-7beb-4f17-87c3-1fe899ce0e42",
        "colab": {
          "base_uri": "https://localhost:8080/",
          "height": 378
        }
      },
      "source": [
        "## Generate plot\n",
        "plt.figure(figsize=(6, 6))\n",
        "cmap = plt.get_cmap('tab10', 10)\n",
        "plt.scatter(X_val_encoded[:, 0], X_val_encoded[:, 1], c=train_labels, cmap=cmap)\n",
        "plt.colorbar()\n",
        "plt.show()"
      ],
      "execution_count": 20,
      "outputs": [
        {
          "output_type": "display_data",
          "data": {
            "image/png": "[encoded data removed]",
            "text/plain": [
              "<Figure size 432x432 with 2 Axes>"
            ]
          },
          "metadata": {
            "tags": [],
            "needs_background": "light"
          }
        }
      ]
    },
    {
      "cell_type": "code",
      "metadata": {
        "id": "AiG6dduI79oQ",
        "outputId": "36372fbe-097e-4e01-ad1b-176ed6e94c90",
        "colab": {
          "base_uri": "https://localhost:8080/",
          "height": 378
        }
      },
      "source": [
        "a, b, X_test_encoded = encoder.predict(X_test)\n",
        "## Generate plot\n",
        "plt.figure(figsize=(6, 6))\n",
        "cmap = plt.get_cmap('tab10', 10)\n",
        "plt.scatter(X_test_encoded[:, 0], X_test_encoded[:, 1], cmap=cmap)\n",
        "plt.colorbar()\n",
        "plt.show()"
      ],
      "execution_count": 21,
      "outputs": [
        {
          "output_type": "display_data",
          "data": {
            "image/png": "[encoded data removed]",
            "text/plain": [
              "<Figure size 432x432 with 2 Axes>"
            ]
          },
          "metadata": {
            "tags": [],
            "needs_background": "light"
          }
        }
      ]
    },
    {
      "cell_type": "markdown",
      "metadata": {
        "id": "8fbIyV5YH7ff"
      },
      "source": [
        "# Train the CVN model with 50 Latent Dimensions for training "
      ]
    },
    {
      "cell_type": "code",
      "metadata": {
        "id": "pIAjRMyOIDFQ"
      },
      "source": [
        "latent_dim = 50\n",
        "batch_size = 32"
      ],
      "execution_count": 22,
      "outputs": []
    },
    {
      "cell_type": "code",
      "metadata": {
        "id": "AyGiUR6_IHnd",
        "outputId": "5d3a50d0-9567-4c6a-a001-162fa6e9f0e1",
        "colab": {
          "base_uri": "https://localhost:8080/",
          "height": 680
        }
      },
      "source": [
        "encoder_inputs = keras.Input(shape=X_train[0].shape)\n",
        "x = layers.Conv2D(32, kernel_size=(2, 2), activation='relu', padding=\"same\")(encoder_inputs)\n",
        "x = layers.Conv2D(32, kernel_size=(2, 2), activation='relu', padding=\"same\")(x)\n",
        "x = layers.MaxPooling2D(pool_size=(2, 2))(x)\n",
        "x = layers.Conv2D(64, kernel_size=(2, 2), activation='relu', padding=\"same\")(x)\n",
        "x = layers.Conv2D(64, kernel_size=(2, 2), activation='relu', padding=\"same\")(x)\n",
        "x = layers.MaxPooling2D(pool_size=(2, 2))(x)\n",
        "x = layers.Conv2D(128, kernel_size=(2, 2), activation='relu', padding=\"same\")(x)\n",
        "x = layers.Conv2D(256, kernel_size=(2, 2), activation='relu', padding=\"same\")(x)\n",
        "x = layers.Flatten()(x)\n",
        "x = layers.Dense(128, activation='relu')(x)\n",
        "x = layers.Dense(64, activation='relu')(x)\n",
        "z_mean = layers.Dense(latent_dim, name=\"z_mean\")(x)\n",
        "z_log_var = layers.Dense(latent_dim, name=\"z_log_var\")(x)\n",
        "z = Sampling()([z_mean, z_log_var])\n",
        "encoder = keras.Model(encoder_inputs, [z_mean, z_log_var, z], name=\"encoder\")\n",
        "encoder.summary()"
      ],
      "execution_count": 23,
      "outputs": [
        {
          "output_type": "stream",
          "text": [
            "Model: \"encoder\"\n",
            "__________________________________________________________________________________________________\n",
            "Layer (type)                    Output Shape         Param #     Connected to                     \n",
            "==================================================================================================\n",
            "input_4 (InputLayer)            [(None, 1028, 76, 1) 0                                            \n",
            "__________________________________________________________________________________________________\n",
            "conv2d_12 (Conv2D)              (None, 1028, 76, 32) 160         input_4[0][0]                    \n",
            "__________________________________________________________________________________________________\n",
            "conv2d_13 (Conv2D)              (None, 1028, 76, 32) 4128        conv2d_12[0][0]                  \n",
            "__________________________________________________________________________________________________\n",
            "max_pooling2d_4 (MaxPooling2D)  (None, 514, 38, 32)  0           conv2d_13[0][0]                  \n",
            "__________________________________________________________________________________________________\n",
            "conv2d_14 (Conv2D)              (None, 514, 38, 64)  8256        max_pooling2d_4[0][0]            \n",
            "__________________________________________________________________________________________________\n",
            "conv2d_15 (Conv2D)              (None, 514, 38, 64)  16448       conv2d_14[0][0]                  \n",
            "__________________________________________________________________________________________________\n",
            "max_pooling2d_5 (MaxPooling2D)  (None, 257, 19, 64)  0           conv2d_15[0][0]                  \n",
            "__________________________________________________________________________________________________\n",
            "conv2d_16 (Conv2D)              (None, 257, 19, 128) 32896       max_pooling2d_5[0][0]            \n",
            "__________________________________________________________________________________________________\n",
            "conv2d_17 (Conv2D)              (None, 257, 19, 256) 131328      conv2d_16[0][0]                  \n",
            "__________________________________________________________________________________________________\n",
            "flatten_2 (Flatten)             (None, 1250048)      0           conv2d_17[0][0]                  \n",
            "__________________________________________________________________________________________________\n",
            "dense_5 (Dense)                 (None, 128)          160006272   flatten_2[0][0]                  \n",
            "__________________________________________________________________________________________________\n",
            "dense_6 (Dense)                 (None, 64)           8256        dense_5[0][0]                    \n",
            "__________________________________________________________________________________________________\n",
            "z_mean (Dense)                  (None, 50)           3250        dense_6[0][0]                    \n",
            "__________________________________________________________________________________________________\n",
            "z_log_var (Dense)               (None, 50)           3250        dense_6[0][0]                    \n",
            "__________________________________________________________________________________________________\n",
            "sampling_1 (Sampling)           (None, 50)           0           z_mean[0][0]                     \n",
            "                                                                 z_log_var[0][0]                  \n",
            "==================================================================================================\n",
            "Total params: 160,214,244\n",
            "Trainable params: 160,214,244\n",
            "Non-trainable params: 0\n",
            "__________________________________________________________________________________________________\n"
          ],
          "name": "stdout"
        }
      ]
    },
    {
      "cell_type": "code",
      "metadata": {
        "id": "Q1CkeoobIHnj",
        "outputId": "85b9cdf6-52bd-4008-fe11-fa6d40b6242c",
        "colab": {
          "base_uri": "https://localhost:8080/",
          "height": 493
        }
      },
      "source": [
        "latent_inputs = keras.Input(shape=(latent_dim,))\n",
        "x = layers.Dense(257 * 19 * 64, activation=\"relu\")(latent_inputs)\n",
        "x = layers.Reshape((257, 19, 64))(x)\n",
        "x = layers.Conv2DTranspose(256, 3, activation=\"relu\", padding=\"same\")(x)\n",
        "x = layers.Conv2DTranspose(128, 3, activation=\"relu\", padding=\"same\")(x)\n",
        "x = layers.Conv2DTranspose(64, 3, activation=\"relu\", strides=2, padding=\"same\")(x)\n",
        "x = layers.Conv2DTranspose(64, 3, activation=\"relu\", padding=\"same\")(x)\n",
        "x = layers.Conv2DTranspose(32, 3, activation=\"relu\", strides=2, padding=\"same\")(x)\n",
        "x = layers.Conv2DTranspose(32, 3, activation=\"relu\", padding=\"same\")(x)\n",
        "decoder_outputs = layers.Conv2DTranspose(1, 3, activation=\"sigmoid\", padding=\"same\")(x)\n",
        "decoder = keras.Model(latent_inputs, decoder_outputs, name=\"decoder\")\n",
        "decoder.summary()"
      ],
      "execution_count": 24,
      "outputs": [
        {
          "output_type": "stream",
          "text": [
            "Model: \"decoder\"\n",
            "_________________________________________________________________\n",
            "Layer (type)                 Output Shape              Param #   \n",
            "=================================================================\n",
            "input_5 (InputLayer)         [(None, 50)]              0         \n",
            "_________________________________________________________________\n",
            "dense_7 (Dense)              (None, 312512)            15938112  \n",
            "_________________________________________________________________\n",
            "reshape_1 (Reshape)          (None, 257, 19, 64)       0         \n",
            "_________________________________________________________________\n",
            "conv2d_transpose_7 (Conv2DTr (None, 257, 19, 256)      147712    \n",
            "_________________________________________________________________\n",
            "conv2d_transpose_8 (Conv2DTr (None, 257, 19, 128)      295040    \n",
            "_________________________________________________________________\n",
            "conv2d_transpose_9 (Conv2DTr (None, 514, 38, 64)       73792     \n",
            "_________________________________________________________________\n",
            "conv2d_transpose_10 (Conv2DT (None, 514, 38, 64)       36928     \n",
            "_________________________________________________________________\n",
            "conv2d_transpose_11 (Conv2DT (None, 1028, 76, 32)      18464     \n",
            "_________________________________________________________________\n",
            "conv2d_transpose_12 (Conv2DT (None, 1028, 76, 32)      9248      \n",
            "_________________________________________________________________\n",
            "conv2d_transpose_13 (Conv2DT (None, 1028, 76, 1)       289       \n",
            "=================================================================\n",
            "Total params: 16,519,585\n",
            "Trainable params: 16,519,585\n",
            "Non-trainable params: 0\n",
            "_________________________________________________________________\n"
          ],
          "name": "stdout"
        }
      ]
    },
    {
      "cell_type": "code",
      "metadata": {
        "id": "16KpAYwlIDFV",
        "outputId": "efa925b9-55cb-497c-c817-11897f2ad7fc",
        "colab": {
          "base_uri": "https://localhost:8080/",
          "height": 1000
        }
      },
      "source": [
        "vae_2 = VAE(encoder, decoder)\n",
        "vae_2.compile(optimizer=keras.optimizers.Adam())\n",
        "history_2 = vae_2.fit(X_train, X_train, epochs=100, batch_size=batch_size)"
      ],
      "execution_count": 25,
      "outputs": [
        {
          "output_type": "stream",
          "text": [
            "Epoch 1/100\n",
            " 2/47 [>.............................] - ETA: 13s - loss: 53918.8125 - reconstruction_loss: 53918.8125 - kl_loss: 6.5380e-04WARNING:tensorflow:Callbacks method `on_train_batch_end` is slow compared to the batch time (batch time: 0.1598s vs `on_train_batch_end` time: 0.3043s). Check your callbacks.\n",
            "47/47 [==============================] - 21s 457ms/step - loss: 2076679.5458 - reconstruction_loss: 28129.4606 - kl_loss: 2048550.0266\n",
            "Epoch 2/100\n",
            "47/47 [==============================] - 22s 462ms/step - loss: 943.6291 - reconstruction_loss: 940.8402 - kl_loss: 2.7888\n",
            "Epoch 3/100\n",
            "47/47 [==============================] - 22s 469ms/step - loss: 850.0538 - reconstruction_loss: 847.7381 - kl_loss: 2.3158\n",
            "Epoch 4/100\n",
            "47/47 [==============================] - 22s 476ms/step - loss: 825.3289 - reconstruction_loss: 822.9379 - kl_loss: 2.3910\n",
            "Epoch 5/100\n",
            "47/47 [==============================] - 23s 484ms/step - loss: 815.5626 - reconstruction_loss: 812.9671 - kl_loss: 2.5954\n",
            "Epoch 6/100\n",
            "47/47 [==============================] - 23s 492ms/step - loss: 801.7752 - reconstruction_loss: 799.2878 - kl_loss: 2.4874\n",
            "Epoch 7/100\n",
            "47/47 [==============================] - 23s 495ms/step - loss: 789.7108 - reconstruction_loss: 787.0667 - kl_loss: 2.6441\n",
            "Epoch 8/100\n",
            "47/47 [==============================] - 23s 495ms/step - loss: 782.5492 - reconstruction_loss: 779.8984 - kl_loss: 2.6508\n",
            "Epoch 9/100\n",
            "47/47 [==============================] - 23s 498ms/step - loss: 780.9444 - reconstruction_loss: 778.2723 - kl_loss: 2.6722\n",
            "Epoch 10/100\n",
            "47/47 [==============================] - 24s 502ms/step - loss: 770.5102 - reconstruction_loss: 767.8397 - kl_loss: 2.6706\n",
            "Epoch 11/100\n",
            "47/47 [==============================] - 24s 504ms/step - loss: 768.5388 - reconstruction_loss: 765.9796 - kl_loss: 2.5592\n",
            "Epoch 12/100\n",
            "47/47 [==============================] - 24s 510ms/step - loss: 764.7218 - reconstruction_loss: 762.2611 - kl_loss: 2.4606\n",
            "Epoch 13/100\n",
            "47/47 [==============================] - 24s 513ms/step - loss: 757.6142 - reconstruction_loss: 755.1537 - kl_loss: 2.4605\n",
            "Epoch 14/100\n",
            "47/47 [==============================] - 24s 514ms/step - loss: 759.7784 - reconstruction_loss: 757.3399 - kl_loss: 2.4384\n",
            "Epoch 15/100\n",
            "47/47 [==============================] - 24s 515ms/step - loss: 752.9766 - reconstruction_loss: 750.5984 - kl_loss: 2.3782\n",
            "Epoch 16/100\n",
            "47/47 [==============================] - 24s 516ms/step - loss: 754.1272 - reconstruction_loss: 751.7446 - kl_loss: 2.3825\n",
            "Epoch 17/100\n",
            "47/47 [==============================] - 24s 516ms/step - loss: 748.8276 - reconstruction_loss: 746.4552 - kl_loss: 2.3724\n",
            "Epoch 18/100\n",
            "47/47 [==============================] - 24s 517ms/step - loss: 744.6299 - reconstruction_loss: 742.2391 - kl_loss: 2.3908\n",
            "Epoch 19/100\n",
            "47/47 [==============================] - 24s 518ms/step - loss: 740.6451 - reconstruction_loss: 738.2369 - kl_loss: 2.4083\n",
            "Epoch 20/100\n",
            "47/47 [==============================] - 24s 519ms/step - loss: 737.3086 - reconstruction_loss: 734.8979 - kl_loss: 2.4107\n",
            "Epoch 21/100\n",
            "47/47 [==============================] - 24s 520ms/step - loss: 736.6564 - reconstruction_loss: 734.2520 - kl_loss: 2.4043\n",
            "Epoch 22/100\n",
            "47/47 [==============================] - 24s 520ms/step - loss: 735.3298 - reconstruction_loss: 732.9329 - kl_loss: 2.3969\n",
            "Epoch 23/100\n",
            "47/47 [==============================] - 24s 520ms/step - loss: 730.5679 - reconstruction_loss: 728.1861 - kl_loss: 2.3818\n",
            "Epoch 24/100\n",
            "47/47 [==============================] - 24s 520ms/step - loss: 732.6692 - reconstruction_loss: 730.2861 - kl_loss: 2.3831\n",
            "Epoch 25/100\n",
            "47/47 [==============================] - 24s 521ms/step - loss: 730.3359 - reconstruction_loss: 727.9227 - kl_loss: 2.4133\n",
            "Epoch 26/100\n",
            "47/47 [==============================] - 25s 522ms/step - loss: 728.9422 - reconstruction_loss: 726.5409 - kl_loss: 2.4013\n",
            "Epoch 27/100\n",
            "47/47 [==============================] - 24s 521ms/step - loss: 726.0605 - reconstruction_loss: 723.6560 - kl_loss: 2.4045\n",
            "Epoch 28/100\n",
            "47/47 [==============================] - 24s 519ms/step - loss: 727.4916 - reconstruction_loss: 725.0835 - kl_loss: 2.4080\n",
            "Epoch 29/100\n",
            "47/47 [==============================] - 24s 519ms/step - loss: 725.8290 - reconstruction_loss: 723.3976 - kl_loss: 2.4314\n",
            "Epoch 30/100\n",
            "47/47 [==============================] - 24s 519ms/step - loss: 723.5021 - reconstruction_loss: 721.0599 - kl_loss: 2.4422\n",
            "Epoch 31/100\n",
            "47/47 [==============================] - 24s 520ms/step - loss: 724.9654 - reconstruction_loss: 722.5254 - kl_loss: 2.4400\n",
            "Epoch 32/100\n",
            "47/47 [==============================] - 25s 521ms/step - loss: 724.4735 - reconstruction_loss: 722.0407 - kl_loss: 2.4327\n",
            "Epoch 33/100\n",
            "47/47 [==============================] - 25s 522ms/step - loss: 720.7587 - reconstruction_loss: 718.2910 - kl_loss: 2.4677\n",
            "Epoch 34/100\n",
            "47/47 [==============================] - 25s 522ms/step - loss: 721.2095 - reconstruction_loss: 718.7715 - kl_loss: 2.4380\n",
            "Epoch 35/100\n",
            "47/47 [==============================] - 25s 522ms/step - loss: 717.4348 - reconstruction_loss: 715.0234 - kl_loss: 2.4114\n",
            "Epoch 36/100\n",
            "47/47 [==============================] - 25s 522ms/step - loss: 716.8379 - reconstruction_loss: 714.4066 - kl_loss: 2.4313\n",
            "Epoch 37/100\n",
            "47/47 [==============================] - 25s 524ms/step - loss: 717.7810 - reconstruction_loss: 715.3508 - kl_loss: 2.4301\n",
            "Epoch 38/100\n",
            "47/47 [==============================] - 25s 531ms/step - loss: 716.7084 - reconstruction_loss: 714.2962 - kl_loss: 2.4122\n",
            "Epoch 39/100\n",
            "47/47 [==============================] - 25s 528ms/step - loss: 717.2822 - reconstruction_loss: 714.8505 - kl_loss: 2.4317\n",
            "Epoch 40/100\n",
            "47/47 [==============================] - 25s 523ms/step - loss: 713.8395 - reconstruction_loss: 711.4359 - kl_loss: 2.4037\n",
            "Epoch 41/100\n",
            "47/47 [==============================] - 25s 528ms/step - loss: 715.1157 - reconstruction_loss: 712.6847 - kl_loss: 2.4311\n",
            "Epoch 42/100\n",
            "47/47 [==============================] - 25s 530ms/step - loss: 714.7181 - reconstruction_loss: 712.3027 - kl_loss: 2.4155\n",
            "Epoch 43/100\n",
            "47/47 [==============================] - 25s 531ms/step - loss: 709.7933 - reconstruction_loss: 707.3839 - kl_loss: 2.4093\n",
            "Epoch 44/100\n",
            "47/47 [==============================] - 25s 530ms/step - loss: 713.7396 - reconstruction_loss: 711.3251 - kl_loss: 2.4145\n",
            "Epoch 45/100\n",
            "47/47 [==============================] - 25s 529ms/step - loss: 712.2103 - reconstruction_loss: 709.7988 - kl_loss: 2.4115\n",
            "Epoch 46/100\n",
            "47/47 [==============================] - 25s 527ms/step - loss: 712.5028 - reconstruction_loss: 710.0736 - kl_loss: 2.4292\n",
            "Epoch 47/100\n",
            "47/47 [==============================] - 25s 527ms/step - loss: 713.5913 - reconstruction_loss: 711.1642 - kl_loss: 2.4271\n",
            "Epoch 48/100\n",
            "47/47 [==============================] - 25s 526ms/step - loss: 707.5234 - reconstruction_loss: 705.1171 - kl_loss: 2.4063\n",
            "Epoch 49/100\n",
            "47/47 [==============================] - 25s 529ms/step - loss: 711.1505 - reconstruction_loss: 708.7469 - kl_loss: 2.4035\n",
            "Epoch 50/100\n",
            "47/47 [==============================] - 25s 530ms/step - loss: 711.9110 - reconstruction_loss: 709.5095 - kl_loss: 2.4014\n",
            "Epoch 51/100\n",
            "47/47 [==============================] - 25s 532ms/step - loss: 708.0362 - reconstruction_loss: 705.6472 - kl_loss: 2.3890\n",
            "Epoch 52/100\n",
            "47/47 [==============================] - 25s 532ms/step - loss: 710.4068 - reconstruction_loss: 708.0096 - kl_loss: 2.3971\n",
            "Epoch 53/100\n",
            "47/47 [==============================] - 25s 531ms/step - loss: 709.4988 - reconstruction_loss: 707.0929 - kl_loss: 2.4059\n",
            "Epoch 54/100\n",
            "47/47 [==============================] - 25s 530ms/step - loss: 709.1524 - reconstruction_loss: 706.7654 - kl_loss: 2.3870\n",
            "Epoch 55/100\n",
            "47/47 [==============================] - 25s 529ms/step - loss: 708.7409 - reconstruction_loss: 706.3526 - kl_loss: 2.3883\n",
            "Epoch 56/100\n",
            "47/47 [==============================] - 25s 531ms/step - loss: 705.6530 - reconstruction_loss: 703.2480 - kl_loss: 2.4050\n",
            "Epoch 57/100\n",
            "47/47 [==============================] - 25s 531ms/step - loss: 707.8100 - reconstruction_loss: 705.4253 - kl_loss: 2.3847\n",
            "Epoch 58/100\n",
            "47/47 [==============================] - 25s 531ms/step - loss: 709.6754 - reconstruction_loss: 707.2611 - kl_loss: 2.4144\n",
            "Epoch 59/100\n",
            "47/47 [==============================] - 25s 531ms/step - loss: 706.2555 - reconstruction_loss: 703.8569 - kl_loss: 2.3986\n",
            "Epoch 60/100\n",
            "47/47 [==============================] - 25s 531ms/step - loss: 705.8608 - reconstruction_loss: 703.4748 - kl_loss: 2.3860\n",
            "Epoch 61/100\n",
            "47/47 [==============================] - 25s 532ms/step - loss: 703.9816 - reconstruction_loss: 701.5836 - kl_loss: 2.3980\n",
            "Epoch 62/100\n",
            "47/47 [==============================] - 25s 531ms/step - loss: 704.5275 - reconstruction_loss: 702.1326 - kl_loss: 2.3948\n",
            "Epoch 63/100\n",
            "47/47 [==============================] - 25s 531ms/step - loss: 704.8979 - reconstruction_loss: 702.5183 - kl_loss: 2.3796\n",
            "Epoch 64/100\n",
            "47/47 [==============================] - 25s 530ms/step - loss: 706.1913 - reconstruction_loss: 703.8190 - kl_loss: 2.3724\n",
            "Epoch 65/100\n",
            "47/47 [==============================] - 25s 528ms/step - loss: 705.7816 - reconstruction_loss: 703.3799 - kl_loss: 2.4017\n",
            "Epoch 66/100\n",
            "47/47 [==============================] - 25s 529ms/step - loss: 703.2782 - reconstruction_loss: 700.8837 - kl_loss: 2.3945\n",
            "Epoch 67/100\n",
            "47/47 [==============================] - 25s 529ms/step - loss: 702.9262 - reconstruction_loss: 700.5455 - kl_loss: 2.3807\n",
            "Epoch 68/100\n",
            "47/47 [==============================] - 25s 528ms/step - loss: 702.3792 - reconstruction_loss: 699.9906 - kl_loss: 2.3886\n",
            "Epoch 69/100\n",
            "47/47 [==============================] - 25s 529ms/step - loss: 705.4780 - reconstruction_loss: 703.0923 - kl_loss: 2.3857\n",
            "Epoch 70/100\n",
            "47/47 [==============================] - 25s 529ms/step - loss: 706.7605 - reconstruction_loss: 704.3791 - kl_loss: 2.3815\n",
            "Epoch 71/100\n",
            "47/47 [==============================] - 25s 530ms/step - loss: 699.8833 - reconstruction_loss: 697.5022 - kl_loss: 2.3810\n",
            "Epoch 72/100\n",
            "47/47 [==============================] - 25s 529ms/step - loss: 704.6762 - reconstruction_loss: 702.3107 - kl_loss: 2.3655\n",
            "Epoch 73/100\n",
            "47/47 [==============================] - 25s 528ms/step - loss: 701.9427 - reconstruction_loss: 699.5339 - kl_loss: 2.4087\n",
            "Epoch 74/100\n",
            "47/47 [==============================] - 25s 529ms/step - loss: 702.1683 - reconstruction_loss: 699.7716 - kl_loss: 2.3967\n",
            "Epoch 75/100\n",
            "47/47 [==============================] - 25s 529ms/step - loss: 701.9654 - reconstruction_loss: 699.6029 - kl_loss: 2.3625\n",
            "Epoch 76/100\n",
            "47/47 [==============================] - 25s 526ms/step - loss: 700.8823 - reconstruction_loss: 698.5190 - kl_loss: 2.3633\n",
            "Epoch 77/100\n",
            "47/47 [==============================] - 25s 526ms/step - loss: 700.3284 - reconstruction_loss: 697.9468 - kl_loss: 2.3816\n",
            "Epoch 78/100\n",
            "47/47 [==============================] - 25s 525ms/step - loss: 700.6364 - reconstruction_loss: 698.2453 - kl_loss: 2.3911\n",
            "Epoch 79/100\n",
            "47/47 [==============================] - 25s 524ms/step - loss: 699.1044 - reconstruction_loss: 696.7262 - kl_loss: 2.3782\n",
            "Epoch 80/100\n",
            "47/47 [==============================] - 25s 524ms/step - loss: 701.4394 - reconstruction_loss: 699.0740 - kl_loss: 2.3654\n",
            "Epoch 81/100\n",
            "47/47 [==============================] - 25s 524ms/step - loss: 699.7410 - reconstruction_loss: 697.3627 - kl_loss: 2.3783\n",
            "Epoch 82/100\n",
            "47/47 [==============================] - 25s 524ms/step - loss: 700.0281 - reconstruction_loss: 697.6610 - kl_loss: 2.3671\n",
            "Epoch 83/100\n",
            "47/47 [==============================] - 25s 524ms/step - loss: 700.7885 - reconstruction_loss: 698.4322 - kl_loss: 2.3563\n",
            "Epoch 84/100\n",
            "47/47 [==============================] - 25s 530ms/step - loss: 701.0462 - reconstruction_loss: 698.6613 - kl_loss: 2.3849\n",
            "Epoch 85/100\n",
            "47/47 [==============================] - 25s 535ms/step - loss: 700.1018 - reconstruction_loss: 697.7266 - kl_loss: 2.3753\n",
            "Epoch 86/100\n",
            "47/47 [==============================] - 25s 531ms/step - loss: 696.1367 - reconstruction_loss: 693.7797 - kl_loss: 2.3570\n",
            "Epoch 87/100\n",
            "47/47 [==============================] - 25s 529ms/step - loss: 698.6195 - reconstruction_loss: 696.2456 - kl_loss: 2.3739\n",
            "Epoch 88/100\n",
            "47/47 [==============================] - 25s 531ms/step - loss: 698.5536 - reconstruction_loss: 696.1933 - kl_loss: 2.3602\n",
            "Epoch 89/100\n",
            "47/47 [==============================] - 25s 532ms/step - loss: 700.2111 - reconstruction_loss: 697.8461 - kl_loss: 2.3651\n",
            "Epoch 90/100\n",
            "47/47 [==============================] - 25s 532ms/step - loss: 696.8267 - reconstruction_loss: 694.4676 - kl_loss: 2.3591\n",
            "Epoch 91/100\n",
            "47/47 [==============================] - 25s 533ms/step - loss: 700.9076 - reconstruction_loss: 698.5511 - kl_loss: 2.3565\n",
            "Epoch 92/100\n",
            "47/47 [==============================] - 25s 533ms/step - loss: 696.8523 - reconstruction_loss: 694.4870 - kl_loss: 2.3654\n",
            "Epoch 93/100\n",
            "47/47 [==============================] - 25s 532ms/step - loss: 699.3553 - reconstruction_loss: 697.0223 - kl_loss: 2.3330\n",
            "Epoch 94/100\n",
            "47/47 [==============================] - 25s 527ms/step - loss: 695.2738 - reconstruction_loss: 692.9180 - kl_loss: 2.3558\n",
            "Epoch 95/100\n",
            "47/47 [==============================] - 25s 528ms/step - loss: 697.3554 - reconstruction_loss: 695.0039 - kl_loss: 2.3514\n",
            "Epoch 96/100\n",
            "47/47 [==============================] - 25s 526ms/step - loss: 698.1967 - reconstruction_loss: 695.8455 - kl_loss: 2.3512\n",
            "Epoch 97/100\n",
            "47/47 [==============================] - 25s 527ms/step - loss: 698.8901 - reconstruction_loss: 696.5318 - kl_loss: 2.3583\n",
            "Epoch 98/100\n",
            "47/47 [==============================] - 25s 527ms/step - loss: 697.6789 - reconstruction_loss: 695.3129 - kl_loss: 2.3660\n",
            "Epoch 99/100\n",
            "47/47 [==============================] - 25s 530ms/step - loss: 695.6832 - reconstruction_loss: 693.3491 - kl_loss: 2.3341\n",
            "Epoch 100/100\n",
            "47/47 [==============================] - 25s 532ms/step - loss: 697.7071 - reconstruction_loss: 695.3595 - kl_loss: 2.3476\n"
          ],
          "name": "stdout"
        }
      ]
    },
    {
      "cell_type": "code",
      "metadata": {
        "id": "9CymbTTMNy6W",
        "outputId": "e3907d0f-f08c-4551-dde1-249f809ce478",
        "colab": {
          "base_uri": "https://localhost:8080/",
          "height": 34
        }
      },
      "source": [
        "## Get embeded data with 50 latent dimensions\n",
        "a, b, X_val_encoded = encoder.predict(X_val)\n",
        "print(X_val.shape, X_val_encoded.shape)"
      ],
      "execution_count": 27,
      "outputs": [
        {
          "output_type": "stream",
          "text": [
            "(942, 1028, 76, 1) (942, 50)\n"
          ],
          "name": "stdout"
        }
      ]
    },
    {
      "cell_type": "code",
      "metadata": {
        "id": "3ySarnaKN_z8"
      },
      "source": [
        "## Split data to train and test Random Forest\n",
        "train_x, test_x, train_y, test_y = train_test_split(X_val_encoded, train_labels, \n",
        "                                              test_size=0.15, random_state=42)"
      ],
      "execution_count": 28,
      "outputs": []
    },
    {
      "cell_type": "code",
      "metadata": {
        "id": "VydSv4_kOGoQ",
        "outputId": "6a68fee8-b929-46f6-b7e6-545d6d2176f2",
        "colab": {
          "base_uri": "https://localhost:8080/",
          "height": 153
        }
      },
      "source": [
        "clf = RandomForestClassifier(max_depth=30, random_state=0)\n",
        "clf.fit(train_x, train_y)"
      ],
      "execution_count": 30,
      "outputs": [
        {
          "output_type": "execute_result",
          "data": {
            "text/plain": [
              "RandomForestClassifier(bootstrap=True, ccp_alpha=0.0, class_weight=None,\n",
              "                       criterion='gini', max_depth=30, max_features='auto',\n",
              "                       max_leaf_nodes=None, max_samples=None,\n",
              "                       min_impurity_decrease=0.0, min_impurity_split=None,\n",
              "                       min_samples_leaf=1, min_samples_split=2,\n",
              "                       min_weight_fraction_leaf=0.0, n_estimators=100,\n",
              "                       n_jobs=None, oob_score=False, random_state=0, verbose=0,\n",
              "                       warm_start=False)"
            ]
          },
          "metadata": {
            "tags": []
          },
          "execution_count": 30
        }
      ]
    },
    {
      "cell_type": "code",
      "metadata": {
        "id": "se7jjolVOKkW",
        "outputId": "fd86499c-c793-4848-cb3a-c4ef0e1e1011",
        "colab": {
          "base_uri": "https://localhost:8080/",
          "height": 544
        }
      },
      "source": [
        "rfc_predict = clf.predict(test_x)\n",
        "\n",
        "print(\"=== Confusion Matrix ===\")\n",
        "print(confusion_matrix(test_y, rfc_predict))\n",
        "print('\\n')\n",
        "print(\"=== Classification Report ===\")\n",
        "print(classification_report(test_y, rfc_predict))\n",
        "print('\\n')"
      ],
      "execution_count": 31,
      "outputs": [
        {
          "output_type": "stream",
          "text": [
            "=== Confusion Matrix ===\n",
            "[[13  0  0  0  0  0  0  0  0]\n",
            " [ 1 15  1  0  0  0  0  0  1]\n",
            " [ 0  0 18  0  0  0  0  0  0]\n",
            " [ 0  0  0 14  0  0  0  0  0]\n",
            " [ 0  1  0  0 15  0  0  0  2]\n",
            " [ 0  0  1  0  0 17  0  0  0]\n",
            " [ 0  0  0  0  0  0 11  0  2]\n",
            " [ 0  0  0  0  0  0  0 13  0]\n",
            " [ 0  0  0  0  0  0  0  0 17]]\n",
            "\n",
            "\n",
            "=== Classification Report ===\n",
            "              precision    recall  f1-score   support\n",
            "\n",
            "           0       0.93      1.00      0.96        13\n",
            "           1       0.94      0.83      0.88        18\n",
            "           3       0.90      1.00      0.95        18\n",
            "           4       1.00      1.00      1.00        14\n",
            "           5       1.00      0.83      0.91        18\n",
            "           6       1.00      0.94      0.97        18\n",
            "           7       1.00      0.85      0.92        13\n",
            "           8       1.00      1.00      1.00        13\n",
            "           9       0.77      1.00      0.87        17\n",
            "\n",
            "    accuracy                           0.94       142\n",
            "   macro avg       0.95      0.94      0.94       142\n",
            "weighted avg       0.95      0.94      0.94       142\n",
            "\n",
            "\n",
            "\n"
          ],
          "name": "stdout"
        }
      ]
    },
    {
      "cell_type": "code",
      "metadata": {
        "id": "Ktqur4vHOV2o",
        "outputId": "0c2d0c13-cd1b-42e9-b606-549d5618d866",
        "colab": {
          "base_uri": "https://localhost:8080/",
          "height": 459
        }
      },
      "source": [
        "a, b, x_test_encoded = encoder.predict(X_test)\n",
        "test_pred = clf.predict(x_test_encoded)\n",
        "test_pred"
      ],
      "execution_count": 32,
      "outputs": [
        {
          "output_type": "execute_result",
          "data": {
            "text/plain": [
              "array([5, 9, 4, 1, 4, 5, 9, 0, 3, 7, 7, 3, 1, 8, 0, 7, 7, 3, 5, 3, 3, 3,\n",
              "       9, 3, 3, 5, 7, 7, 0, 4, 4, 1, 3, 1, 6, 3, 1, 3, 9, 9, 0, 1, 5, 9,\n",
              "       4, 7, 3, 3, 3, 6, 9, 6, 0, 0, 8, 3, 5, 3, 3, 3, 3, 7, 8, 7, 0, 0,\n",
              "       4, 6, 3, 3, 3, 4, 3, 5, 1, 4, 9, 7, 4, 5, 0, 1, 6, 9, 7, 3, 3, 3,\n",
              "       1, 6, 0, 8, 0, 8, 7, 7, 3, 3, 3, 3, 6, 3, 7, 3, 7, 3, 3, 4, 1, 3,\n",
              "       3, 0, 7, 7, 1, 9, 9, 4, 5, 1, 5, 9, 3, 4, 3, 3, 3, 3, 0, 3, 8, 7,\n",
              "       3, 3, 3, 3, 7, 3, 5, 4, 4, 1, 4, 8, 7, 3, 3, 0, 1, 5, 0, 9, 5, 3,\n",
              "       3, 9, 3, 9, 4, 0, 3, 3, 3, 3, 3, 7, 7, 3, 5, 0, 4, 0, 8, 8, 6, 3,\n",
              "       3, 3, 6, 5, 5, 1, 0, 7, 3, 1, 0, 7, 3, 3, 9, 6, 1, 4, 8, 8, 4, 5,\n",
              "       3, 3, 7, 5, 5, 1, 6, 6, 9, 9, 6, 3, 3, 9, 5, 9, 1, 7, 0, 5, 1, 4,\n",
              "       9, 3, 3, 3, 6, 4, 8, 5, 8, 5, 7, 0, 3, 7, 5, 8, 6, 8, 3, 3, 6, 9,\n",
              "       6, 9, 4, 5, 0, 7, 9, 3, 9, 3, 3, 8, 0, 5, 8, 7, 7, 3, 3, 3, 7, 3,\n",
              "       3, 3, 5, 4, 5, 8, 6, 9, 3, 3, 3, 0, 9, 0, 9, 1, 1, 5, 1, 3, 3, 9,\n",
              "       3, 8, 7, 3, 3, 3, 3, 3, 3, 3, 5, 3, 3, 3, 8, 8, 0, 0, 4, 8, 8, 6,\n",
              "       6, 3, 3, 1, 1, 7, 7, 7, 1, 3, 3, 3, 3, 7, 4, 1, 6, 7, 3, 3, 3, 3,\n",
              "       3, 3, 7, 4, 1, 4, 3, 9, 3, 3, 1, 7, 7, 9, 9, 3, 3, 6, 8, 8, 8, 4,\n",
              "       3, 8, 3, 3, 3, 3, 8, 7, 3, 4, 1, 8, 3, 8, 3, 6, 3, 6, 9, 9, 9, 0,\n",
              "       1, 1, 7, 7, 9, 1, 1, 3, 3, 3, 1, 3, 4, 0, 0, 7, 7, 3, 3, 8, 3, 7,\n",
              "       7, 5, 4, 4, 5, 4, 3, 3, 4, 3, 3, 0, 1, 5, 1, 7, 4, 4, 1, 5, 0, 3,\n",
              "       6, 3, 6, 4, 9, 8, 7, 3, 1, 3, 3, 3, 3, 3, 3, 3, 3, 3, 7, 1, 1, 8,\n",
              "       0, 4, 0, 6, 3, 3, 4, 3, 0, 1, 4, 9, 1, 5, 5, 4, 3, 3, 7, 4, 0, 1,\n",
              "       5, 7, 7, 3, 0, 9, 3, 3, 9, 0, 3, 3, 8, 5, 1, 3, 6, 1, 1, 3, 3, 4,\n",
              "       5, 5, 0, 9, 1, 5, 9, 6, 0, 3, 6, 0, 5, 8, 0, 3, 8, 8, 8, 7, 3, 3,\n",
              "       3, 9, 3, 3, 3, 8, 3, 8, 0, 1, 3, 3, 3, 6, 4, 1, 4, 1, 3, 6, 4, 7,\n",
              "       3, 3, 1, 3, 1, 3, 3, 8, 3, 3, 3, 3, 3, 3, 7, 7, 3, 3, 4, 4, 8, 5,\n",
              "       3, 3, 0, 1, 5, 5, 7, 5])"
            ]
          },
          "metadata": {
            "tags": []
          },
          "execution_count": 32
        }
      ]
    },
    {
      "cell_type": "code",
      "metadata": {
        "id": "9f47yLi9OaBq"
      },
      "source": [
        "pd.DataFrame(test_pred).to_csv(\"submission_RF.csv\")"
      ],
      "execution_count": 33,
      "outputs": []
    },
    {
      "cell_type": "code",
      "metadata": {
        "id": "rK4M7k66gSKa",
        "outputId": "24e9874d-b205-43b5-b1ce-5588e6909e75",
        "colab": {
          "base_uri": "https://localhost:8080/",
          "height": 34
        }
      },
      "source": [
        "import collections\n",
        "counter=collections.Counter(test_pred)\n",
        "print(counter)"
      ],
      "execution_count": 34,
      "outputs": [
        {
          "output_type": "stream",
          "text": [
            "Counter({3: 189, 7: 59, 1: 54, 4: 48, 5: 46, 0: 45, 9: 43, 8: 42, 6: 32})\n"
          ],
          "name": "stdout"
        }
      ]
    }
  ]
}