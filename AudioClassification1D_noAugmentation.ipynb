{
  "nbformat": 4,
  "nbformat_minor": 0,
  "metadata": {
    "kernelspec": {
      "display_name": "Python 3",
      "language": "python",
      "name": "python3"
    },
    "language_info": {
      "codemirror_mode": {
        "name": "ipython",
        "version": 3
      },
      "file_extension": ".py",
      "mimetype": "text/x-python",
      "name": "python",
      "nbconvert_exporter": "python",
      "pygments_lexer": "ipython3",
      "version": "3.7.6"
    },
    "colab": {
      "name": "AudioClassification1D_noAugmentation.ipynb",
      "provenance": [],
      "collapsed_sections": [],
      "include_colab_link": true
    },
    "accelerator": "GPU"
  },
  "cells": [
    {
      "cell_type": "markdown",
      "metadata": {
        "id": "view-in-github",
        "colab_type": "text"
      },
      "source": [
        "<a href=\"https://colab.research.google.com/github/ARBasharat/AudioClassification/blob/master/AudioClassification1D_noAugmentation.ipynb\" target=\"_parent\"><img src=\"https://colab.research.google.com/assets/colab-badge.svg\" alt=\"Open In Colab\"/></a>"
      ]
    },
    {
      "cell_type": "markdown",
      "metadata": {
        "id": "G_xO5b_0r4-V"
      },
      "source": [
        "Contact: abbash@iu.edu <br/>\n",
        "1D Classification without Augmentation\n"
      ]
    },
    {
      "cell_type": "markdown",
      "metadata": {
        "id": "MR8yb80ZsKaF"
      },
      "source": [
        "# Load Libraries"
      ]
    },
    {
      "cell_type": "code",
      "metadata": {
        "id": "1pKd4WHgN_2I"
      },
      "source": [
        "import numpy as np\n",
        "import pandas as pd\n",
        "import matplotlib.pyplot as plt\n",
        "import tensorflow as tf\n",
        "from tensorflow import keras\n",
        "import random\n",
        "import librosa\n",
        "from tensorflow.keras import datasets, layers, models\n",
        "from sklearn.model_selection import train_test_split"
      ],
      "execution_count": 1,
      "outputs": []
    },
    {
      "cell_type": "markdown",
      "metadata": {
        "id": "lBj2ULy2sOz2"
      },
      "source": [
        "# Load Data from Google Colab"
      ]
    },
    {
      "cell_type": "code",
      "metadata": {
        "id": "L4rpOw4gziwf",
        "outputId": "feab925c-0793-4e0b-9b32-3bb3b941185b",
        "colab": {
          "base_uri": "https://localhost:8080/",
          "height": 34
        }
      },
      "source": [
        "from google.colab import drive\n",
        "drive.mount(\"/content/drive\")\n",
        "\n",
        "train = np.load(\"drive/My Drive/AudioClassification/audio_train.npy\").astype('float32')\n",
        "test = np.load(\"drive/My Drive/AudioClassification/audio_test.npy\").astype('float32')\n",
        "train_labels_df = pd.read_csv(\"drive/My Drive/AudioClassification/labels_train.csv\")"
      ],
      "execution_count": 2,
      "outputs": [
        {
          "output_type": "stream",
          "text": [
            "Mounted at /content/drive\n"
          ],
          "name": "stdout"
        }
      ]
    },
    {
      "cell_type": "markdown",
      "metadata": {
        "id": "FqarZBsmsU1d"
      },
      "source": [
        "# Data Preperation"
      ]
    },
    {
      "cell_type": "code",
      "metadata": {
        "id": "jaQAD_G-On32",
        "outputId": "e003ec80-ca9a-4bb5-b64e-7194e232e2a8",
        "colab": {
          "base_uri": "https://localhost:8080/",
          "height": 102
        }
      },
      "source": [
        "train_labels = train_labels_df.to_numpy()[:,1]\n",
        "labels_categorical = keras.utils.to_categorical(train_labels)\n",
        "\n",
        "X_train_original, X_val_original, y_train_original, y_val = train_test_split(train, \n",
        "                          labels_categorical, test_size=0.20, random_state=42)\n",
        "\n",
        "print(\"Training Data:\", X_train_original.shape)\n",
        "print(\"Training Labels:\", y_train_original.shape)\n",
        "print(\"Validation Data:\", X_val_original.shape)\n",
        "print(\"Validation Labels:\", y_val.shape)\n",
        "print(\"Testing Data:\", test.shape)"
      ],
      "execution_count": 3,
      "outputs": [
        {
          "output_type": "stream",
          "text": [
            "Training Data: (753, 30000)\n",
            "Training Labels: (753, 10)\n",
            "Validation Data: (189, 30000)\n",
            "Validation Labels: (189, 10)\n",
            "Testing Data: (558, 30000)\n"
          ],
          "name": "stdout"
        }
      ]
    },
    {
      "cell_type": "code",
      "metadata": {
        "id": "R0_t6ZvmW7cL",
        "outputId": "1e653bed-1ad0-486a-ab8e-30560506bda2",
        "colab": {
          "base_uri": "https://localhost:8080/",
          "height": 34
        }
      },
      "source": [
        "# Get training data without augmentation\n",
        "def get_data_2(X_train_original, y_train_original):\n",
        "  new_data = []\n",
        "  new_labels = []\n",
        "  for i in range(0, len(X_train_original)):\n",
        "    data = X_train_original[i]\n",
        "    label = y_train_original[i]\n",
        "    new_data.append(data)\n",
        "    new_labels.append(label)\n",
        "  train_data = np.array(new_data)\n",
        "  y_train = np.array(new_labels)\n",
        "  return train_data, y_train\n",
        "\n",
        "train_data, y_train = get_data_2(X_train_original, y_train_original)\n",
        "print(train_data.shape, y_train.shape)"
      ],
      "execution_count": 4,
      "outputs": [
        {
          "output_type": "stream",
          "text": [
            "(753, 30000) (753, 10)\n"
          ],
          "name": "stdout"
        }
      ]
    },
    {
      "cell_type": "code",
      "metadata": {
        "id": "bl4yARVXTCpx"
      },
      "source": [
        "## Normalize data\n",
        "train_data /= train_data.max()\n",
        "X_val_original /= X_val_original.max()\n",
        "test /= test.max()"
      ],
      "execution_count": 5,
      "outputs": []
    },
    {
      "cell_type": "code",
      "metadata": {
        "id": "3wTLj5JIPouL",
        "outputId": "e015822f-7745-4cd4-948d-a11f65b29fee",
        "colab": {
          "base_uri": "https://localhost:8080/",
          "height": 34
        }
      },
      "source": [
        "X_train = train_data.reshape((train_data.shape[0], train_data.shape[1], 1))\n",
        "X_val = X_val_original.reshape((X_val_original.shape[0], X_val_original.shape[1], 1))\n",
        "X_test = test.reshape((test.shape[0], test.shape[1], 1))\n",
        "print(X_train.shape, X_val.shape, X_test.shape, y_train.shape, y_val.shape)"
      ],
      "execution_count": 6,
      "outputs": [
        {
          "output_type": "stream",
          "text": [
            "(753, 30000, 1) (189, 30000, 1) (558, 30000, 1) (753, 10) (189, 10)\n"
          ],
          "name": "stdout"
        }
      ]
    },
    {
      "cell_type": "markdown",
      "metadata": {
        "id": "lVpiQoeYsdfu"
      },
      "source": [
        "# Define Model"
      ]
    },
    {
      "cell_type": "code",
      "metadata": {
        "id": "bu8hKb8E0rBH"
      },
      "source": [
        "## Base Model Architecture \n",
        "def getBaseModel():\n",
        "  model = models.Sequential()\n",
        "  model.add(layers.Conv1D(32, 3, activation='relu', input_shape=(30000, 1)))\n",
        "  model.add(layers.MaxPooling1D(2))\n",
        "  model.add(layers.Conv1D(64, 3, activation='relu'))\n",
        "  model.add(layers.MaxPooling1D(2))\n",
        "  model.add(layers.Conv1D(128, 3, activation='relu'))\n",
        "  model.add(layers.Flatten())\n",
        "  model.add(layers.Dense(128, activation='relu'))\n",
        "  model.add(layers.Dense(64, activation='relu'))\n",
        "  model.add(layers.Dense(10, activation='softmax'))\n",
        "  model.summary()\n",
        "  return model\n",
        "\n",
        "def get_model_2():\n",
        "  model = tf.keras.models.Sequential()\n",
        "  model.add(layers.Conv1D(32, kernel_size=3, activation='relu', \n",
        "                    input_shape=(30000, 1)))\n",
        "  model.add(layers.Dropout(0.25))\n",
        "  model.add(layers.Conv1D(48, kernel_size=3, activation='relu'))\n",
        "  model.add(layers.Conv1D(120, kernel_size=3, activation='relu'))\n",
        "  model.add(layers.MaxPooling1D(pool_size=2))\n",
        "  model.add(layers.Dropout(0.25))\n",
        "  model.add(layers.Flatten())\n",
        "  model.add(layers.Dense(128, activation='relu'))\n",
        "  model.add(layers.Dropout(0.25))\n",
        "  model.add(layers.Dense(64, activation='relu'))\n",
        "  model.add(layers.Dropout(0.4))\n",
        "  model.add(layers.Dense(10, activation='softmax'))\n",
        "  return model\n",
        "\n",
        "def get_model_3():\n",
        "  model = tf.keras.models.Sequential()\n",
        "  model.add(layers.Conv1D(32, kernel_size=3, activation='relu', \n",
        "                    input_shape=(30000, 1)))\n",
        "  model.add(layers.MaxPooling1D(pool_size=2))\n",
        "  model.add(layers.Dropout(0.25))\n",
        "  model.add(layers.Conv1D(64, kernel_size=3, activation='relu'))\n",
        "  model.add(layers.MaxPooling1D(pool_size=2))\n",
        "  model.add(layers.Dropout(0.25))\n",
        "  model.add(layers.Conv1D(128, kernel_size=3, activation='relu'))\n",
        "  model.add(layers.MaxPooling1D(pool_size=2))\n",
        "  model.add(layers.Dropout(0.25))\n",
        "  model.add(layers.Flatten())\n",
        "  model.add(layers.Dense(128, activation='relu'))\n",
        "  model.add(layers.Dropout(0.25))\n",
        "  model.add(layers.Dense(64, activation='relu'))\n",
        "  model.add(layers.Dropout(0.4))\n",
        "  model.add(layers.Dense(10, activation='softmax'))\n",
        "  return model"
      ],
      "execution_count": 22,
      "outputs": []
    },
    {
      "cell_type": "code",
      "metadata": {
        "id": "fYVYzIIdN_2u"
      },
      "source": [
        "## Compile and Train Model with Early stopping\n",
        "def compileTrainModel(model, optimizer = 'adam', epochs = 10):\n",
        "  earlyStopping = tf.keras.callbacks.EarlyStopping(monitor='loss', patience=3)\n",
        "  \n",
        "  model.compile(optimizer=optimizer,\n",
        "          loss=tf.keras.losses.categorical_crossentropy,\n",
        "          metrics=['accuracy'])\n",
        "  \n",
        "  history = model.fit(X_train, y_train, epochs=epochs, verbose=2, batch_size=64,\n",
        "          validation_data=(X_val, y_val), callbacks=earlyStopping)\n",
        "  \n",
        "  return history\n",
        "\n",
        "## Plot Training History\n",
        "def plotTrainingAccuracy(history):\n",
        "  plt.figure()\n",
        "  plt.plot(history.history['accuracy'], label='training_accuracy')\n",
        "  plt.plot(history.history['val_accuracy'], label = 'validation_accuracy')\n",
        "  plt.xlabel('Epoch')\n",
        "  plt.ylabel('Accuracy')\n",
        "  plt.legend(loc='upper left')\n",
        "  plt.show()\n",
        "  plt.close()\n",
        "\n",
        "def plotTrainingLoss(history):\n",
        "  plt.figure()\n",
        "  plt.plot(history.history['loss'], label='training_loss')\n",
        "  plt.plot(history.history['val_loss'], label = 'validation_loss')\n",
        "  plt.xlabel('Epoch')\n",
        "  plt.ylabel('Loss')\n",
        "  plt.legend(loc='upper left')\n",
        "  plt.show()\n",
        "  plt.close()\n",
        "\n",
        "## Evaluate the model\n",
        "def predictModel(model, test):\n",
        "  return model.predict_classes(test, verbose=0)\n",
        "  \n",
        "\n",
        "## Evaluate the model\n",
        "def evaluateModel(model, X_test, y_test):\n",
        "  test_loss, test_acc = model.evaluate(X_test, y_test, verbose=0)\n",
        "  print(\"\\n ### Performance of Test Data ###\")\n",
        "  print(\"Validation Accuracy: \", test_acc)\n",
        "  print(\"Validation Loss: \", test_loss, \"\\n\")"
      ],
      "execution_count": 12,
      "outputs": []
    },
    {
      "cell_type": "markdown",
      "metadata": {
        "id": "ZE9JithTsiqJ"
      },
      "source": [
        "# Train Model 1"
      ]
    },
    {
      "cell_type": "code",
      "metadata": {
        "id": "bAlaXn85N_2x",
        "outputId": "e1c6a01a-e7f3-43ba-c679-889350b87fc9",
        "colab": {
          "base_uri": "https://localhost:8080/",
          "height": 1000
        }
      },
      "source": [
        "model = getBaseModel()\n",
        "history = compileTrainModel(model, optimizer = 'adam', epochs = 100)"
      ],
      "execution_count": 10,
      "outputs": [
        {
          "output_type": "stream",
          "text": [
            "Model: \"sequential\"\n",
            "_________________________________________________________________\n",
            "Layer (type)                 Output Shape              Param #   \n",
            "=================================================================\n",
            "conv1d (Conv1D)              (None, 29998, 32)         128       \n",
            "_________________________________________________________________\n",
            "max_pooling1d (MaxPooling1D) (None, 14999, 32)         0         \n",
            "_________________________________________________________________\n",
            "conv1d_1 (Conv1D)            (None, 14997, 64)         6208      \n",
            "_________________________________________________________________\n",
            "max_pooling1d_1 (MaxPooling1 (None, 7498, 64)          0         \n",
            "_________________________________________________________________\n",
            "conv1d_2 (Conv1D)            (None, 7496, 128)         24704     \n",
            "_________________________________________________________________\n",
            "flatten (Flatten)            (None, 959488)            0         \n",
            "_________________________________________________________________\n",
            "dense (Dense)                (None, 128)               122814592 \n",
            "_________________________________________________________________\n",
            "dense_1 (Dense)              (None, 64)                8256      \n",
            "_________________________________________________________________\n",
            "dense_2 (Dense)              (None, 10)                650       \n",
            "=================================================================\n",
            "Total params: 122,854,538\n",
            "Trainable params: 122,854,538\n",
            "Non-trainable params: 0\n",
            "_________________________________________________________________\n",
            "Epoch 1/100\n",
            "WARNING:tensorflow:Callbacks method `on_train_batch_end` is slow compared to the batch time (batch time: 0.0508s vs `on_train_batch_end` time: 0.0931s). Check your callbacks.\n",
            "12/12 - 2s - loss: 2.5841 - accuracy: 0.1248 - val_loss: 2.2193 - val_accuracy: 0.1164\n",
            "Epoch 2/100\n",
            "12/12 - 2s - loss: 2.1525 - accuracy: 0.1713 - val_loss: 2.1619 - val_accuracy: 0.1852\n",
            "Epoch 3/100\n",
            "12/12 - 2s - loss: 1.9632 - accuracy: 0.2802 - val_loss: 2.0478 - val_accuracy: 0.2116\n",
            "Epoch 4/100\n",
            "12/12 - 2s - loss: 1.6887 - accuracy: 0.3918 - val_loss: 1.9847 - val_accuracy: 0.2116\n",
            "Epoch 5/100\n",
            "12/12 - 2s - loss: 1.4843 - accuracy: 0.4223 - val_loss: 1.9722 - val_accuracy: 0.2540\n",
            "Epoch 6/100\n",
            "12/12 - 2s - loss: 1.3440 - accuracy: 0.5179 - val_loss: 2.1627 - val_accuracy: 0.3122\n",
            "Epoch 7/100\n",
            "12/12 - 2s - loss: 1.2270 - accuracy: 0.5604 - val_loss: 1.9691 - val_accuracy: 0.3598\n",
            "Epoch 8/100\n",
            "12/12 - 2s - loss: 1.0845 - accuracy: 0.6189 - val_loss: 2.7464 - val_accuracy: 0.3016\n",
            "Epoch 9/100\n",
            "12/12 - 2s - loss: 1.1453 - accuracy: 0.6255 - val_loss: 2.5246 - val_accuracy: 0.2804\n",
            "Epoch 10/100\n",
            "12/12 - 2s - loss: 1.1047 - accuracy: 0.6335 - val_loss: 2.3534 - val_accuracy: 0.2804\n",
            "Epoch 11/100\n",
            "12/12 - 2s - loss: 0.9409 - accuracy: 0.6773 - val_loss: 2.5154 - val_accuracy: 0.3492\n",
            "Epoch 12/100\n",
            "12/12 - 2s - loss: 0.8478 - accuracy: 0.7185 - val_loss: 2.3884 - val_accuracy: 0.3386\n",
            "Epoch 13/100\n",
            "12/12 - 2s - loss: 0.7933 - accuracy: 0.7092 - val_loss: 2.6195 - val_accuracy: 0.3704\n",
            "Epoch 14/100\n",
            "12/12 - 2s - loss: 0.7504 - accuracy: 0.7291 - val_loss: 2.7215 - val_accuracy: 0.3492\n",
            "Epoch 15/100\n",
            "12/12 - 2s - loss: 0.7087 - accuracy: 0.7317 - val_loss: 2.6429 - val_accuracy: 0.3915\n",
            "Epoch 16/100\n",
            "12/12 - 2s - loss: 0.7237 - accuracy: 0.7397 - val_loss: 3.2517 - val_accuracy: 0.3175\n",
            "Epoch 17/100\n",
            "12/12 - 2s - loss: 0.7061 - accuracy: 0.7410 - val_loss: 3.4657 - val_accuracy: 0.3280\n",
            "Epoch 18/100\n",
            "12/12 - 2s - loss: 0.7050 - accuracy: 0.7371 - val_loss: 2.8025 - val_accuracy: 0.3915\n",
            "Epoch 19/100\n",
            "12/12 - 2s - loss: 0.6700 - accuracy: 0.7663 - val_loss: 3.7847 - val_accuracy: 0.3228\n",
            "Epoch 20/100\n",
            "12/12 - 2s - loss: 0.6238 - accuracy: 0.7703 - val_loss: 3.8787 - val_accuracy: 0.3862\n",
            "Epoch 21/100\n",
            "12/12 - 2s - loss: 0.6091 - accuracy: 0.7756 - val_loss: 4.0347 - val_accuracy: 0.4021\n",
            "Epoch 22/100\n",
            "12/12 - 2s - loss: 0.6058 - accuracy: 0.7716 - val_loss: 4.1567 - val_accuracy: 0.3333\n",
            "Epoch 23/100\n",
            "12/12 - 2s - loss: 0.5999 - accuracy: 0.7782 - val_loss: 4.2451 - val_accuracy: 0.3915\n",
            "Epoch 24/100\n",
            "12/12 - 2s - loss: 0.5879 - accuracy: 0.7822 - val_loss: 4.0149 - val_accuracy: 0.3862\n",
            "Epoch 25/100\n",
            "12/12 - 2s - loss: 0.6495 - accuracy: 0.7809 - val_loss: 4.0056 - val_accuracy: 0.3492\n",
            "Epoch 26/100\n",
            "12/12 - 2s - loss: 0.6093 - accuracy: 0.7928 - val_loss: 4.2007 - val_accuracy: 0.3862\n",
            "Epoch 27/100\n",
            "12/12 - 2s - loss: 0.6318 - accuracy: 0.7955 - val_loss: 4.8769 - val_accuracy: 0.3598\n"
          ],
          "name": "stdout"
        }
      ]
    },
    {
      "cell_type": "code",
      "metadata": {
        "id": "ZI7UI22NN_23",
        "outputId": "ab1a20a5-14bf-45dc-a7a5-2392e2f70575",
        "colab": {
          "base_uri": "https://localhost:8080/",
          "height": 626
        }
      },
      "source": [
        "plotTrainingAccuracy(history)\n",
        "plotTrainingLoss(history)\n",
        "evaluateModel(model, X_val, y_val)"
      ],
      "execution_count": 13,
      "outputs": [
        {
          "output_type": "display_data",
          "data": {
            "image/png": "[encoded data removed]",
            "text/plain": [
              "<Figure size 432x288 with 1 Axes>"
            ]
          },
          "metadata": {
            "tags": [],
            "needs_background": "light"
          }
        },
        {
          "output_type": "display_data",
          "data": {
            "image/png": "[encoded data removed]",
            "text/plain": [
              "<Figure size 432x288 with 1 Axes>"
            ]
          },
          "metadata": {
            "tags": [],
            "needs_background": "light"
          }
        },
        {
          "output_type": "stream",
          "text": [
            "\n",
            " ### Performance of Test Data ###\n",
            "Validation Accuracy:  0.35978835821151733\n",
            "Validation Loss:  4.876947402954102 \n",
            "\n"
          ],
          "name": "stdout"
        }
      ]
    },
    {
      "cell_type": "code",
      "metadata": {
        "id": "GoNqor6aAjWU",
        "outputId": "3fdd8f2c-dd3d-4e38-e82f-89ff8ba5ef05",
        "colab": {
          "base_uri": "https://localhost:8080/",
          "height": 530
        }
      },
      "source": [
        "predictions = predictModel(model, X_test)\n",
        "predictions"
      ],
      "execution_count": 15,
      "outputs": [
        {
          "output_type": "stream",
          "text": [
            "WARNING:tensorflow:From <ipython-input-12-2d502210e010>:37: Sequential.predict_classes (from tensorflow.python.keras.engine.sequential) is deprecated and will be removed after 2021-01-01.\n",
            "Instructions for updating:\n",
            "Please use instead:* `np.argmax(model.predict(x), axis=-1)`,   if your model does multi-class classification   (e.g. if it uses a `softmax` last-layer activation).* `(model.predict(x) > 0.5).astype(\"int32\")`,   if your model does binary classification   (e.g. if it uses a `sigmoid` last-layer activation).\n"
          ],
          "name": "stdout"
        },
        {
          "output_type": "execute_result",
          "data": {
            "text/plain": [
              "array([5, 5, 4, 1, 1, 5, 9, 9, 0, 0, 1, 0, 4, 8, 0, 1, 4, 4, 5, 1, 4, 6,\n",
              "       0, 4, 1, 5, 5, 1, 0, 1, 5, 4, 8, 0, 6, 0, 6, 0, 4, 0, 0, 1, 1, 9,\n",
              "       8, 0, 1, 1, 1, 1, 0, 6, 1, 0, 8, 1, 5, 0, 0, 0, 0, 1, 8, 4, 0, 0,\n",
              "       1, 6, 1, 1, 0, 4, 0, 4, 1, 1, 1, 6, 1, 1, 0, 1, 6, 0, 1, 0, 0, 0,\n",
              "       9, 6, 0, 8, 0, 4, 1, 1, 1, 0, 6, 6, 6, 3, 1, 1, 1, 0, 1, 4, 0, 0,\n",
              "       1, 0, 1, 5, 0, 0, 1, 5, 5, 1, 5, 0, 0, 1, 0, 1, 3, 1, 1, 3, 8, 1,\n",
              "       6, 8, 3, 0, 4, 1, 4, 4, 1, 8, 1, 8, 1, 0, 0, 0, 1, 1, 0, 0, 5, 0,\n",
              "       3, 5, 3, 0, 1, 1, 3, 8, 0, 0, 8, 1, 6, 6, 4, 0, 5, 0, 1, 1, 6, 8,\n",
              "       3, 0, 1, 1, 5, 4, 0, 0, 4, 4, 0, 1, 1, 1, 4, 6, 0, 4, 4, 8, 1, 5,\n",
              "       0, 6, 5, 0, 1, 4, 6, 5, 0, 0, 1, 3, 0, 0, 4, 1, 1, 0, 6, 4, 3, 0,\n",
              "       9, 0, 1, 0, 0, 1, 8, 8, 1, 0, 1, 0, 6, 5, 0, 8, 6, 8, 1, 0, 6, 5,\n",
              "       6, 0, 8, 5, 0, 6, 1, 1, 0, 0, 6, 8, 0, 5, 4, 1, 0, 0, 0, 0, 5, 1,\n",
              "       1, 3, 8, 1, 4, 4, 8, 1, 1, 1, 1, 6, 0, 0, 0, 1, 1, 1, 4, 3, 8, 0,\n",
              "       6, 8, 1, 3, 0, 0, 0, 6, 0, 6, 4, 3, 1, 6, 8, 8, 0, 9, 1, 1, 6, 1,\n",
              "       1, 3, 3, 4, 1, 6, 0, 0, 4, 3, 1, 0, 8, 1, 1, 8, 0, 3, 3, 1, 0, 0,\n",
              "       6, 0, 4, 4, 4, 1, 0, 0, 6, 6, 1, 0, 8, 9, 1, 6, 8, 6, 0, 4, 8, 1,\n",
              "       3, 4, 6, 0, 6, 8, 8, 4, 3, 1, 4, 1, 8, 8, 6, 6, 1, 4, 0, 1, 0, 6,\n",
              "       1, 1, 6, 6, 9, 1, 1, 1, 3, 1, 1, 8, 1, 0, 0, 1, 5, 8, 6, 6, 0, 1,\n",
              "       1, 0, 1, 1, 4, 4, 0, 1, 0, 6, 1, 0, 1, 1, 5, 0, 0, 1, 1, 1, 0, 1,\n",
              "       6, 0, 8, 1, 6, 8, 1, 1, 4, 6, 0, 0, 3, 8, 1, 4, 0, 1, 1, 4, 0, 8,\n",
              "       0, 8, 0, 6, 3, 1, 6, 3, 0, 1, 4, 4, 1, 1, 1, 0, 3, 3, 1, 1, 0, 6,\n",
              "       1, 1, 1, 0, 0, 0, 3, 3, 0, 0, 4, 1, 8, 5, 1, 0, 8, 0, 0, 3, 3, 8,\n",
              "       5, 5, 0, 5, 1, 4, 4, 1, 0, 3, 0, 4, 0, 8, 4, 4, 0, 8, 0, 1, 1, 8,\n",
              "       0, 0, 0, 6, 8, 8, 3, 8, 1, 1, 4, 3, 0, 3, 4, 1, 4, 1, 1, 3, 6, 1,\n",
              "       0, 3, 5, 5, 4, 1, 1, 5, 1, 0, 0, 0, 6, 7, 4, 1, 0, 1, 4, 1, 8, 9,\n",
              "       6, 0, 0, 1, 5, 5, 0, 4])"
            ]
          },
          "metadata": {
            "tags": []
          },
          "execution_count": 15
        }
      ]
    },
    {
      "cell_type": "code",
      "metadata": {
        "id": "rwpOE_YaJUfu"
      },
      "source": [
        "pd.DataFrame(predictions).to_csv(\"submission.csv\")"
      ],
      "execution_count": 17,
      "outputs": []
    },
    {
      "cell_type": "markdown",
      "metadata": {
        "id": "3alkUNHlslsw"
      },
      "source": [
        "# Train Model 2"
      ]
    },
    {
      "cell_type": "code",
      "metadata": {
        "id": "9nh-QpDEuhzX",
        "outputId": "2f75c06b-7879-4f15-9502-671989d43ef3",
        "colab": {
          "base_uri": "https://localhost:8080/",
          "height": 1000
        }
      },
      "source": [
        "model_2 = get_model_2()\n",
        "history_2 = compileTrainModel(model_2, optimizer = 'adam', epochs = 100)"
      ],
      "execution_count": 18,
      "outputs": [
        {
          "output_type": "stream",
          "text": [
            "Epoch 1/100\n",
            "WARNING:tensorflow:Callbacks method `on_train_batch_end` is slow compared to the batch time (batch time: 0.1374s vs `on_train_batch_end` time: 0.2269s). Check your callbacks.\n",
            "12/12 - 5s - loss: 2.7288 - accuracy: 0.0943 - val_loss: 2.2850 - val_accuracy: 0.1429\n",
            "Epoch 2/100\n",
            "12/12 - 4s - loss: 2.2591 - accuracy: 0.1328 - val_loss: 2.2457 - val_accuracy: 0.1534\n",
            "Epoch 3/100\n",
            "12/12 - 4s - loss: 2.2150 - accuracy: 0.1514 - val_loss: 2.1780 - val_accuracy: 0.1164\n",
            "Epoch 4/100\n",
            "12/12 - 4s - loss: 2.1663 - accuracy: 0.1673 - val_loss: 2.1967 - val_accuracy: 0.1746\n",
            "Epoch 5/100\n",
            "12/12 - 4s - loss: 2.1321 - accuracy: 0.1806 - val_loss: 2.1351 - val_accuracy: 0.1852\n",
            "Epoch 6/100\n",
            "12/12 - 4s - loss: 2.0453 - accuracy: 0.2244 - val_loss: 2.0998 - val_accuracy: 0.2011\n",
            "Epoch 7/100\n",
            "12/12 - 4s - loss: 1.9923 - accuracy: 0.2284 - val_loss: 2.1346 - val_accuracy: 0.1852\n",
            "Epoch 8/100\n",
            "12/12 - 4s - loss: 1.9480 - accuracy: 0.2550 - val_loss: 2.0936 - val_accuracy: 0.2116\n",
            "Epoch 9/100\n",
            "12/12 - 4s - loss: 1.9188 - accuracy: 0.2789 - val_loss: 2.0649 - val_accuracy: 0.2222\n",
            "Epoch 10/100\n",
            "12/12 - 4s - loss: 1.8256 - accuracy: 0.3054 - val_loss: 2.0107 - val_accuracy: 0.2063\n",
            "Epoch 11/100\n",
            "12/12 - 4s - loss: 1.7243 - accuracy: 0.3466 - val_loss: 2.0774 - val_accuracy: 0.1746\n",
            "Epoch 12/100\n",
            "12/12 - 4s - loss: 1.6820 - accuracy: 0.3559 - val_loss: 2.0385 - val_accuracy: 0.2487\n",
            "Epoch 13/100\n",
            "12/12 - 4s - loss: 1.5727 - accuracy: 0.4329 - val_loss: 2.0722 - val_accuracy: 0.2328\n",
            "Epoch 14/100\n",
            "12/12 - 4s - loss: 1.4853 - accuracy: 0.4369 - val_loss: 2.0179 - val_accuracy: 0.3069\n",
            "Epoch 15/100\n",
            "12/12 - 4s - loss: 1.4878 - accuracy: 0.4608 - val_loss: 2.1120 - val_accuracy: 0.2381\n",
            "Epoch 16/100\n",
            "12/12 - 4s - loss: 1.4173 - accuracy: 0.4927 - val_loss: 2.0352 - val_accuracy: 0.2698\n",
            "Epoch 17/100\n",
            "12/12 - 4s - loss: 1.3284 - accuracy: 0.5232 - val_loss: 2.1255 - val_accuracy: 0.3016\n",
            "Epoch 18/100\n",
            "12/12 - 4s - loss: 1.2645 - accuracy: 0.5246 - val_loss: 1.9782 - val_accuracy: 0.3598\n",
            "Epoch 19/100\n",
            "12/12 - 4s - loss: 1.3111 - accuracy: 0.5365 - val_loss: 1.8925 - val_accuracy: 0.3280\n",
            "Epoch 20/100\n",
            "12/12 - 4s - loss: 1.2486 - accuracy: 0.5418 - val_loss: 1.9686 - val_accuracy: 0.3439\n",
            "Epoch 21/100\n",
            "12/12 - 4s - loss: 1.1406 - accuracy: 0.5750 - val_loss: 2.0038 - val_accuracy: 0.3598\n",
            "Epoch 22/100\n",
            "12/12 - 4s - loss: 1.1308 - accuracy: 0.6016 - val_loss: 1.8533 - val_accuracy: 0.3439\n",
            "Epoch 23/100\n",
            "12/12 - 4s - loss: 1.0853 - accuracy: 0.6109 - val_loss: 2.2782 - val_accuracy: 0.3069\n",
            "Epoch 24/100\n",
            "12/12 - 4s - loss: 1.0394 - accuracy: 0.6268 - val_loss: 1.8843 - val_accuracy: 0.3439\n",
            "Epoch 25/100\n",
            "12/12 - 4s - loss: 1.0072 - accuracy: 0.6454 - val_loss: 2.0023 - val_accuracy: 0.3280\n",
            "Epoch 26/100\n",
            "12/12 - 4s - loss: 0.9557 - accuracy: 0.6587 - val_loss: 2.0019 - val_accuracy: 0.3598\n",
            "Epoch 27/100\n",
            "12/12 - 4s - loss: 0.9473 - accuracy: 0.6879 - val_loss: 1.9931 - val_accuracy: 0.3545\n",
            "Epoch 28/100\n",
            "12/12 - 4s - loss: 0.8801 - accuracy: 0.6720 - val_loss: 1.9203 - val_accuracy: 0.3651\n",
            "Epoch 29/100\n",
            "12/12 - 4s - loss: 0.8680 - accuracy: 0.6985 - val_loss: 2.0831 - val_accuracy: 0.3598\n",
            "Epoch 30/100\n",
            "12/12 - 4s - loss: 0.9001 - accuracy: 0.6866 - val_loss: 2.0748 - val_accuracy: 0.3280\n",
            "Epoch 31/100\n",
            "12/12 - 4s - loss: 0.8458 - accuracy: 0.6892 - val_loss: 2.0754 - val_accuracy: 0.3280\n",
            "Epoch 32/100\n",
            "12/12 - 4s - loss: 0.8087 - accuracy: 0.7025 - val_loss: 2.0669 - val_accuracy: 0.3810\n",
            "Epoch 33/100\n",
            "12/12 - 4s - loss: 0.7383 - accuracy: 0.7331 - val_loss: 2.2724 - val_accuracy: 0.3333\n",
            "Epoch 34/100\n",
            "12/12 - 4s - loss: 0.7973 - accuracy: 0.7198 - val_loss: 2.1958 - val_accuracy: 0.3810\n",
            "Epoch 35/100\n",
            "12/12 - 4s - loss: 0.7399 - accuracy: 0.7477 - val_loss: 2.1637 - val_accuracy: 0.3862\n",
            "Epoch 36/100\n",
            "12/12 - 4s - loss: 0.7231 - accuracy: 0.7291 - val_loss: 2.0800 - val_accuracy: 0.3862\n",
            "Epoch 37/100\n",
            "12/12 - 4s - loss: 0.6691 - accuracy: 0.7543 - val_loss: 2.4244 - val_accuracy: 0.3175\n",
            "Epoch 38/100\n",
            "12/12 - 4s - loss: 0.7100 - accuracy: 0.7570 - val_loss: 2.0711 - val_accuracy: 0.3968\n",
            "Epoch 39/100\n",
            "12/12 - 4s - loss: 0.6647 - accuracy: 0.7676 - val_loss: 2.7523 - val_accuracy: 0.3704\n",
            "Epoch 40/100\n",
            "12/12 - 4s - loss: 0.6935 - accuracy: 0.7676 - val_loss: 2.2834 - val_accuracy: 0.4074\n",
            "Epoch 41/100\n",
            "12/12 - 4s - loss: 0.6694 - accuracy: 0.7716 - val_loss: 2.3011 - val_accuracy: 0.3545\n",
            "Epoch 42/100\n",
            "12/12 - 4s - loss: 0.7222 - accuracy: 0.7703 - val_loss: 2.2849 - val_accuracy: 0.3439\n"
          ],
          "name": "stdout"
        }
      ]
    },
    {
      "cell_type": "code",
      "metadata": {
        "id": "9ME3ZPmeuqHa",
        "outputId": "3935ca5e-51cb-417d-ab9c-f69e9e191ca2",
        "colab": {
          "base_uri": "https://localhost:8080/",
          "height": 629
        }
      },
      "source": [
        "plotTrainingAccuracy(history_2)\n",
        "plotTrainingLoss(history_2)\n",
        "evaluateModel(model_2, X_val, y_val)"
      ],
      "execution_count": 19,
      "outputs": [
        {
          "output_type": "display_data",
          "data": {
            "image/png": "[encoded data removed]",
            "text/plain": [
              "<Figure size 432x288 with 1 Axes>"
            ]
          },
          "metadata": {
            "tags": [],
            "needs_background": "light"
          }
        },
        {
          "output_type": "display_data",
          "data": {
            "image/png": "[encoded data removed]",
            "text/plain": [
              "<Figure size 432x288 with 1 Axes>"
            ]
          },
          "metadata": {
            "tags": [],
            "needs_background": "light"
          }
        },
        {
          "output_type": "stream",
          "text": [
            "\n",
            " ### Performance of Test Data ###\n",
            "Validation Accuracy:  0.34391534328460693\n",
            "Validation Loss:  2.2849442958831787 \n",
            "\n"
          ],
          "name": "stdout"
        }
      ]
    },
    {
      "cell_type": "code",
      "metadata": {
        "id": "3l7ms1ovuwjc",
        "outputId": "a25eaec5-c231-402b-8516-bf54afc0ac79",
        "colab": {
          "base_uri": "https://localhost:8080/",
          "height": 459
        }
      },
      "source": [
        "predictions = predictModel(model_2, X_test)\n",
        "predictions"
      ],
      "execution_count": 20,
      "outputs": [
        {
          "output_type": "execute_result",
          "data": {
            "text/plain": [
              "array([8, 8, 4, 1, 3, 5, 0, 3, 6, 0, 1, 9, 8, 8, 3, 3, 3, 7, 8, 1, 7, 8,\n",
              "       8, 3, 3, 8, 3, 0, 0, 1, 3, 1, 8, 3, 6, 1, 6, 6, 0, 9, 6, 1, 1, 0,\n",
              "       3, 0, 6, 1, 3, 3, 3, 6, 1, 0, 8, 3, 8, 9, 1, 5, 3, 6, 8, 7, 0, 0,\n",
              "       3, 6, 1, 3, 7, 8, 0, 3, 0, 1, 3, 7, 1, 3, 6, 1, 6, 8, 3, 6, 3, 6,\n",
              "       3, 7, 0, 8, 0, 8, 3, 1, 6, 8, 3, 6, 6, 3, 3, 1, 3, 3, 1, 4, 3, 6,\n",
              "       1, 1, 1, 5, 0, 0, 5, 5, 1, 1, 7, 0, 1, 1, 6, 1, 3, 6, 1, 3, 8, 3,\n",
              "       1, 3, 3, 3, 3, 3, 3, 8, 7, 8, 0, 8, 7, 0, 0, 0, 7, 5, 3, 0, 8, 3,\n",
              "       3, 0, 3, 6, 1, 1, 6, 8, 7, 6, 8, 1, 6, 6, 8, 0, 8, 0, 8, 6, 6, 1,\n",
              "       3, 0, 6, 8, 0, 6, 8, 6, 8, 4, 6, 7, 1, 6, 8, 6, 3, 4, 8, 8, 4, 8,\n",
              "       7, 7, 5, 7, 7, 8, 6, 6, 9, 0, 6, 3, 0, 3, 0, 9, 3, 3, 6, 3, 3, 6,\n",
              "       9, 0, 1, 3, 6, 1, 8, 8, 6, 1, 3, 6, 8, 5, 1, 8, 6, 8, 3, 0, 6, 0,\n",
              "       6, 6, 8, 1, 6, 6, 1, 1, 4, 1, 3, 8, 0, 8, 8, 6, 7, 6, 3, 6, 3, 6,\n",
              "       3, 3, 8, 3, 8, 6, 8, 9, 3, 3, 3, 9, 0, 6, 0, 1, 1, 5, 4, 6, 3, 7,\n",
              "       8, 8, 3, 6, 3, 3, 7, 6, 0, 8, 8, 3, 6, 8, 8, 8, 0, 3, 1, 8, 6, 6,\n",
              "       8, 3, 3, 1, 1, 6, 6, 6, 4, 3, 6, 0, 3, 1, 1, 8, 6, 0, 6, 3, 0, 8,\n",
              "       8, 3, 7, 0, 8, 4, 3, 6, 6, 6, 1, 7, 8, 7, 0, 6, 4, 6, 6, 8, 8, 6,\n",
              "       3, 8, 6, 9, 8, 8, 8, 4, 6, 4, 8, 6, 8, 8, 1, 6, 1, 4, 7, 0, 0, 6,\n",
              "       1, 1, 6, 6, 9, 1, 3, 3, 3, 3, 1, 3, 5, 0, 0, 7, 1, 8, 6, 6, 6, 5,\n",
              "       3, 1, 5, 1, 8, 4, 3, 6, 6, 6, 1, 3, 3, 1, 5, 7, 1, 4, 1, 4, 3, 6,\n",
              "       6, 0, 8, 1, 6, 8, 3, 1, 1, 8, 3, 3, 3, 6, 6, 3, 8, 1, 1, 3, 9, 8,\n",
              "       0, 8, 0, 6, 3, 6, 1, 3, 6, 1, 4, 0, 1, 4, 3, 6, 3, 3, 8, 4, 0, 6,\n",
              "       8, 3, 3, 6, 1, 8, 6, 3, 6, 1, 3, 3, 8, 8, 1, 1, 7, 5, 7, 3, 3, 8,\n",
              "       0, 7, 8, 9, 1, 1, 0, 1, 1, 6, 6, 4, 6, 8, 0, 3, 6, 3, 1, 0, 3, 8,\n",
              "       0, 9, 1, 3, 6, 3, 6, 8, 1, 1, 3, 3, 0, 6, 1, 1, 7, 4, 3, 6, 6, 8,\n",
              "       7, 3, 7, 9, 8, 6, 1, 8, 6, 1, 0, 3, 5, 3, 3, 3, 0, 5, 4, 7, 8, 9,\n",
              "       6, 0, 6, 1, 0, 5, 6, 4])"
            ]
          },
          "metadata": {
            "tags": []
          },
          "execution_count": 20
        }
      ]
    },
    {
      "cell_type": "code",
      "metadata": {
        "id": "h1qgFgZTuuyE"
      },
      "source": [
        "pd.DataFrame(predictions).to_csv(\"submission_2.csv\")"
      ],
      "execution_count": 21,
      "outputs": []
    },
    {
      "cell_type": "markdown",
      "metadata": {
        "id": "KKAkoos7wGub"
      },
      "source": [
        "# Train Model 3"
      ]
    },
    {
      "cell_type": "code",
      "metadata": {
        "id": "SApu5cf4wHCH",
        "outputId": "d727af0a-bf53-43c6-d6e1-d99ed875aafa",
        "colab": {
          "base_uri": "https://localhost:8080/",
          "height": 1000
        }
      },
      "source": [
        "model_3 = get_model_3()\n",
        "history_3 = compileTrainModel(model_3, optimizer = 'adam', epochs = 100)"
      ],
      "execution_count": 23,
      "outputs": [
        {
          "output_type": "stream",
          "text": [
            "Epoch 1/100\n",
            "12/12 - 2s - loss: 2.4491 - accuracy: 0.1288 - val_loss: 2.2767 - val_accuracy: 0.1481\n",
            "Epoch 2/100\n",
            "12/12 - 2s - loss: 2.2502 - accuracy: 0.1275 - val_loss: 2.2413 - val_accuracy: 0.1481\n",
            "Epoch 3/100\n",
            "12/12 - 2s - loss: 2.1928 - accuracy: 0.1713 - val_loss: 2.1918 - val_accuracy: 0.1746\n",
            "Epoch 4/100\n",
            "12/12 - 2s - loss: 2.1624 - accuracy: 0.1713 - val_loss: 2.1677 - val_accuracy: 0.1958\n",
            "Epoch 5/100\n",
            "12/12 - 2s - loss: 2.0891 - accuracy: 0.1886 - val_loss: 2.1066 - val_accuracy: 0.2011\n",
            "Epoch 6/100\n",
            "12/12 - 2s - loss: 1.9980 - accuracy: 0.2563 - val_loss: 2.0243 - val_accuracy: 0.1958\n",
            "Epoch 7/100\n",
            "12/12 - 2s - loss: 1.9067 - accuracy: 0.2842 - val_loss: 1.9770 - val_accuracy: 0.2593\n",
            "Epoch 8/100\n",
            "12/12 - 2s - loss: 1.7534 - accuracy: 0.3373 - val_loss: 1.9030 - val_accuracy: 0.2646\n",
            "Epoch 9/100\n",
            "12/12 - 2s - loss: 1.6414 - accuracy: 0.3652 - val_loss: 1.8624 - val_accuracy: 0.3228\n",
            "Epoch 10/100\n",
            "12/12 - 2s - loss: 1.5701 - accuracy: 0.4290 - val_loss: 1.8048 - val_accuracy: 0.3333\n",
            "Epoch 11/100\n",
            "12/12 - 2s - loss: 1.4935 - accuracy: 0.4263 - val_loss: 1.8291 - val_accuracy: 0.3280\n",
            "Epoch 12/100\n",
            "12/12 - 2s - loss: 1.3840 - accuracy: 0.4821 - val_loss: 1.7358 - val_accuracy: 0.3545\n",
            "Epoch 13/100\n",
            "12/12 - 2s - loss: 1.3424 - accuracy: 0.5086 - val_loss: 1.7282 - val_accuracy: 0.3757\n",
            "Epoch 14/100\n",
            "12/12 - 2s - loss: 1.2627 - accuracy: 0.5511 - val_loss: 1.6591 - val_accuracy: 0.3968\n",
            "Epoch 15/100\n",
            "12/12 - 2s - loss: 1.1692 - accuracy: 0.5910 - val_loss: 1.7381 - val_accuracy: 0.4180\n",
            "Epoch 16/100\n",
            "12/12 - 2s - loss: 1.1034 - accuracy: 0.6096 - val_loss: 1.6934 - val_accuracy: 0.4233\n",
            "Epoch 17/100\n",
            "12/12 - 2s - loss: 1.0337 - accuracy: 0.6335 - val_loss: 1.6323 - val_accuracy: 0.4233\n",
            "Epoch 18/100\n",
            "12/12 - 2s - loss: 1.0808 - accuracy: 0.6242 - val_loss: 1.6772 - val_accuracy: 0.4550\n",
            "Epoch 19/100\n",
            "12/12 - 2s - loss: 0.9658 - accuracy: 0.6574 - val_loss: 1.8294 - val_accuracy: 0.4233\n",
            "Epoch 20/100\n",
            "12/12 - 2s - loss: 0.9288 - accuracy: 0.6653 - val_loss: 1.5902 - val_accuracy: 0.4021\n",
            "Epoch 21/100\n",
            "12/12 - 2s - loss: 0.9053 - accuracy: 0.6720 - val_loss: 1.6206 - val_accuracy: 0.4444\n",
            "Epoch 22/100\n",
            "12/12 - 2s - loss: 0.8446 - accuracy: 0.7025 - val_loss: 1.7692 - val_accuracy: 0.4974\n",
            "Epoch 23/100\n",
            "12/12 - 2s - loss: 0.8608 - accuracy: 0.6985 - val_loss: 1.7556 - val_accuracy: 0.4180\n",
            "Epoch 24/100\n",
            "12/12 - 2s - loss: 0.8470 - accuracy: 0.6972 - val_loss: 1.5640 - val_accuracy: 0.4603\n",
            "Epoch 25/100\n",
            "12/12 - 2s - loss: 0.8180 - accuracy: 0.6985 - val_loss: 1.7004 - val_accuracy: 0.4497\n",
            "Epoch 26/100\n",
            "12/12 - 2s - loss: 0.7698 - accuracy: 0.7278 - val_loss: 1.7699 - val_accuracy: 0.4497\n",
            "Epoch 27/100\n",
            "12/12 - 2s - loss: 0.7821 - accuracy: 0.7238 - val_loss: 1.6292 - val_accuracy: 0.4974\n",
            "Epoch 28/100\n",
            "12/12 - 2s - loss: 0.7230 - accuracy: 0.7410 - val_loss: 1.5699 - val_accuracy: 0.5132\n",
            "Epoch 29/100\n",
            "12/12 - 2s - loss: 0.6999 - accuracy: 0.7517 - val_loss: 1.6053 - val_accuracy: 0.4921\n",
            "Epoch 30/100\n",
            "12/12 - 2s - loss: 0.7210 - accuracy: 0.7424 - val_loss: 1.5867 - val_accuracy: 0.5132\n",
            "Epoch 31/100\n",
            "12/12 - 2s - loss: 0.6781 - accuracy: 0.7623 - val_loss: 1.6682 - val_accuracy: 0.5132\n",
            "Epoch 32/100\n",
            "12/12 - 2s - loss: 0.6359 - accuracy: 0.7888 - val_loss: 1.7237 - val_accuracy: 0.5291\n",
            "Epoch 33/100\n",
            "12/12 - 2s - loss: 0.6218 - accuracy: 0.7822 - val_loss: 1.7913 - val_accuracy: 0.5132\n",
            "Epoch 34/100\n",
            "12/12 - 2s - loss: 0.5991 - accuracy: 0.8048 - val_loss: 1.6491 - val_accuracy: 0.5344\n",
            "Epoch 35/100\n",
            "12/12 - 2s - loss: 0.5953 - accuracy: 0.8074 - val_loss: 1.5757 - val_accuracy: 0.5238\n",
            "Epoch 36/100\n",
            "12/12 - 2s - loss: 0.5252 - accuracy: 0.8274 - val_loss: 1.6982 - val_accuracy: 0.5608\n",
            "Epoch 37/100\n",
            "12/12 - 2s - loss: 0.5390 - accuracy: 0.8207 - val_loss: 1.7903 - val_accuracy: 0.5185\n",
            "Epoch 38/100\n",
            "12/12 - 2s - loss: 0.7319 - accuracy: 0.7596 - val_loss: 1.6678 - val_accuracy: 0.5132\n",
            "Epoch 39/100\n",
            "12/12 - 2s - loss: 0.5317 - accuracy: 0.8420 - val_loss: 2.0385 - val_accuracy: 0.5238\n"
          ],
          "name": "stdout"
        }
      ]
    },
    {
      "cell_type": "code",
      "metadata": {
        "id": "41vXCH3lwNcf",
        "outputId": "5908f29a-bbf8-4457-8951-0522be49ce11",
        "colab": {
          "base_uri": "https://localhost:8080/",
          "height": 626
        }
      },
      "source": [
        "plotTrainingAccuracy(history_3)\n",
        "plotTrainingLoss(history_3)\n",
        "evaluateModel(model_3, X_val, y_val)"
      ],
      "execution_count": 24,
      "outputs": [
        {
          "output_type": "display_data",
          "data": {
            "image/png": "[encoded data removed]",
            "text/plain": [
              "<Figure size 432x288 with 1 Axes>"
            ]
          },
          "metadata": {
            "tags": [],
            "needs_background": "light"
          }
        },
        {
          "output_type": "display_data",
          "data": {
            "image/png": "[encoded data removed]",
            "text/plain": [
              "<Figure size 432x288 with 1 Axes>"
            ]
          },
          "metadata": {
            "tags": [],
            "needs_background": "light"
          }
        },
        {
          "output_type": "stream",
          "text": [
            "\n",
            " ### Performance of Test Data ###\n",
            "Validation Accuracy:  0.523809552192688\n",
            "Validation Loss:  2.0385279655456543 \n",
            "\n"
          ],
          "name": "stdout"
        }
      ]
    },
    {
      "cell_type": "code",
      "metadata": {
        "id": "RfkbhlLzwMXX",
        "outputId": "99308330-74af-4b68-a788-787ee45eb37c",
        "colab": {
          "base_uri": "https://localhost:8080/",
          "height": 459
        }
      },
      "source": [
        "predictions = predictModel(model_3, X_test)\n",
        "predictions"
      ],
      "execution_count": 25,
      "outputs": [
        {
          "output_type": "execute_result",
          "data": {
            "text/plain": [
              "array([5, 9, 4, 1, 5, 5, 9, 3, 0, 0, 1, 3, 4, 8, 0, 3, 5, 0, 5, 3, 3, 8,\n",
              "       8, 8, 3, 5, 5, 0, 0, 1, 3, 4, 8, 3, 6, 3, 8, 0, 9, 9, 0, 1, 5, 9,\n",
              "       8, 0, 3, 3, 3, 7, 3, 6, 0, 0, 8, 3, 5, 3, 0, 0, 8, 6, 8, 6, 0, 0,\n",
              "       3, 6, 9, 3, 6, 8, 0, 5, 0, 5, 9, 3, 7, 5, 0, 4, 6, 8, 5, 6, 3, 3,\n",
              "       9, 6, 0, 8, 0, 8, 0, 7, 3, 8, 3, 6, 8, 4, 7, 3, 5, 3, 1, 5, 1, 8,\n",
              "       0, 0, 7, 5, 0, 0, 0, 5, 5, 4, 5, 0, 3, 1, 0, 0, 3, 8, 0, 3, 8, 7,\n",
              "       8, 8, 3, 3, 1, 3, 5, 4, 4, 8, 4, 8, 7, 6, 0, 0, 5, 5, 3, 0, 5, 3,\n",
              "       3, 5, 3, 0, 1, 0, 6, 8, 0, 3, 8, 3, 6, 6, 1, 0, 8, 0, 8, 7, 6, 8,\n",
              "       3, 0, 6, 5, 5, 5, 8, 3, 8, 1, 0, 7, 0, 3, 3, 6, 8, 4, 3, 8, 4, 5,\n",
              "       6, 6, 4, 5, 7, 8, 6, 6, 9, 9, 6, 3, 0, 0, 5, 9, 7, 3, 3, 5, 3, 0,\n",
              "       9, 0, 8, 3, 6, 4, 8, 4, 3, 3, 3, 0, 3, 5, 3, 8, 6, 8, 3, 9, 6, 5,\n",
              "       6, 3, 8, 5, 3, 6, 9, 8, 3, 0, 6, 8, 0, 5, 8, 3, 3, 6, 3, 3, 7, 8,\n",
              "       3, 3, 8, 3, 8, 4, 8, 9, 3, 3, 7, 8, 0, 8, 9, 3, 1, 5, 7, 6, 8, 3,\n",
              "       8, 8, 7, 3, 3, 0, 3, 8, 0, 8, 8, 3, 8, 8, 8, 8, 0, 9, 4, 8, 6, 7,\n",
              "       8, 3, 3, 3, 3, 6, 0, 6, 9, 3, 3, 0, 8, 4, 5, 8, 6, 9, 3, 3, 0, 8,\n",
              "       8, 3, 4, 5, 8, 4, 3, 8, 8, 6, 1, 3, 4, 9, 9, 8, 8, 6, 8, 8, 8, 4,\n",
              "       3, 8, 3, 6, 8, 8, 8, 5, 6, 4, 8, 6, 8, 8, 8, 6, 8, 4, 0, 0, 9, 3,\n",
              "       1, 1, 6, 6, 9, 4, 9, 7, 3, 3, 1, 8, 5, 0, 0, 0, 5, 8, 6, 3, 8, 5,\n",
              "       3, 5, 8, 4, 4, 4, 3, 7, 6, 6, 3, 8, 3, 5, 5, 6, 8, 4, 1, 5, 3, 3,\n",
              "       6, 0, 8, 8, 3, 8, 3, 3, 8, 8, 8, 0, 3, 8, 0, 3, 8, 0, 1, 8, 1, 8,\n",
              "       0, 8, 9, 6, 3, 3, 3, 3, 0, 5, 1, 5, 1, 5, 5, 0, 3, 3, 5, 4, 0, 3,\n",
              "       7, 3, 7, 3, 0, 8, 3, 3, 0, 0, 8, 3, 8, 8, 5, 8, 8, 8, 3, 3, 3, 4,\n",
              "       9, 5, 3, 9, 9, 5, 9, 8, 0, 3, 3, 4, 3, 8, 9, 4, 8, 8, 8, 3, 3, 8,\n",
              "       0, 3, 3, 8, 8, 8, 3, 8, 9, 1, 8, 3, 7, 6, 8, 6, 7, 4, 3, 6, 3, 3,\n",
              "       0, 3, 8, 5, 8, 8, 1, 5, 1, 3, 0, 3, 6, 7, 3, 3, 0, 1, 4, 3, 8, 9,\n",
              "       6, 0, 3, 1, 5, 5, 7, 5])"
            ]
          },
          "metadata": {
            "tags": []
          },
          "execution_count": 25
        }
      ]
    },
    {
      "cell_type": "code",
      "metadata": {
        "id": "tRrRmHeEwKNG"
      },
      "source": [
        "pd.DataFrame(predictions).to_csv(\"submission_3.csv\")"
      ],
      "execution_count": 26,
      "outputs": []
    }
  ]
}