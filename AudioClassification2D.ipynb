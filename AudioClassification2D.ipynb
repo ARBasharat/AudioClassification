{
  "nbformat": 4,
  "nbformat_minor": 0,
  "metadata": {
    "colab": {
      "name": "AudioClassification2D.ipynb",
      "provenance": [],
      "collapsed_sections": [
        "1UD-eNvPfz38",
        "IgN0V2Avb7pt",
        "gX0OrpU6hkLQ",
        "OGcbhf-yFrnz"
      ],
      "include_colab_link": true
    },
    "kernelspec": {
      "display_name": "Python 3",
      "name": "python3"
    },
    "accelerator": "GPU"
  },
  "cells": [
    {
      "cell_type": "markdown",
      "metadata": {
        "id": "view-in-github",
        "colab_type": "text"
      },
      "source": [
        "<a href=\"https://colab.research.google.com/github/ARBasharat/AudioClassification/blob/master/AudioClassification2D.ipynb\" target=\"_parent\"><img src=\"https://colab.research.google.com/assets/colab-badge.svg\" alt=\"Open In Colab\"/></a>"
      ]
    },
    {
      "cell_type": "markdown",
      "metadata": {
        "id": "8yzxm-fj2nqy",
        "colab_type": "text"
      },
      "source": [
        "Contact: abbash@iu.edu <br/>\n",
        "Audio Spectrogram Classification using 2D-Convolution <br/>"
      ]
    },
    {
      "cell_type": "markdown",
      "metadata": {
        "id": "9vhjRMEg-y8y",
        "colab_type": "text"
      },
      "source": [
        "# Import Libraries"
      ]
    },
    {
      "cell_type": "code",
      "metadata": {
        "colab_type": "code",
        "id": "iAve6DCL4JH4",
        "colab": {}
      },
      "source": [
        "import random\n",
        "import tensorflow as tf\n",
        "import keras\n",
        "import numpy as np\n",
        "import pandas as pd\n",
        "from tensorflow.keras import datasets, layers, models\n",
        "from sklearn.model_selection import train_test_split\n",
        "import matplotlib.pyplot as plt\n",
        "import librosa\n",
        "from scipy import signal"
      ],
      "execution_count": 1,
      "outputs": []
    },
    {
      "cell_type": "markdown",
      "metadata": {
        "id": "9QFJAOZNFfiX",
        "colab_type": "text"
      },
      "source": [
        "#Read Data from Google Drive"
      ]
    },
    {
      "cell_type": "code",
      "metadata": {
        "id": "iYA5MGNeFdH3",
        "colab_type": "code",
        "colab": {
          "base_uri": "https://localhost:8080/",
          "height": 34
        },
        "outputId": "6f4bd3e7-a397-46ba-a501-544e2b44bbd3"
      },
      "source": [
        "from google.colab import drive\n",
        "drive.mount(\"/content/drive\")\n",
        "\n",
        "train = np.load(\"drive/My Drive/AudioClassification/audio_train.npy\").astype('float32')\n",
        "test = np.load(\"drive/My Drive/AudioClassification/audio_test.npy\").astype('float32')\n",
        "train_labels_df = pd.read_csv(\"drive/My Drive/AudioClassification/labels_train.csv\")\n"
      ],
      "execution_count": 2,
      "outputs": [
        {
          "output_type": "stream",
          "text": [
            "Drive already mounted at /content/drive; to attempt to forcibly remount, call drive.mount(\"/content/drive\", force_remount=True).\n"
          ],
          "name": "stdout"
        }
      ]
    },
    {
      "cell_type": "markdown",
      "metadata": {
        "id": "yUv0VHZH54Fj",
        "colab_type": "text"
      },
      "source": [
        "#Process the data"
      ]
    },
    {
      "cell_type": "code",
      "metadata": {
        "id": "11jFsu6TxU8b",
        "colab_type": "code",
        "colab": {
          "base_uri": "https://localhost:8080/",
          "height": 102
        },
        "outputId": "bdd2ae72-d5c5-4b17-9703-48dc296aad63"
      },
      "source": [
        "train_labels = train_labels_df.to_numpy()[:,1]\n",
        "labels_categorical = keras.utils.to_categorical(train_labels)\n",
        "\n",
        "X_train_original, X_val_original, y_train_original, y_val = train_test_split(train, \n",
        "                          labels_categorical, test_size=0.20, random_state=42)\n",
        "\n",
        "print(\"Training Data:\", X_train_original.shape)\n",
        "print(\"Training Labels:\", y_train_original.shape)\n",
        "print(\"Validation Data:\", X_val_original.shape)\n",
        "print(\"Validation Labels:\", y_val.shape)\n",
        "print(\"Testing Data:\", test.shape)"
      ],
      "execution_count": 3,
      "outputs": [
        {
          "output_type": "stream",
          "text": [
            "Training Data: (753, 30000)\n",
            "Training Labels: (753, 10)\n",
            "Validation Data: (189, 30000)\n",
            "Validation Labels: (189, 10)\n",
            "Testing Data: (558, 30000)\n"
          ],
          "name": "stdout"
        }
      ]
    },
    {
      "cell_type": "code",
      "metadata": {
        "id": "1YPGKIztk3HC",
        "colab_type": "code",
        "colab": {}
      },
      "source": [
        "## We switch between white and normal noise randomly\n",
        "\n",
        "def add_white_noise(data, rate = 0.05):\n",
        "  data_with_white_noise = data + rate * np.random.randn(len(data))\n",
        "  return data_with_white_noise\n",
        "\n",
        "'''\n",
        "Noise addition using normal distribution with mean = 0 and std =1\n",
        "Permissible noise factor value = x > 0.004\n",
        "'''\n",
        "def add_normal_distributed_noise(data, rate = 0.09, sr = 30000):\n",
        "  data_with_noramlized_noise = data + rate * np.random.normal(0, 1, len(data))\n",
        "  return data_with_noramlized_noise\n",
        "\n",
        "'''\n",
        "Time Shifting\n",
        "Permissible factor values = sr/10\n",
        "'''\n",
        "def add_time_shift(data, sr = 30000):\n",
        "  data_with_time_shift = np.roll(data, int(sr/10))\n",
        "  return data_with_time_shift\n",
        "\n",
        "'''\n",
        "Time Stretching\n",
        "Permissible factor values = 0 < x < 1.0\n",
        "'''\n",
        "def add_time_stretch(data, factor = 0.8):\n",
        "  data_with_time_strect = librosa.effects.time_stretch(data, factor)\n",
        "  return data_with_time_strect\n",
        "\n",
        "\n",
        "'''\n",
        "Pitch shifting\n",
        "Permissible factor values = -5 <= x <= 5\n",
        "'''\n",
        "def add_pitch_shift(data, sr = 30000, steps = -7):\n",
        "  data_with_pitch_shift = librosa.effects.pitch_shift(data, sr, n_steps = steps)\n",
        "  return data_with_pitch_shift"
      ],
      "execution_count": 4,
      "outputs": []
    },
    {
      "cell_type": "code",
      "metadata": {
        "id": "_l-qPHisuteE",
        "colab_type": "code",
        "colab": {
          "base_uri": "https://localhost:8080/",
          "height": 34
        },
        "outputId": "d602039f-83ff-4817-c5ce-b461c3369860"
      },
      "source": [
        "# Get augmented_training data equal to size of real data\n",
        "def get_augmented_data_two_times(X_train_original, y_train_original):\n",
        "  new_data = []\n",
        "  new_labels = []\n",
        "  for i in range(0, len(X_train_original)):\n",
        "    data = X_train_original[i]\n",
        "    label = y_train_original[i]\n",
        "    choice = random.choice([1, 2, 3, 4, 5]) ## Used for selecting between white noise and normalized noise\n",
        "    ## get augmented data\n",
        "    new_data.append(data)\n",
        "    if choice == 1:\n",
        "      new_data.append(add_white_noise(data))\n",
        "    elif choice == 2:\n",
        "      new_data.append(add_normal_distributed_noise(data))\n",
        "    elif choice == 3:\n",
        "      new_data.append(add_time_shift(data))\n",
        "    elif choice == 4:\n",
        "      new_data.append(add_time_stretch(data))\n",
        "    elif choice == 5:\n",
        "      new_data.append(add_pitch_shift(data))\n",
        "    ## get labels\n",
        "    new_labels.append(label)\n",
        "    new_labels.append(label)\n",
        "\n",
        "  ## Shuffle data\n",
        "  compressed = list(zip(new_data, new_labels))\n",
        "  random.shuffle(compressed)\n",
        "  new_data, new_labels = zip(*compressed)\n",
        "\n",
        "  ## Get augmented train data and labels\n",
        "  train_data = np.array(new_data)\n",
        "  y_train = np.array(new_labels)\n",
        "  return train_data, y_train\n",
        "\n",
        "train_data, y_train = get_augmented_data_two_times(X_train_original, y_train_original)\n",
        "print(train_data.shape, y_train.shape)"
      ],
      "execution_count": 5,
      "outputs": [
        {
          "output_type": "stream",
          "text": [
            "(1506,) (1506, 10)\n"
          ],
          "name": "stdout"
        }
      ]
    },
    {
      "cell_type": "code",
      "metadata": {
        "id": "GOP7SkntypV_",
        "colab_type": "code",
        "colab": {}
      },
      "source": [
        "def get_spectrogram(in_data):\n",
        "  spectrogram = []\n",
        "  for elem in in_data:\n",
        "    converted = librosa.stft(elem)\n",
        "    spectrum, _ = librosa.magphase(converted)\n",
        "    spectrum = np.abs(spectrum).astype(np.float32)\n",
        "    norm = spectrum.max()\n",
        "    spectrum /= norm\n",
        "    result = np.zeros((spectrum.shape[0], 74))\n",
        "    result[:spectrum.shape[0],:spectrum.shape[1]] = spectrum\n",
        "    result = result.reshape((result.shape[0], result.shape[1], 1))\n",
        "    spectrogram.append(result)\n",
        "  spectrogram = np.array(spectrogram)\n",
        "  return spectrogram"
      ],
      "execution_count": 6,
      "outputs": []
    },
    {
      "cell_type": "code",
      "metadata": {
        "id": "aJB80VXy7rVB",
        "colab_type": "code",
        "colab": {
          "base_uri": "https://localhost:8080/",
          "height": 68
        },
        "outputId": "86da08dc-08aa-44e0-bc48-2a6dea736321"
      },
      "source": [
        "X_train = get_spectrogram(train_data)\n",
        "X_val = get_spectrogram(X_val_original)\n",
        "X_test = get_spectrogram(test)\n",
        "print(\"Train Shapes: \", X_train.shape, y_train.shape)\n",
        "print(\"Validation Shapes: \", X_val.shape, y_val.shape)\n",
        "print(\"Validation Shapes: \", X_test.shape)"
      ],
      "execution_count": 7,
      "outputs": [
        {
          "output_type": "stream",
          "text": [
            "Train Shapes:  (1506, 1025, 74, 1) (1506, 10)\n",
            "Validation Shapes:  (189, 1025, 74, 1) (189, 10)\n",
            "Validation Shapes:  (558, 1025, 74, 1)\n"
          ],
          "name": "stdout"
        }
      ]
    },
    {
      "cell_type": "markdown",
      "metadata": {
        "id": "k8ot9i2BWRiG",
        "colab_type": "text"
      },
      "source": [
        "# **Model Definations**"
      ]
    },
    {
      "cell_type": "code",
      "metadata": {
        "id": "95f5PZbfWW47",
        "colab_type": "code",
        "colab": {}
      },
      "source": [
        "def get_model(X_train):\n",
        "  model = tf.keras.models.Sequential()\n",
        "  model.add(layers.Conv2D(32, kernel_size=(2, 2), \n",
        "                          activation='relu', input_shape=X_train[0].shape))\n",
        "  model.add(layers.MaxPooling2D(pool_size=(2, 2)))\n",
        "  model.add(layers.Dropout(0.25))\n",
        "  model.add(layers.Flatten())\n",
        "  model.add(layers.Dense(128, activation='relu'))\n",
        "  model.add(layers.Dropout(0.25))\n",
        "  model.add(layers.Dense(10, activation='softmax'))\n",
        "  return model\n",
        "\n",
        "def get_model_2(X_train):\n",
        "  model = tf.keras.models.Sequential()\n",
        "  model.add(layers.Conv2D(32, kernel_size=(2, 2), activation='relu', \n",
        "                    input_shape=X_train[0].shape))\n",
        "  model.add(layers.Conv2D(48, kernel_size=(2, 2), activation='relu'))\n",
        "  model.add(layers.Conv2D(120, kernel_size=(2, 2), activation='relu'))\n",
        "  model.add(layers.MaxPooling2D(pool_size=(2, 2)))\n",
        "  model.add(layers.Dropout(0.25))\n",
        "  model.add(layers.Flatten())\n",
        "  model.add(layers.Dense(128, activation='relu'))\n",
        "  model.add(layers.Dropout(0.25))\n",
        "  model.add(layers.Dense(64, activation='relu'))\n",
        "  model.add(layers.Dropout(0.4))\n",
        "  model.add(layers.Dense(10, activation='softmax'))\n",
        "  return model\n",
        "\n",
        "def get_model_3(X_train):\n",
        "  model = tf.keras.models.Sequential()\n",
        "  model.add(layers.Conv2D(128, kernel_size=(3, 3), strides=(2,2), \n",
        "        activation='elu', padding='same', input_shape=X_train[0].shape))\n",
        "  model.add(layers.BatchNormalization())\n",
        "  model.add(layers.Dropout(0.2))\n",
        "\n",
        "  model.add(layers.Conv2D(64, kernel_size=(2, 2), strides=(2,2), \n",
        "                          activation='elu', padding='same'))\n",
        "  model.add(layers.BatchNormalization())\n",
        "  model.add(layers.Dropout(0.2))\n",
        "            \n",
        "  model.add(layers.Conv2D(64, kernel_size=(2, 2), strides=(2,2), \n",
        "                          activation='elu', padding='same'))\n",
        "  model.add(layers.BatchNormalization())\n",
        "  model.add(layers.Dropout(0.2))\n",
        "            \n",
        "  model.add(layers.Flatten())\n",
        "            \n",
        "  model.add(layers.Dense(256, activation='elu'))\n",
        "  model.add(layers.BatchNormalization())\n",
        "  model.add(layers.Dropout(0.25))\n",
        "            \n",
        "  model.add(layers.Dense(128, activation='elu'))\n",
        "  model.add(layers.BatchNormalization())\n",
        "  model.add(layers.Dropout(0.25))\n",
        "            \n",
        "  model.add(layers.Dense(10, activation='softmax'))\n",
        "  return model "
      ],
      "execution_count": 8,
      "outputs": []
    },
    {
      "cell_type": "code",
      "metadata": {
        "id": "dYxrJLvwF4t3",
        "colab_type": "code",
        "colab": {}
      },
      "source": [
        "def plot_performance_curves(history):\n",
        "  #  \"Accuracy\"\n",
        "  plt.plot(history.history['accuracy'])\n",
        "  plt.plot(history.history['val_accuracy'])\n",
        "  plt.title('model accuracy')\n",
        "  plt.ylabel('accuracy')\n",
        "  plt.xlabel('epoch')\n",
        "  plt.legend(['train', 'validation'], loc='upper left')\n",
        "  plt.show()\n",
        "  # \"Loss\"\n",
        "  plt.plot(history.history['loss'])\n",
        "  plt.plot(history.history['val_loss'])\n",
        "  plt.title('model loss')\n",
        "  plt.ylabel('loss')\n",
        "  plt.xlabel('epoch')\n",
        "  plt.legend(['train', 'validation'], loc='upper left')\n",
        "  plt.show()"
      ],
      "execution_count": 9,
      "outputs": []
    },
    {
      "cell_type": "markdown",
      "metadata": {
        "id": "_a_fdxCIU_wU",
        "colab_type": "text"
      },
      "source": [
        "# Train Model 1"
      ]
    },
    {
      "cell_type": "code",
      "metadata": {
        "id": "CHXCI3AiDO4z",
        "colab_type": "code",
        "colab": {
          "base_uri": "https://localhost:8080/",
          "height": 1000
        },
        "outputId": "e3d58276-9889-48e0-8e62-d853a2c409c9"
      },
      "source": [
        "model_1 = get_model(X_train)\n",
        "model_1.summary()\n",
        "callback = tf.keras.callbacks.EarlyStopping(monitor='val_loss', patience=3)\n",
        "\n",
        "\n",
        "model_1.compile(loss=keras.losses.categorical_crossentropy,\n",
        "              optimizer=keras.optimizers.Adam(),\n",
        "              metrics=['accuracy'])\n",
        "history_1 = model_1.fit(X_train, y_train, batch_size=64, epochs=200,\n",
        "          verbose=2, validation_data=(X_val, y_val), callbacks=callback)"
      ],
      "execution_count": 10,
      "outputs": [
        {
          "output_type": "stream",
          "text": [
            "Model: \"sequential\"\n",
            "_________________________________________________________________\n",
            "Layer (type)                 Output Shape              Param #   \n",
            "=================================================================\n",
            "conv2d (Conv2D)              (None, 1024, 73, 32)      160       \n",
            "_________________________________________________________________\n",
            "max_pooling2d (MaxPooling2D) (None, 512, 36, 32)       0         \n",
            "_________________________________________________________________\n",
            "dropout (Dropout)            (None, 512, 36, 32)       0         \n",
            "_________________________________________________________________\n",
            "flatten (Flatten)            (None, 589824)            0         \n",
            "_________________________________________________________________\n",
            "dense (Dense)                (None, 128)               75497600  \n",
            "_________________________________________________________________\n",
            "dropout_1 (Dropout)          (None, 128)               0         \n",
            "_________________________________________________________________\n",
            "dense_1 (Dense)              (None, 10)                1290      \n",
            "=================================================================\n",
            "Total params: 75,499,050\n",
            "Trainable params: 75,499,050\n",
            "Non-trainable params: 0\n",
            "_________________________________________________________________\n",
            "Epoch 1/200\n",
            "24/24 - 2s - loss: 2.5746 - accuracy: 0.3393 - val_loss: 1.5496 - val_accuracy: 0.6349\n",
            "Epoch 2/200\n",
            "24/24 - 2s - loss: 1.5667 - accuracy: 0.5505 - val_loss: 1.0257 - val_accuracy: 0.7354\n",
            "Epoch 3/200\n",
            "24/24 - 2s - loss: 1.0696 - accuracy: 0.7025 - val_loss: 0.6534 - val_accuracy: 0.8095\n",
            "Epoch 4/200\n",
            "24/24 - 2s - loss: 0.7961 - accuracy: 0.7576 - val_loss: 0.5141 - val_accuracy: 0.8677\n",
            "Epoch 5/200\n",
            "24/24 - 2s - loss: 0.6280 - accuracy: 0.8207 - val_loss: 0.4143 - val_accuracy: 0.8783\n",
            "Epoch 6/200\n",
            "24/24 - 2s - loss: 0.5320 - accuracy: 0.8479 - val_loss: 0.3490 - val_accuracy: 0.8942\n",
            "Epoch 7/200\n",
            "24/24 - 2s - loss: 0.6570 - accuracy: 0.8519 - val_loss: 0.3813 - val_accuracy: 0.9048\n",
            "Epoch 8/200\n",
            "24/24 - 2s - loss: 0.4740 - accuracy: 0.8845 - val_loss: 0.3051 - val_accuracy: 0.9048\n",
            "Epoch 9/200\n",
            "24/24 - 2s - loss: 0.3801 - accuracy: 0.8958 - val_loss: 0.3199 - val_accuracy: 0.9153\n",
            "Epoch 10/200\n",
            "24/24 - 2s - loss: 0.3749 - accuracy: 0.8918 - val_loss: 0.2823 - val_accuracy: 0.9048\n",
            "Epoch 11/200\n",
            "24/24 - 2s - loss: 0.3087 - accuracy: 0.9137 - val_loss: 0.2601 - val_accuracy: 0.9101\n",
            "Epoch 12/200\n",
            "24/24 - 2s - loss: 0.3286 - accuracy: 0.9090 - val_loss: 0.3117 - val_accuracy: 0.8942\n",
            "Epoch 13/200\n",
            "24/24 - 2s - loss: 0.2969 - accuracy: 0.9163 - val_loss: 0.2556 - val_accuracy: 0.9101\n",
            "Epoch 14/200\n",
            "24/24 - 2s - loss: 0.2582 - accuracy: 0.9150 - val_loss: 0.2446 - val_accuracy: 0.9259\n",
            "Epoch 15/200\n",
            "24/24 - 2s - loss: 0.2946 - accuracy: 0.9256 - val_loss: 0.2703 - val_accuracy: 0.9048\n",
            "Epoch 16/200\n",
            "24/24 - 2s - loss: 0.2195 - accuracy: 0.9329 - val_loss: 0.2711 - val_accuracy: 0.9206\n",
            "Epoch 17/200\n",
            "24/24 - 2s - loss: 0.2110 - accuracy: 0.9349 - val_loss: 0.2194 - val_accuracy: 0.9259\n",
            "Epoch 18/200\n",
            "24/24 - 2s - loss: 0.2223 - accuracy: 0.9356 - val_loss: 0.2324 - val_accuracy: 0.9101\n",
            "Epoch 19/200\n",
            "24/24 - 2s - loss: 0.2464 - accuracy: 0.9323 - val_loss: 0.2254 - val_accuracy: 0.9206\n",
            "Epoch 20/200\n",
            "24/24 - 2s - loss: 0.2477 - accuracy: 0.9349 - val_loss: 0.2378 - val_accuracy: 0.9153\n"
          ],
          "name": "stdout"
        }
      ]
    },
    {
      "cell_type": "code",
      "metadata": {
        "id": "QmAiqc6eKfca",
        "colab_type": "code",
        "colab": {
          "base_uri": "https://localhost:8080/",
          "height": 590
        },
        "outputId": "c2fae0e1-01cc-434e-e899-b9d9502b5cf2"
      },
      "source": [
        "model_1.evaluate(X_val, y_val)\n",
        "plot_performance_curves(history_1)"
      ],
      "execution_count": 11,
      "outputs": [
        {
          "output_type": "stream",
          "text": [
            "6/6 [==============================] - 0s 19ms/step - loss: 0.2378 - accuracy: 0.9153\n"
          ],
          "name": "stdout"
        },
        {
          "output_type": "display_data",
          "data": {
            "image/png": "[encoded data removed]",
            "text/plain": [
              "<Figure size 432x288 with 1 Axes>"
            ]
          },
          "metadata": {
            "tags": [],
            "needs_background": "light"
          }
        },
        {
          "output_type": "display_data",
          "data": {
            "image/png": "[encoded data removed]",
            "text/plain": [
              "<Figure size 432x288 with 1 Axes>"
            ]
          },
          "metadata": {
            "tags": [],
            "needs_background": "light"
          }
        }
      ]
    },
    {
      "cell_type": "code",
      "metadata": {
        "id": "C_fHcKA1GCkE",
        "colab_type": "code",
        "colab": {
          "base_uri": "https://localhost:8080/",
          "height": 530
        },
        "outputId": "2fad984c-5ecb-4c9d-bae0-8eefb2d70324"
      },
      "source": [
        "predictions = model_1.predict(X_test)\n",
        "prediction_classes = model_1.predict_classes(X_test)\n",
        "prediction_classes"
      ],
      "execution_count": 12,
      "outputs": [
        {
          "output_type": "stream",
          "text": [
            "WARNING:tensorflow:From <ipython-input-12-e8697c3a58b8>:2: Sequential.predict_classes (from tensorflow.python.keras.engine.sequential) is deprecated and will be removed after 2021-01-01.\n",
            "Instructions for updating:\n",
            "Please use instead:* `np.argmax(model.predict(x), axis=-1)`,   if your model does multi-class classification   (e.g. if it uses a `softmax` last-layer activation).* `(model.predict(x) > 0.5).astype(\"int32\")`,   if your model does binary classification   (e.g. if it uses a `sigmoid` last-layer activation).\n"
          ],
          "name": "stdout"
        },
        {
          "output_type": "execute_result",
          "data": {
            "text/plain": [
              "array([5, 9, 4, 1, 4, 5, 9, 3, 3, 7, 7, 0, 7, 8, 0, 7, 7, 3, 5, 3, 3, 3,\n",
              "       9, 3, 3, 5, 7, 7, 0, 4, 4, 0, 3, 1, 6, 3, 1, 3, 9, 9, 0, 1, 5, 9,\n",
              "       4, 7, 3, 3, 3, 6, 9, 6, 0, 0, 8, 3, 5, 3, 3, 3, 3, 7, 8, 7, 0, 0,\n",
              "       4, 6, 3, 3, 3, 4, 3, 5, 1, 4, 9, 7, 4, 5, 0, 1, 6, 9, 7, 3, 3, 3,\n",
              "       1, 6, 0, 8, 0, 8, 7, 7, 3, 3, 3, 3, 3, 3, 7, 3, 7, 3, 3, 4, 1, 3,\n",
              "       3, 3, 7, 7, 1, 9, 9, 4, 5, 1, 5, 9, 3, 4, 3, 3, 8, 6, 0, 3, 8, 7,\n",
              "       3, 3, 3, 3, 7, 3, 5, 4, 1, 1, 4, 8, 7, 3, 3, 3, 1, 5, 0, 9, 5, 3,\n",
              "       3, 9, 3, 9, 4, 0, 3, 3, 3, 3, 3, 7, 7, 3, 5, 0, 4, 0, 8, 8, 6, 3,\n",
              "       3, 3, 6, 5, 5, 1, 0, 7, 3, 1, 0, 1, 3, 3, 9, 6, 1, 4, 8, 8, 4, 5,\n",
              "       3, 3, 7, 5, 4, 1, 6, 6, 9, 9, 6, 3, 3, 9, 5, 9, 1, 7, 0, 5, 1, 1,\n",
              "       9, 3, 3, 3, 6, 4, 8, 5, 8, 9, 7, 3, 3, 7, 5, 8, 6, 8, 3, 3, 6, 9,\n",
              "       6, 9, 4, 5, 0, 7, 9, 3, 9, 3, 3, 8, 0, 5, 8, 7, 3, 3, 3, 3, 7, 3,\n",
              "       3, 3, 5, 4, 5, 8, 6, 9, 3, 3, 3, 0, 9, 0, 9, 1, 1, 5, 1, 7, 3, 9,\n",
              "       3, 8, 7, 3, 3, 0, 3, 3, 0, 3, 5, 3, 3, 3, 8, 8, 0, 0, 4, 8, 8, 6,\n",
              "       6, 3, 3, 1, 3, 7, 0, 4, 1, 3, 3, 3, 3, 9, 4, 1, 6, 7, 3, 3, 0, 3,\n",
              "       3, 0, 7, 4, 1, 4, 3, 9, 3, 3, 1, 7, 5, 9, 9, 3, 3, 6, 8, 4, 8, 4,\n",
              "       3, 8, 6, 3, 3, 8, 8, 7, 3, 4, 1, 8, 3, 8, 3, 6, 3, 6, 9, 9, 9, 0,\n",
              "       1, 1, 9, 6, 9, 1, 1, 3, 3, 3, 8, 3, 4, 0, 0, 7, 7, 3, 3, 8, 3, 7,\n",
              "       7, 5, 4, 4, 5, 4, 3, 3, 4, 3, 3, 0, 1, 5, 5, 7, 1, 4, 1, 5, 3, 3,\n",
              "       6, 3, 3, 4, 1, 8, 7, 3, 9, 3, 3, 3, 3, 3, 3, 6, 3, 3, 7, 1, 1, 8,\n",
              "       0, 4, 0, 6, 3, 6, 4, 3, 3, 5, 4, 9, 1, 5, 5, 4, 3, 3, 4, 4, 0, 1,\n",
              "       5, 7, 7, 3, 3, 9, 3, 3, 9, 3, 3, 3, 8, 5, 1, 3, 6, 4, 4, 3, 3, 4,\n",
              "       5, 5, 0, 9, 1, 5, 9, 6, 3, 3, 6, 0, 1, 8, 0, 3, 8, 8, 8, 7, 3, 3,\n",
              "       3, 9, 3, 3, 3, 8, 3, 8, 0, 1, 3, 3, 3, 6, 4, 7, 4, 1, 3, 6, 4, 7,\n",
              "       3, 3, 4, 1, 1, 3, 3, 7, 3, 3, 3, 3, 3, 3, 7, 7, 3, 3, 4, 4, 8, 9,\n",
              "       3, 3, 3, 1, 5, 5, 7, 5])"
            ]
          },
          "metadata": {
            "tags": []
          },
          "execution_count": 12
        }
      ]
    },
    {
      "cell_type": "code",
      "metadata": {
        "id": "O2wHfkotGFPr",
        "colab_type": "code",
        "colab": {}
      },
      "source": [
        "pd.DataFrame(prediction_classes).to_csv(\"submission.csv\")"
      ],
      "execution_count": 13,
      "outputs": []
    },
    {
      "cell_type": "markdown",
      "metadata": {
        "colab_type": "text",
        "id": "PlTlvClYGPlT"
      },
      "source": [
        "# Train Model 2"
      ]
    },
    {
      "cell_type": "code",
      "metadata": {
        "colab_type": "code",
        "id": "cknTfP5hGPlU",
        "colab": {
          "base_uri": "https://localhost:8080/",
          "height": 1000
        },
        "outputId": "bfac14d6-d051-440d-fcfa-317f38c0e555"
      },
      "source": [
        "model_2 = get_model_2(X_train)\n",
        "model_2.summary()\n",
        "callback = tf.keras.callbacks.EarlyStopping(monitor='val_loss', patience=10)\n",
        "\n",
        "\n",
        "model_2.compile(loss=keras.losses.categorical_crossentropy,\n",
        "              optimizer=keras.optimizers.Adam(),\n",
        "              metrics=['accuracy'])\n",
        "history_2 = model_2.fit(X_train, y_train, batch_size=64, epochs=200,\n",
        "          verbose=2, validation_data=(X_val, y_val), callbacks=callback)"
      ],
      "execution_count": 14,
      "outputs": [
        {
          "output_type": "stream",
          "text": [
            "Model: \"sequential_1\"\n",
            "_________________________________________________________________\n",
            "Layer (type)                 Output Shape              Param #   \n",
            "=================================================================\n",
            "conv2d_1 (Conv2D)            (None, 1024, 73, 32)      160       \n",
            "_________________________________________________________________\n",
            "conv2d_2 (Conv2D)            (None, 1023, 72, 48)      6192      \n",
            "_________________________________________________________________\n",
            "conv2d_3 (Conv2D)            (None, 1022, 71, 120)     23160     \n",
            "_________________________________________________________________\n",
            "max_pooling2d_1 (MaxPooling2 (None, 511, 35, 120)      0         \n",
            "_________________________________________________________________\n",
            "dropout_2 (Dropout)          (None, 511, 35, 120)      0         \n",
            "_________________________________________________________________\n",
            "flatten_1 (Flatten)          (None, 2146200)           0         \n",
            "_________________________________________________________________\n",
            "dense_2 (Dense)              (None, 128)               274713728 \n",
            "_________________________________________________________________\n",
            "dropout_3 (Dropout)          (None, 128)               0         \n",
            "_________________________________________________________________\n",
            "dense_3 (Dense)              (None, 64)                8256      \n",
            "_________________________________________________________________\n",
            "dropout_4 (Dropout)          (None, 64)                0         \n",
            "_________________________________________________________________\n",
            "dense_4 (Dense)              (None, 10)                650       \n",
            "=================================================================\n",
            "Total params: 274,752,146\n",
            "Trainable params: 274,752,146\n",
            "Non-trainable params: 0\n",
            "_________________________________________________________________\n",
            "Epoch 1/200\n",
            "WARNING:tensorflow:Callbacks method `on_train_batch_end` is slow compared to the batch time (batch time: 0.1499s vs `on_train_batch_end` time: 0.4118s). Check your callbacks.\n",
            "24/24 - 14s - loss: 2.4724 - accuracy: 0.1268 - val_loss: 2.2537 - val_accuracy: 0.1005\n",
            "Epoch 2/200\n",
            "24/24 - 13s - loss: 2.2409 - accuracy: 0.1375 - val_loss: 2.1644 - val_accuracy: 0.3280\n",
            "Epoch 3/200\n",
            "24/24 - 13s - loss: 2.0819 - accuracy: 0.2590 - val_loss: 1.7255 - val_accuracy: 0.4603\n",
            "Epoch 4/200\n",
            "24/24 - 13s - loss: 1.7008 - accuracy: 0.4050 - val_loss: 1.0719 - val_accuracy: 0.6772\n",
            "Epoch 5/200\n",
            "24/24 - 13s - loss: 1.2753 - accuracy: 0.5637 - val_loss: 0.7866 - val_accuracy: 0.8095\n",
            "Epoch 6/200\n",
            "24/24 - 13s - loss: 1.0298 - accuracy: 0.6633 - val_loss: 0.6208 - val_accuracy: 0.8360\n",
            "Epoch 7/200\n",
            "24/24 - 13s - loss: 0.8243 - accuracy: 0.7304 - val_loss: 0.4955 - val_accuracy: 0.8677\n",
            "Epoch 8/200\n",
            "24/24 - 13s - loss: 0.6688 - accuracy: 0.7822 - val_loss: 0.3519 - val_accuracy: 0.9101\n",
            "Epoch 9/200\n",
            "24/24 - 13s - loss: 0.5501 - accuracy: 0.8114 - val_loss: 0.3705 - val_accuracy: 0.9206\n",
            "Epoch 10/200\n",
            "24/24 - 13s - loss: 0.4671 - accuracy: 0.8400 - val_loss: 0.3491 - val_accuracy: 0.8889\n",
            "Epoch 11/200\n",
            "24/24 - 13s - loss: 0.4492 - accuracy: 0.8459 - val_loss: 0.2747 - val_accuracy: 0.9312\n",
            "Epoch 12/200\n",
            "24/24 - 13s - loss: 0.3879 - accuracy: 0.8579 - val_loss: 0.2970 - val_accuracy: 0.9365\n",
            "Epoch 13/200\n",
            "24/24 - 13s - loss: 0.3460 - accuracy: 0.8818 - val_loss: 0.2659 - val_accuracy: 0.9365\n",
            "Epoch 14/200\n",
            "24/24 - 13s - loss: 0.3312 - accuracy: 0.8818 - val_loss: 0.2509 - val_accuracy: 0.9312\n",
            "Epoch 15/200\n",
            "24/24 - 13s - loss: 0.3161 - accuracy: 0.8911 - val_loss: 0.3408 - val_accuracy: 0.9153\n",
            "Epoch 16/200\n",
            "24/24 - 13s - loss: 0.2875 - accuracy: 0.8951 - val_loss: 0.3356 - val_accuracy: 0.9259\n",
            "Epoch 17/200\n",
            "24/24 - 13s - loss: 0.2656 - accuracy: 0.9077 - val_loss: 0.3181 - val_accuracy: 0.9365\n",
            "Epoch 18/200\n",
            "24/24 - 13s - loss: 0.3196 - accuracy: 0.9137 - val_loss: 0.3656 - val_accuracy: 0.9259\n",
            "Epoch 19/200\n",
            "24/24 - 13s - loss: 0.3558 - accuracy: 0.8971 - val_loss: 0.3456 - val_accuracy: 0.9206\n",
            "Epoch 20/200\n",
            "24/24 - 13s - loss: 0.2564 - accuracy: 0.9064 - val_loss: 0.3058 - val_accuracy: 0.9365\n",
            "Epoch 21/200\n",
            "24/24 - 13s - loss: 0.2135 - accuracy: 0.9203 - val_loss: 0.2962 - val_accuracy: 0.9418\n",
            "Epoch 22/200\n",
            "24/24 - 13s - loss: 0.2157 - accuracy: 0.9250 - val_loss: 0.3558 - val_accuracy: 0.9312\n",
            "Epoch 23/200\n",
            "24/24 - 13s - loss: 0.1941 - accuracy: 0.9309 - val_loss: 0.4113 - val_accuracy: 0.9206\n",
            "Epoch 24/200\n",
            "24/24 - 13s - loss: 0.1949 - accuracy: 0.9316 - val_loss: 0.3816 - val_accuracy: 0.9312\n"
          ],
          "name": "stdout"
        }
      ]
    },
    {
      "cell_type": "code",
      "metadata": {
        "colab_type": "code",
        "id": "4B1XPLv1GPlk",
        "colab": {
          "base_uri": "https://localhost:8080/",
          "height": 590
        },
        "outputId": "c37961e4-1dcd-4809-d4cd-e74bfed842eb"
      },
      "source": [
        "model_2.evaluate(X_val, y_val)\n",
        "plot_performance_curves(history_2)"
      ],
      "execution_count": 15,
      "outputs": [
        {
          "output_type": "stream",
          "text": [
            "6/6 [==============================] - 1s 95ms/step - loss: 0.3816 - accuracy: 0.9312\n"
          ],
          "name": "stdout"
        },
        {
          "output_type": "display_data",
          "data": {
            "image/png": "[encoded data removed]",
            "text/plain": [
              "<Figure size 432x288 with 1 Axes>"
            ]
          },
          "metadata": {
            "tags": [],
            "needs_background": "light"
          }
        },
        {
          "output_type": "display_data",
          "data": {
            "image/png": "[encoded data removed]",
            "text/plain": [
              "<Figure size 432x288 with 1 Axes>"
            ]
          },
          "metadata": {
            "tags": [],
            "needs_background": "light"
          }
        }
      ]
    },
    {
      "cell_type": "code",
      "metadata": {
        "colab_type": "code",
        "id": "vCl9xnooGPlm",
        "colab": {
          "base_uri": "https://localhost:8080/",
          "height": 459
        },
        "outputId": "d255ae12-e30f-4a3d-ca6b-0a8d0050637e"
      },
      "source": [
        "predictions = model_2.predict(X_test)\n",
        "prediction_classes = model_2.predict_classes(X_test)\n",
        "prediction_classes"
      ],
      "execution_count": 16,
      "outputs": [
        {
          "output_type": "execute_result",
          "data": {
            "text/plain": [
              "array([5, 9, 4, 1, 4, 5, 9, 3, 3, 7, 7, 0, 9, 8, 0, 7, 7, 3, 5, 3, 3, 3,\n",
              "       9, 3, 3, 5, 7, 7, 0, 4, 4, 0, 3, 1, 6, 3, 1, 3, 9, 9, 0, 1, 5, 9,\n",
              "       4, 7, 3, 3, 3, 6, 9, 6, 0, 0, 8, 3, 5, 3, 3, 3, 3, 7, 8, 7, 0, 0,\n",
              "       4, 6, 3, 3, 3, 4, 3, 5, 1, 4, 9, 7, 4, 5, 0, 1, 6, 9, 7, 3, 3, 3,\n",
              "       1, 6, 0, 8, 0, 8, 7, 7, 3, 3, 3, 6, 3, 3, 7, 3, 7, 3, 3, 4, 1, 3,\n",
              "       3, 3, 7, 7, 1, 9, 9, 4, 5, 1, 5, 9, 3, 4, 3, 3, 6, 3, 0, 3, 8, 7,\n",
              "       3, 3, 3, 3, 7, 3, 5, 4, 4, 1, 4, 8, 7, 3, 3, 3, 1, 5, 0, 9, 5, 3,\n",
              "       3, 9, 3, 9, 4, 0, 3, 3, 3, 3, 3, 7, 7, 3, 5, 0, 4, 0, 8, 8, 6, 3,\n",
              "       3, 3, 6, 5, 5, 1, 0, 7, 7, 1, 0, 1, 3, 3, 9, 6, 1, 4, 8, 8, 4, 5,\n",
              "       3, 3, 7, 5, 4, 1, 6, 6, 9, 9, 6, 3, 3, 9, 5, 9, 1, 7, 0, 5, 1, 6,\n",
              "       9, 3, 3, 3, 6, 4, 8, 5, 8, 7, 7, 3, 3, 7, 5, 8, 6, 8, 3, 3, 6, 9,\n",
              "       6, 9, 4, 5, 0, 7, 9, 3, 9, 3, 3, 8, 0, 5, 8, 7, 3, 3, 3, 6, 7, 3,\n",
              "       3, 3, 5, 4, 5, 8, 6, 9, 3, 3, 3, 6, 9, 0, 9, 1, 1, 5, 1, 7, 3, 9,\n",
              "       3, 8, 7, 3, 8, 0, 3, 3, 0, 3, 5, 3, 3, 3, 8, 8, 0, 0, 4, 8, 8, 6,\n",
              "       6, 3, 3, 1, 3, 7, 7, 7, 1, 6, 3, 3, 3, 8, 4, 1, 6, 7, 3, 3, 0, 3,\n",
              "       6, 3, 7, 4, 1, 4, 3, 9, 3, 3, 1, 7, 5, 9, 9, 3, 3, 6, 8, 8, 8, 4,\n",
              "       3, 8, 6, 3, 3, 6, 8, 7, 3, 4, 7, 8, 3, 8, 3, 6, 3, 6, 9, 9, 1, 0,\n",
              "       1, 1, 9, 7, 9, 1, 1, 3, 3, 1, 8, 3, 4, 0, 0, 7, 7, 3, 8, 8, 3, 7,\n",
              "       1, 5, 4, 4, 5, 4, 3, 3, 4, 3, 3, 0, 1, 5, 5, 7, 4, 4, 1, 5, 3, 3,\n",
              "       6, 3, 6, 4, 1, 8, 7, 3, 9, 8, 8, 3, 7, 3, 3, 6, 3, 3, 7, 1, 1, 8,\n",
              "       0, 4, 0, 6, 3, 6, 7, 3, 3, 5, 4, 9, 1, 5, 5, 4, 3, 3, 4, 4, 0, 1,\n",
              "       5, 7, 7, 3, 3, 9, 3, 3, 9, 3, 3, 3, 8, 5, 1, 3, 6, 4, 4, 3, 3, 4,\n",
              "       5, 5, 0, 9, 1, 5, 9, 6, 3, 3, 6, 0, 9, 8, 0, 3, 8, 8, 8, 7, 3, 3,\n",
              "       3, 9, 3, 6, 3, 8, 3, 8, 0, 1, 3, 3, 3, 6, 4, 7, 4, 1, 3, 6, 4, 7,\n",
              "       3, 3, 4, 5, 1, 3, 3, 7, 3, 3, 3, 3, 3, 3, 7, 7, 3, 3, 4, 4, 8, 9,\n",
              "       3, 3, 3, 1, 5, 5, 7, 5])"
            ]
          },
          "metadata": {
            "tags": []
          },
          "execution_count": 16
        }
      ]
    },
    {
      "cell_type": "code",
      "metadata": {
        "colab_type": "code",
        "id": "1eQ0xFjuGPlq",
        "colab": {}
      },
      "source": [
        "pd.DataFrame(prediction_classes).to_csv(\"submission_2.csv\")"
      ],
      "execution_count": 17,
      "outputs": []
    },
    {
      "cell_type": "markdown",
      "metadata": {
        "colab_type": "text",
        "id": "zaBgwSenGQaf"
      },
      "source": [
        "# Train Model 3"
      ]
    },
    {
      "cell_type": "code",
      "metadata": {
        "colab_type": "code",
        "id": "K7Wy53JgGQag",
        "colab": {
          "base_uri": "https://localhost:8080/",
          "height": 867
        },
        "outputId": "b82a362e-3f24-4b25-d365-db7f62e9fa41"
      },
      "source": [
        "model_3 = get_model_3(X_train)\n",
        "model_3.summary()\n",
        "callback = tf.keras.callbacks.EarlyStopping(monitor='val_loss', patience=3)\n",
        "\n",
        "\n",
        "model_3.compile(loss=keras.losses.categorical_crossentropy,\n",
        "              optimizer=keras.optimizers.Adam(),\n",
        "              metrics=['accuracy'])\n",
        "history_3 = model_3.fit(X_train, y_train, batch_size=64, epochs=200,\n",
        "          verbose=2, validation_data=(X_val, y_val), callbacks=callback)"
      ],
      "execution_count": 18,
      "outputs": [
        {
          "output_type": "stream",
          "text": [
            "Model: \"sequential_2\"\n",
            "_________________________________________________________________\n",
            "Layer (type)                 Output Shape              Param #   \n",
            "=================================================================\n",
            "conv2d_4 (Conv2D)            (None, 513, 37, 128)      1280      \n",
            "_________________________________________________________________\n",
            "batch_normalization (BatchNo (None, 513, 37, 128)      512       \n",
            "_________________________________________________________________\n",
            "dropout_5 (Dropout)          (None, 513, 37, 128)      0         \n",
            "_________________________________________________________________\n",
            "conv2d_5 (Conv2D)            (None, 257, 19, 64)       32832     \n",
            "_________________________________________________________________\n",
            "batch_normalization_1 (Batch (None, 257, 19, 64)       256       \n",
            "_________________________________________________________________\n",
            "dropout_6 (Dropout)          (None, 257, 19, 64)       0         \n",
            "_________________________________________________________________\n",
            "conv2d_6 (Conv2D)            (None, 129, 10, 64)       16448     \n",
            "_________________________________________________________________\n",
            "batch_normalization_2 (Batch (None, 129, 10, 64)       256       \n",
            "_________________________________________________________________\n",
            "dropout_7 (Dropout)          (None, 129, 10, 64)       0         \n",
            "_________________________________________________________________\n",
            "flatten_2 (Flatten)          (None, 82560)             0         \n",
            "_________________________________________________________________\n",
            "dense_5 (Dense)              (None, 256)               21135616  \n",
            "_________________________________________________________________\n",
            "batch_normalization_3 (Batch (None, 256)               1024      \n",
            "_________________________________________________________________\n",
            "dropout_8 (Dropout)          (None, 256)               0         \n",
            "_________________________________________________________________\n",
            "dense_6 (Dense)              (None, 128)               32896     \n",
            "_________________________________________________________________\n",
            "batch_normalization_4 (Batch (None, 128)               512       \n",
            "_________________________________________________________________\n",
            "dropout_9 (Dropout)          (None, 128)               0         \n",
            "_________________________________________________________________\n",
            "dense_7 (Dense)              (None, 10)                1290      \n",
            "=================================================================\n",
            "Total params: 21,222,922\n",
            "Trainable params: 21,221,642\n",
            "Non-trainable params: 1,280\n",
            "_________________________________________________________________\n",
            "Epoch 1/200\n",
            "24/24 - 5s - loss: 1.9004 - accuracy: 0.4190 - val_loss: 2.3970 - val_accuracy: 0.1164\n",
            "Epoch 2/200\n",
            "24/24 - 5s - loss: 1.0083 - accuracy: 0.6979 - val_loss: 2.6426 - val_accuracy: 0.1270\n",
            "Epoch 3/200\n",
            "24/24 - 5s - loss: 0.6160 - accuracy: 0.8167 - val_loss: 2.6626 - val_accuracy: 0.1270\n",
            "Epoch 4/200\n",
            "24/24 - 5s - loss: 0.3652 - accuracy: 0.8938 - val_loss: 2.9599 - val_accuracy: 0.1270\n"
          ],
          "name": "stdout"
        }
      ]
    },
    {
      "cell_type": "code",
      "metadata": {
        "colab_type": "code",
        "id": "TulnohFzGQaj",
        "colab": {
          "base_uri": "https://localhost:8080/",
          "height": 590
        },
        "outputId": "8ec970be-7f6b-4471-a96d-0336bf188eee"
      },
      "source": [
        "model_3.evaluate(X_val, y_val)\n",
        "plot_performance_curves(history_3)"
      ],
      "execution_count": 19,
      "outputs": [
        {
          "output_type": "stream",
          "text": [
            "6/6 [==============================] - 0s 39ms/step - loss: 2.9599 - accuracy: 0.1270\n"
          ],
          "name": "stdout"
        },
        {
          "output_type": "display_data",
          "data": {
            "image/png": "[encoded data removed]",
            "text/plain": [
              "<Figure size 432x288 with 1 Axes>"
            ]
          },
          "metadata": {
            "tags": [],
            "needs_background": "light"
          }
        },
        {
          "output_type": "display_data",
          "data": {
            "image/png": "[encoded data removed]",
            "text/plain": [
              "<Figure size 432x288 with 1 Axes>"
            ]
          },
          "metadata": {
            "tags": [],
            "needs_background": "light"
          }
        }
      ]
    },
    {
      "cell_type": "code",
      "metadata": {
        "colab_type": "code",
        "id": "2OVkoQpgGQal",
        "colab": {
          "base_uri": "https://localhost:8080/",
          "height": 459
        },
        "outputId": "9ccc061b-7df5-4195-f139-c2c03b9ce5aa"
      },
      "source": [
        "predictions = model_3.predict(X_test)\n",
        "prediction_classes = model_3.predict_classes(X_test)\n",
        "prediction_classes"
      ],
      "execution_count": 20,
      "outputs": [
        {
          "output_type": "execute_result",
          "data": {
            "text/plain": [
              "array([6, 6, 6, 6, 6, 6, 6, 6, 6, 6, 6, 6, 6, 6, 6, 6, 6, 6, 6, 6, 6, 6,\n",
              "       6, 6, 6, 6, 6, 6, 6, 6, 6, 6, 6, 6, 6, 6, 6, 6, 6, 6, 6, 6, 6, 6,\n",
              "       6, 6, 6, 6, 6, 6, 6, 6, 6, 6, 6, 6, 6, 6, 6, 6, 6, 6, 6, 6, 6, 6,\n",
              "       6, 6, 6, 6, 6, 6, 6, 6, 6, 6, 6, 6, 6, 6, 6, 6, 6, 6, 6, 6, 6, 6,\n",
              "       6, 6, 6, 6, 6, 6, 6, 6, 6, 6, 6, 6, 6, 6, 6, 6, 6, 6, 6, 6, 6, 6,\n",
              "       6, 6, 6, 6, 6, 6, 6, 6, 6, 6, 6, 6, 6, 6, 6, 6, 6, 6, 6, 6, 6, 6,\n",
              "       6, 6, 6, 6, 6, 6, 6, 6, 6, 6, 6, 6, 6, 6, 6, 6, 6, 6, 6, 6, 6, 6,\n",
              "       6, 6, 6, 6, 6, 6, 6, 6, 6, 6, 6, 6, 6, 6, 6, 6, 6, 6, 6, 6, 6, 6,\n",
              "       6, 6, 6, 6, 6, 6, 6, 6, 6, 6, 6, 6, 6, 6, 6, 6, 6, 6, 6, 6, 6, 6,\n",
              "       6, 6, 6, 6, 6, 6, 6, 6, 6, 6, 6, 6, 6, 6, 6, 6, 6, 6, 6, 6, 6, 6,\n",
              "       6, 6, 6, 6, 6, 6, 6, 6, 6, 6, 6, 6, 6, 6, 6, 6, 6, 6, 6, 6, 6, 6,\n",
              "       6, 6, 6, 6, 6, 6, 6, 6, 6, 6, 6, 6, 6, 6, 6, 6, 6, 6, 6, 6, 6, 6,\n",
              "       6, 6, 6, 6, 6, 6, 6, 6, 6, 6, 6, 6, 6, 6, 6, 6, 6, 6, 6, 6, 6, 6,\n",
              "       6, 6, 6, 6, 6, 6, 6, 6, 6, 6, 6, 6, 6, 6, 6, 6, 6, 6, 6, 6, 6, 6,\n",
              "       6, 6, 6, 6, 6, 6, 6, 6, 6, 6, 6, 6, 6, 6, 6, 6, 6, 6, 6, 6, 6, 6,\n",
              "       6, 6, 6, 6, 6, 6, 6, 6, 6, 6, 6, 6, 6, 6, 6, 6, 6, 6, 6, 6, 6, 6,\n",
              "       6, 6, 6, 6, 6, 6, 6, 6, 6, 6, 6, 6, 6, 6, 6, 6, 6, 6, 6, 6, 6, 6,\n",
              "       6, 6, 6, 6, 6, 6, 6, 6, 6, 6, 6, 6, 6, 6, 6, 6, 6, 6, 6, 6, 6, 6,\n",
              "       6, 6, 6, 6, 6, 6, 6, 6, 6, 6, 6, 6, 6, 6, 6, 6, 6, 6, 6, 6, 6, 6,\n",
              "       6, 6, 6, 6, 6, 6, 6, 6, 6, 6, 6, 6, 6, 6, 6, 6, 6, 6, 6, 6, 6, 6,\n",
              "       6, 6, 6, 6, 6, 6, 6, 6, 6, 6, 6, 6, 6, 6, 6, 6, 6, 6, 6, 6, 6, 6,\n",
              "       6, 6, 6, 6, 6, 6, 6, 6, 6, 6, 6, 6, 6, 6, 6, 6, 6, 6, 6, 6, 6, 6,\n",
              "       6, 6, 6, 6, 6, 6, 6, 6, 6, 6, 6, 6, 6, 6, 6, 6, 6, 6, 6, 6, 6, 6,\n",
              "       6, 6, 6, 6, 6, 6, 6, 6, 6, 6, 6, 6, 6, 6, 6, 6, 6, 6, 6, 6, 6, 6,\n",
              "       6, 6, 6, 6, 6, 6, 6, 6, 6, 6, 6, 6, 6, 6, 6, 6, 6, 6, 6, 6, 6, 6,\n",
              "       6, 6, 6, 6, 6, 6, 6, 6])"
            ]
          },
          "metadata": {
            "tags": []
          },
          "execution_count": 20
        }
      ]
    },
    {
      "cell_type": "code",
      "metadata": {
        "colab_type": "code",
        "id": "1NuBsEt3GQap",
        "colab": {}
      },
      "source": [
        "pd.DataFrame(prediction_classes).to_csv(\"submission_3.csv\")"
      ],
      "execution_count": 21,
      "outputs": []
    }
  ]
}