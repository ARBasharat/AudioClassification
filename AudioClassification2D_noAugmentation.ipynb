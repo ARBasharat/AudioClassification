{
  "nbformat": 4,
  "nbformat_minor": 0,
  "metadata": {
    "colab": {
      "name": "AudioClassification2D_noAugmentation.ipynb",
      "provenance": [],
      "collapsed_sections": [],
      "include_colab_link": true
    },
    "kernelspec": {
      "display_name": "Python 3",
      "name": "python3"
    },
    "accelerator": "GPU"
  },
  "cells": [
    {
      "cell_type": "markdown",
      "metadata": {
        "id": "view-in-github",
        "colab_type": "text"
      },
      "source": [
        "<a href=\"https://colab.research.google.com/github/ARBasharat/AudioClassification/blob/master/AudioClassification2D_noAugmentation.ipynb\" target=\"_parent\"><img src=\"https://colab.research.google.com/assets/colab-badge.svg\" alt=\"Open In Colab\"/></a>"
      ]
    },
    {
      "cell_type": "markdown",
      "metadata": {
        "id": "8yzxm-fj2nqy"
      },
      "source": [
        "Contat: abbash@iu.edu <br/>\n",
        "Audio Spectrogram Classification without training data Augmentation  <br/>"
      ]
    },
    {
      "cell_type": "markdown",
      "metadata": {
        "id": "ra-vfSNn45Bn"
      },
      "source": [
        "# Import Libraries"
      ]
    },
    {
      "cell_type": "code",
      "metadata": {
        "id": "iAve6DCL4JH4"
      },
      "source": [
        "import random\n",
        "import tensorflow as tf\n",
        "import keras\n",
        "import numpy as np\n",
        "import pandas as pd\n",
        "from tensorflow.keras import datasets, layers, models\n",
        "from sklearn.model_selection import train_test_split\n",
        "import matplotlib.pyplot as plt\n",
        "import librosa\n",
        "from scipy import signal"
      ],
      "execution_count": 1,
      "outputs": []
    },
    {
      "cell_type": "markdown",
      "metadata": {
        "id": "9QFJAOZNFfiX"
      },
      "source": [
        "# Read Data from Google Drive"
      ]
    },
    {
      "cell_type": "code",
      "metadata": {
        "id": "iYA5MGNeFdH3",
        "outputId": "cadc657f-f3ec-4c25-fa99-79caac3700c3",
        "colab": {
          "base_uri": "https://localhost:8080/",
          "height": 34
        }
      },
      "source": [
        "from google.colab import drive\n",
        "drive.mount(\"/content/drive\")\n",
        "\n",
        "train = np.load(\"drive/My Drive/AudioClassification/audio_train.npy\").astype('float32')\n",
        "test = np.load(\"drive/My Drive/AudioClassification/audio_test.npy\").astype('float32')\n",
        "train_labels_df = pd.read_csv(\"drive/My Drive/AudioClassification/labels_train.csv\")\n"
      ],
      "execution_count": 2,
      "outputs": [
        {
          "output_type": "stream",
          "text": [
            "Mounted at /content/drive\n"
          ],
          "name": "stdout"
        }
      ]
    },
    {
      "cell_type": "markdown",
      "metadata": {
        "id": "yUv0VHZH54Fj"
      },
      "source": [
        "#Process the data"
      ]
    },
    {
      "cell_type": "code",
      "metadata": {
        "id": "11jFsu6TxU8b",
        "outputId": "067f0515-8672-4963-b3dd-c5943be1900e",
        "colab": {
          "base_uri": "https://localhost:8080/",
          "height": 102
        }
      },
      "source": [
        "train_labels = train_labels_df.to_numpy()[:,1]\n",
        "labels_categorical = keras.utils.to_categorical(train_labels)\n",
        "\n",
        "X_train_original, X_val_original, y_train_original, y_val = train_test_split(train, \n",
        "                          labels_categorical, test_size=0.20, random_state=42)\n",
        "\n",
        "print(\"Training Data:\", X_train_original.shape)\n",
        "print(\"Training Labels:\", y_train_original.shape)\n",
        "print(\"Validation Data:\", X_val_original.shape)\n",
        "print(\"Validation Labels:\", y_val.shape)\n",
        "print(\"Testing Data:\", test.shape)"
      ],
      "execution_count": 3,
      "outputs": [
        {
          "output_type": "stream",
          "text": [
            "Training Data: (753, 30000)\n",
            "Training Labels: (753, 10)\n",
            "Validation Data: (189, 30000)\n",
            "Validation Labels: (189, 10)\n",
            "Testing Data: (558, 30000)\n"
          ],
          "name": "stdout"
        }
      ]
    },
    {
      "cell_type": "code",
      "metadata": {
        "id": "m5t6NX5ZAfYu",
        "outputId": "0e84d76b-d8ce-4ca7-89f0-e28842e7d553",
        "colab": {
          "base_uri": "https://localhost:8080/",
          "height": 34
        }
      },
      "source": [
        "# Get training data without augmentation\n",
        "def get_data_2(X_train_original, y_train_original):\n",
        "  new_data = []\n",
        "  new_labels = []\n",
        "  for i in range(0, len(X_train_original)):\n",
        "    data = X_train_original[i]\n",
        "    label = y_train_original[i]\n",
        "    new_data.append(data)\n",
        "    new_labels.append(label)\n",
        "  train_data = np.array(new_data)\n",
        "  y_train = np.array(new_labels)\n",
        "  return train_data, y_train\n",
        "\n",
        "train_data, y_train = get_data_2(X_train_original, y_train_original)\n",
        "print(train_data.shape, y_train.shape)"
      ],
      "execution_count": 4,
      "outputs": [
        {
          "output_type": "stream",
          "text": [
            "(753, 30000) (753, 10)\n"
          ],
          "name": "stdout"
        }
      ]
    },
    {
      "cell_type": "code",
      "metadata": {
        "id": "GOP7SkntypV_"
      },
      "source": [
        "def get_spectrogram(in_data):\n",
        "  spectrogram = []\n",
        "  for elem in in_data:\n",
        "    converted = librosa.stft(elem)\n",
        "    spectrum, phase = librosa.magphase(converted)\n",
        "    spectrum = np.abs(spectrum).astype(np.float32)\n",
        "    norm = spectrum.max()\n",
        "    spectrum /= norm\n",
        "    spectrum = spectrum.reshape((spectrum.shape[0], spectrum.shape[1], 1))\n",
        "    spectrogram.append(spectrum)\n",
        "  spectrogram = np.array(spectrogram)\n",
        "  return spectrogram"
      ],
      "execution_count": 5,
      "outputs": []
    },
    {
      "cell_type": "code",
      "metadata": {
        "id": "R2zefJw06yW-",
        "outputId": "906c8d5b-c4c3-44db-cebd-97f53f82e222",
        "colab": {
          "base_uri": "https://localhost:8080/",
          "height": 68
        }
      },
      "source": [
        "X_train = get_spectrogram(train_data)\n",
        "X_val = get_spectrogram(X_val_original)\n",
        "X_test = get_spectrogram(test)\n",
        "print(\"Train Shapes: \", X_train.shape, y_train.shape)\n",
        "print(\"Validation Shapes: \", X_val.shape, y_val.shape)\n",
        "print(\"Validation Shapes: \", X_test.shape)"
      ],
      "execution_count": 8,
      "outputs": [
        {
          "output_type": "stream",
          "text": [
            "Train Shapes:  (753, 1025, 59, 1) (753, 10)\n",
            "Validation Shapes:  (189, 1025, 59, 1) (189, 10)\n",
            "Validation Shapes:  (558, 1025, 59, 1)\n"
          ],
          "name": "stdout"
        }
      ]
    },
    {
      "cell_type": "markdown",
      "metadata": {
        "id": "k8ot9i2BWRiG"
      },
      "source": [
        "# Model Definations"
      ]
    },
    {
      "cell_type": "code",
      "metadata": {
        "id": "95f5PZbfWW47"
      },
      "source": [
        "def get_model(X_train):\n",
        "  model = tf.keras.models.Sequential()\n",
        "  model.add(layers.Conv2D(32, kernel_size=(2, 2), \n",
        "                          activation='relu', input_shape=X_train[0].shape))\n",
        "  model.add(layers.MaxPooling2D(pool_size=(2, 2)))\n",
        "  model.add(layers.Dropout(0.25))\n",
        "  model.add(layers.Flatten())\n",
        "  model.add(layers.Dense(128, activation='relu'))\n",
        "  model.add(layers.Dropout(0.25))\n",
        "  model.add(layers.Dense(10, activation='softmax'))\n",
        "  return model\n",
        "\n",
        "def get_model_2(X_train):\n",
        "  model = tf.keras.models.Sequential()\n",
        "  model.add(layers.Conv2D(32, kernel_size=(2, 2), activation='relu', \n",
        "                    input_shape=X_train[0].shape))\n",
        "  model.add(layers.Conv2D(48, kernel_size=(2, 2), activation='relu'))\n",
        "  model.add(layers.Conv2D(120, kernel_size=(2, 2), activation='relu'))\n",
        "  model.add(layers.MaxPooling2D(pool_size=(2, 2)))\n",
        "  model.add(layers.Dropout(0.25))\n",
        "  model.add(layers.Flatten())\n",
        "  model.add(layers.Dense(128, activation='relu'))\n",
        "  model.add(layers.Dropout(0.25))\n",
        "  model.add(layers.Dense(64, activation='relu'))\n",
        "  model.add(layers.Dropout(0.4))\n",
        "  model.add(layers.Dense(10, activation='softmax'))\n",
        "  return model\n",
        "\n",
        "def get_model_3(X_train):\n",
        "  model = tf.keras.models.Sequential()\n",
        "  model.add(layers.Conv2D(128, kernel_size=(3, 3), strides=(2,2), \n",
        "        activation='elu', padding='same', input_shape=X_train[0].shape))\n",
        "  model.add(layers.BatchNormalization())\n",
        "  model.add(layers.Dropout(0.2))\n",
        "\n",
        "  model.add(layers.Conv2D(64, kernel_size=(2, 2), strides=(2,2), \n",
        "                          activation='elu', padding='same'))\n",
        "  model.add(layers.BatchNormalization())\n",
        "  model.add(layers.Dropout(0.2))\n",
        "            \n",
        "  model.add(layers.Conv2D(64, kernel_size=(2, 2), strides=(2,2), \n",
        "                          activation='elu', padding='same'))\n",
        "  model.add(layers.BatchNormalization())\n",
        "  model.add(layers.Dropout(0.2))\n",
        "            \n",
        "  model.add(layers.Flatten())\n",
        "            \n",
        "  model.add(layers.Dense(256, activation='elu'))\n",
        "  model.add(layers.BatchNormalization())\n",
        "  model.add(layers.Dropout(0.25))\n",
        "            \n",
        "  model.add(layers.Dense(128, activation='elu'))\n",
        "  model.add(layers.BatchNormalization())\n",
        "  model.add(layers.Dropout(0.25))\n",
        "            \n",
        "  model.add(layers.Dense(10, activation='softmax'))\n",
        "  return model "
      ],
      "execution_count": 9,
      "outputs": []
    },
    {
      "cell_type": "code",
      "metadata": {
        "id": "aumsY26w781G"
      },
      "source": [
        "def plot_performance_curves(history):\n",
        "  #  \"Accuracy\"\n",
        "  plt.plot(history.history['accuracy'])\n",
        "  plt.plot(history.history['val_accuracy'])\n",
        "  plt.title('model accuracy')\n",
        "  plt.ylabel('accuracy')\n",
        "  plt.xlabel('epoch')\n",
        "  plt.legend(['train', 'validation'], loc='upper left')\n",
        "  plt.show()\n",
        "  # \"Loss\"\n",
        "  plt.plot(history.history['loss'])\n",
        "  plt.plot(history.history['val_loss'])\n",
        "  plt.title('model loss')\n",
        "  plt.ylabel('loss')\n",
        "  plt.xlabel('epoch')\n",
        "  plt.legend(['train', 'validation'], loc='upper left')\n",
        "  plt.show()"
      ],
      "execution_count": 10,
      "outputs": []
    },
    {
      "cell_type": "markdown",
      "metadata": {
        "id": "_a_fdxCIU_wU"
      },
      "source": [
        "# Train Model 1"
      ]
    },
    {
      "cell_type": "code",
      "metadata": {
        "id": "CHXCI3AiDO4z",
        "outputId": "5480ec73-c976-4e1e-869c-de69d36ee401",
        "colab": {
          "base_uri": "https://localhost:8080/",
          "height": 867
        }
      },
      "source": [
        "model_1 = get_model(X_train)\n",
        "model_1.summary()\n",
        "callback = tf.keras.callbacks.EarlyStopping(monitor='val_loss', patience=3)\n",
        "\n",
        "\n",
        "model_1.compile(loss=keras.losses.categorical_crossentropy,\n",
        "              optimizer=keras.optimizers.Adam(),\n",
        "              metrics=['accuracy'])\n",
        "history_1 = model_1.fit(X_train, y_train, batch_size=64, epochs=200,\n",
        "          verbose=2, validation_data=(X_val, y_val), callbacks=callback)"
      ],
      "execution_count": 12,
      "outputs": [
        {
          "output_type": "stream",
          "text": [
            "Model: \"sequential_1\"\n",
            "_________________________________________________________________\n",
            "Layer (type)                 Output Shape              Param #   \n",
            "=================================================================\n",
            "conv2d_1 (Conv2D)            (None, 1024, 58, 32)      160       \n",
            "_________________________________________________________________\n",
            "max_pooling2d_1 (MaxPooling2 (None, 512, 29, 32)       0         \n",
            "_________________________________________________________________\n",
            "dropout_2 (Dropout)          (None, 512, 29, 32)       0         \n",
            "_________________________________________________________________\n",
            "flatten_1 (Flatten)          (None, 475136)            0         \n",
            "_________________________________________________________________\n",
            "dense_2 (Dense)              (None, 128)               60817536  \n",
            "_________________________________________________________________\n",
            "dropout_3 (Dropout)          (None, 128)               0         \n",
            "_________________________________________________________________\n",
            "dense_3 (Dense)              (None, 10)                1290      \n",
            "=================================================================\n",
            "Total params: 60,818,986\n",
            "Trainable params: 60,818,986\n",
            "Non-trainable params: 0\n",
            "_________________________________________________________________\n",
            "Epoch 1/200\n",
            "12/12 - 1s - loss: 1.7414 - accuracy: 0.4090 - val_loss: 1.2049 - val_accuracy: 0.6138\n",
            "Epoch 2/200\n",
            "12/12 - 1s - loss: 0.9416 - accuracy: 0.7344 - val_loss: 0.6336 - val_accuracy: 0.8519\n",
            "Epoch 3/200\n",
            "12/12 - 1s - loss: 0.4984 - accuracy: 0.8752 - val_loss: 0.4535 - val_accuracy: 0.9101\n",
            "Epoch 4/200\n",
            "12/12 - 1s - loss: 0.3399 - accuracy: 0.8991 - val_loss: 0.3075 - val_accuracy: 0.9101\n",
            "Epoch 5/200\n",
            "12/12 - 1s - loss: 0.2281 - accuracy: 0.9442 - val_loss: 0.2115 - val_accuracy: 0.9418\n",
            "Epoch 6/200\n",
            "12/12 - 1s - loss: 0.1283 - accuracy: 0.9681 - val_loss: 0.1986 - val_accuracy: 0.9312\n",
            "Epoch 7/200\n",
            "12/12 - 1s - loss: 0.0969 - accuracy: 0.9761 - val_loss: 0.1646 - val_accuracy: 0.9630\n",
            "Epoch 8/200\n",
            "12/12 - 1s - loss: 0.0601 - accuracy: 0.9880 - val_loss: 0.1807 - val_accuracy: 0.9312\n",
            "Epoch 9/200\n",
            "12/12 - 1s - loss: 0.0445 - accuracy: 0.9987 - val_loss: 0.1297 - val_accuracy: 0.9683\n",
            "Epoch 10/200\n",
            "12/12 - 1s - loss: 0.0443 - accuracy: 0.9934 - val_loss: 0.1284 - val_accuracy: 0.9683\n",
            "Epoch 11/200\n",
            "12/12 - 1s - loss: 0.0332 - accuracy: 0.9960 - val_loss: 0.1205 - val_accuracy: 0.9735\n",
            "Epoch 12/200\n",
            "12/12 - 1s - loss: 0.0330 - accuracy: 0.9947 - val_loss: 0.1243 - val_accuracy: 0.9683\n",
            "Epoch 13/200\n",
            "12/12 - 1s - loss: 0.0249 - accuracy: 0.9960 - val_loss: 0.1399 - val_accuracy: 0.9630\n",
            "Epoch 14/200\n",
            "12/12 - 1s - loss: 0.0286 - accuracy: 0.9973 - val_loss: 0.1237 - val_accuracy: 0.9577\n"
          ],
          "name": "stdout"
        }
      ]
    },
    {
      "cell_type": "code",
      "metadata": {
        "id": "qBukNlTS7_Up",
        "outputId": "86604a94-847a-4e3f-c939-0a6ffcf6b544",
        "colab": {
          "base_uri": "https://localhost:8080/",
          "height": 590
        }
      },
      "source": [
        "model_1.evaluate(X_val, y_val)\n",
        "plot_performance_curves(history_1)"
      ],
      "execution_count": 13,
      "outputs": [
        {
          "output_type": "stream",
          "text": [
            "6/6 [==============================] - 0s 16ms/step - loss: 0.1237 - accuracy: 0.9577\n"
          ],
          "name": "stdout"
        },
        {
          "output_type": "display_data",
          "data": {
            "image/png": "[encoded data removed]",
            "text/plain": [
              "<Figure size 432x288 with 1 Axes>"
            ]
          },
          "metadata": {
            "tags": [],
            "needs_background": "light"
          }
        },
        {
          "output_type": "display_data",
          "data": {
            "image/png": "[encoded data removed]",
            "text/plain": [
              "<Figure size 432x288 with 1 Axes>"
            ]
          },
          "metadata": {
            "tags": [],
            "needs_background": "light"
          }
        }
      ]
    },
    {
      "cell_type": "code",
      "metadata": {
        "id": "UMZHbtrNLKuv",
        "outputId": "60e196fc-2602-4282-f3ad-5a8e2cd59fb8",
        "colab": {
          "base_uri": "https://localhost:8080/",
          "height": 530
        }
      },
      "source": [
        "predictions = model_1.predict(X_test)\n",
        "prediction_classes = model_1.predict_classes(X_test)\n",
        "prediction_classes"
      ],
      "execution_count": 14,
      "outputs": [
        {
          "output_type": "stream",
          "text": [
            "WARNING:tensorflow:From <ipython-input-14-e8697c3a58b8>:2: Sequential.predict_classes (from tensorflow.python.keras.engine.sequential) is deprecated and will be removed after 2021-01-01.\n",
            "Instructions for updating:\n",
            "Please use instead:* `np.argmax(model.predict(x), axis=-1)`,   if your model does multi-class classification   (e.g. if it uses a `softmax` last-layer activation).* `(model.predict(x) > 0.5).astype(\"int32\")`,   if your model does binary classification   (e.g. if it uses a `sigmoid` last-layer activation).\n"
          ],
          "name": "stdout"
        },
        {
          "output_type": "execute_result",
          "data": {
            "text/plain": [
              "array([5, 9, 4, 1, 4, 5, 9, 3, 3, 7, 7, 3, 1, 8, 0, 7, 7, 3, 5, 3, 3, 3,\n",
              "       9, 3, 3, 5, 7, 7, 0, 4, 4, 0, 3, 0, 6, 3, 1, 3, 9, 9, 0, 1, 5, 9,\n",
              "       4, 7, 3, 3, 7, 6, 9, 6, 0, 0, 8, 3, 5, 3, 3, 3, 3, 7, 8, 7, 0, 0,\n",
              "       4, 6, 0, 3, 3, 4, 3, 5, 1, 4, 9, 7, 4, 5, 0, 1, 6, 9, 7, 3, 3, 3,\n",
              "       1, 6, 0, 8, 0, 8, 7, 7, 3, 3, 3, 6, 3, 3, 7, 3, 7, 3, 3, 4, 1, 3,\n",
              "       3, 3, 7, 7, 1, 9, 9, 4, 5, 1, 5, 9, 3, 4, 3, 3, 3, 3, 0, 3, 8, 7,\n",
              "       3, 3, 3, 3, 7, 3, 5, 4, 4, 1, 4, 8, 7, 3, 3, 3, 1, 5, 0, 9, 5, 3,\n",
              "       3, 9, 3, 9, 4, 0, 3, 3, 3, 3, 3, 7, 7, 3, 5, 0, 4, 0, 8, 8, 6, 3,\n",
              "       3, 3, 6, 5, 5, 1, 0, 7, 6, 1, 0, 1, 3, 3, 9, 6, 1, 4, 8, 8, 4, 5,\n",
              "       3, 3, 7, 5, 7, 1, 6, 6, 9, 9, 6, 3, 0, 9, 5, 9, 1, 7, 0, 5, 1, 4,\n",
              "       9, 3, 3, 3, 6, 4, 8, 5, 8, 9, 7, 3, 3, 7, 5, 8, 8, 8, 3, 3, 6, 9,\n",
              "       6, 9, 4, 5, 0, 7, 9, 3, 9, 3, 3, 8, 0, 5, 8, 7, 7, 3, 3, 3, 7, 3,\n",
              "       3, 3, 5, 4, 5, 8, 6, 9, 3, 3, 3, 0, 9, 0, 9, 1, 1, 5, 1, 7, 3, 9,\n",
              "       3, 8, 7, 3, 3, 3, 7, 3, 0, 3, 5, 3, 3, 3, 8, 8, 0, 0, 4, 8, 8, 6,\n",
              "       6, 3, 3, 1, 1, 7, 0, 7, 1, 3, 3, 3, 3, 8, 4, 1, 6, 7, 3, 3, 0, 3,\n",
              "       3, 3, 7, 4, 1, 4, 3, 9, 3, 3, 1, 7, 9, 9, 9, 3, 3, 6, 8, 4, 8, 4,\n",
              "       3, 8, 3, 3, 3, 3, 8, 7, 3, 4, 7, 8, 3, 8, 3, 6, 3, 6, 9, 9, 9, 0,\n",
              "       1, 1, 9, 7, 9, 1, 1, 3, 3, 3, 8, 3, 4, 0, 0, 7, 7, 3, 8, 6, 3, 7,\n",
              "       7, 5, 4, 5, 5, 4, 3, 3, 4, 3, 3, 0, 1, 5, 5, 7, 1, 4, 1, 5, 3, 3,\n",
              "       6, 3, 6, 4, 1, 8, 7, 3, 9, 3, 6, 3, 7, 3, 3, 6, 3, 3, 7, 1, 1, 8,\n",
              "       0, 4, 0, 6, 3, 6, 4, 3, 3, 5, 4, 9, 1, 5, 5, 4, 3, 3, 4, 4, 0, 1,\n",
              "       5, 7, 7, 3, 3, 9, 3, 3, 9, 3, 3, 3, 8, 5, 1, 3, 6, 4, 4, 3, 3, 4,\n",
              "       5, 5, 0, 9, 1, 5, 9, 6, 3, 3, 6, 0, 1, 8, 0, 3, 8, 8, 8, 7, 3, 3,\n",
              "       3, 9, 3, 6, 3, 8, 3, 8, 0, 1, 3, 3, 3, 6, 4, 7, 4, 1, 3, 6, 4, 7,\n",
              "       3, 7, 1, 1, 1, 3, 3, 8, 3, 3, 3, 3, 3, 3, 7, 7, 3, 3, 4, 4, 8, 0,\n",
              "       3, 3, 3, 1, 5, 5, 7, 5])"
            ]
          },
          "metadata": {
            "tags": []
          },
          "execution_count": 14
        }
      ]
    },
    {
      "cell_type": "code",
      "metadata": {
        "id": "GNe2-kDRLm4n"
      },
      "source": [
        "pd.DataFrame(prediction_classes).to_csv(\"submission.csv\")"
      ],
      "execution_count": 15,
      "outputs": []
    },
    {
      "cell_type": "markdown",
      "metadata": {
        "id": "1R94F-o78NYn"
      },
      "source": [
        "# Train Model 2"
      ]
    },
    {
      "cell_type": "code",
      "metadata": {
        "id": "8XvxKXHb8NYo",
        "outputId": "3e5fa44e-63a8-456b-bc4b-8fe61c251b24",
        "colab": {
          "base_uri": "https://localhost:8080/",
          "height": 1000
        }
      },
      "source": [
        "model_2 = get_model_2(X_train)\n",
        "model_2.summary()\n",
        "callback = tf.keras.callbacks.EarlyStopping(monitor='loss', patience=3)\n",
        "\n",
        "\n",
        "model_2.compile(loss=keras.losses.categorical_crossentropy,\n",
        "              optimizer=keras.optimizers.Adam(),\n",
        "              metrics=['accuracy'])\n",
        "history_2 = model_2.fit(X_train, y_train, batch_size=64, epochs=200,\n",
        "          verbose=2, validation_data=(X_val, y_val), callbacks=callback)"
      ],
      "execution_count": 16,
      "outputs": [
        {
          "output_type": "stream",
          "text": [
            "Model: \"sequential_2\"\n",
            "_________________________________________________________________\n",
            "Layer (type)                 Output Shape              Param #   \n",
            "=================================================================\n",
            "conv2d_2 (Conv2D)            (None, 1024, 58, 32)      160       \n",
            "_________________________________________________________________\n",
            "conv2d_3 (Conv2D)            (None, 1023, 57, 48)      6192      \n",
            "_________________________________________________________________\n",
            "conv2d_4 (Conv2D)            (None, 1022, 56, 120)     23160     \n",
            "_________________________________________________________________\n",
            "max_pooling2d_2 (MaxPooling2 (None, 511, 28, 120)      0         \n",
            "_________________________________________________________________\n",
            "dropout_4 (Dropout)          (None, 511, 28, 120)      0         \n",
            "_________________________________________________________________\n",
            "flatten_2 (Flatten)          (None, 1716960)           0         \n",
            "_________________________________________________________________\n",
            "dense_4 (Dense)              (None, 128)               219771008 \n",
            "_________________________________________________________________\n",
            "dropout_5 (Dropout)          (None, 128)               0         \n",
            "_________________________________________________________________\n",
            "dense_5 (Dense)              (None, 64)                8256      \n",
            "_________________________________________________________________\n",
            "dropout_6 (Dropout)          (None, 64)                0         \n",
            "_________________________________________________________________\n",
            "dense_6 (Dense)              (None, 10)                650       \n",
            "=================================================================\n",
            "Total params: 219,809,426\n",
            "Trainable params: 219,809,426\n",
            "Non-trainable params: 0\n",
            "_________________________________________________________________\n",
            "Epoch 1/200\n",
            "WARNING:tensorflow:Callbacks method `on_train_batch_end` is slow compared to the batch time (batch time: 0.1180s vs `on_train_batch_end` time: 0.2750s). Check your callbacks.\n",
            "12/12 - 6s - loss: 1.9283 - accuracy: 0.3068 - val_loss: 1.2805 - val_accuracy: 0.6931\n",
            "Epoch 2/200\n",
            "12/12 - 4s - loss: 1.1880 - accuracy: 0.5857 - val_loss: 0.7169 - val_accuracy: 0.7937\n",
            "Epoch 3/200\n",
            "12/12 - 4s - loss: 0.9299 - accuracy: 0.6786 - val_loss: 0.4481 - val_accuracy: 0.8783\n",
            "Epoch 4/200\n",
            "12/12 - 4s - loss: 0.5514 - accuracy: 0.8101 - val_loss: 0.3480 - val_accuracy: 0.9365\n",
            "Epoch 5/200\n",
            "12/12 - 4s - loss: 0.4813 - accuracy: 0.8353 - val_loss: 0.2910 - val_accuracy: 0.9365\n",
            "Epoch 6/200\n",
            "12/12 - 4s - loss: 0.3956 - accuracy: 0.8645 - val_loss: 0.2439 - val_accuracy: 0.9312\n",
            "Epoch 7/200\n",
            "12/12 - 4s - loss: 0.3175 - accuracy: 0.8911 - val_loss: 0.2782 - val_accuracy: 0.9259\n",
            "Epoch 8/200\n",
            "12/12 - 4s - loss: 0.2621 - accuracy: 0.9190 - val_loss: 0.2208 - val_accuracy: 0.9471\n",
            "Epoch 9/200\n",
            "12/12 - 5s - loss: 0.2005 - accuracy: 0.9349 - val_loss: 0.1752 - val_accuracy: 0.9524\n",
            "Epoch 10/200\n",
            "12/12 - 4s - loss: 0.2019 - accuracy: 0.9309 - val_loss: 0.1863 - val_accuracy: 0.9524\n",
            "Epoch 11/200\n",
            "12/12 - 4s - loss: 0.1684 - accuracy: 0.9522 - val_loss: 0.2150 - val_accuracy: 0.9418\n",
            "Epoch 12/200\n",
            "12/12 - 5s - loss: 0.1486 - accuracy: 0.9522 - val_loss: 0.2096 - val_accuracy: 0.9365\n",
            "Epoch 13/200\n",
            "12/12 - 5s - loss: 0.1612 - accuracy: 0.9509 - val_loss: 0.2012 - val_accuracy: 0.9524\n",
            "Epoch 14/200\n",
            "12/12 - 5s - loss: 0.0964 - accuracy: 0.9734 - val_loss: 0.2519 - val_accuracy: 0.9206\n",
            "Epoch 15/200\n",
            "12/12 - 5s - loss: 0.0881 - accuracy: 0.9788 - val_loss: 0.2158 - val_accuracy: 0.9577\n",
            "Epoch 16/200\n",
            "12/12 - 5s - loss: 0.1100 - accuracy: 0.9655 - val_loss: 0.1395 - val_accuracy: 0.9735\n",
            "Epoch 17/200\n",
            "12/12 - 5s - loss: 0.1288 - accuracy: 0.9655 - val_loss: 0.1537 - val_accuracy: 0.9577\n",
            "Epoch 18/200\n",
            "12/12 - 5s - loss: 0.0904 - accuracy: 0.9734 - val_loss: 0.1453 - val_accuracy: 0.9683\n"
          ],
          "name": "stdout"
        }
      ]
    },
    {
      "cell_type": "code",
      "metadata": {
        "id": "lPHAKjWu8NYr",
        "outputId": "c0e839dd-9039-4966-b59e-68b04bd2b37f",
        "colab": {
          "base_uri": "https://localhost:8080/",
          "height": 590
        }
      },
      "source": [
        "model_2.evaluate(X_val, y_val)\n",
        "plot_performance_curves(history_2)"
      ],
      "execution_count": 17,
      "outputs": [
        {
          "output_type": "stream",
          "text": [
            "6/6 [==============================] - 0s 71ms/step - loss: 0.1453 - accuracy: 0.9683\n"
          ],
          "name": "stdout"
        },
        {
          "output_type": "display_data",
          "data": {
            "image/png": "[encoded data removed]",
            "text/plain": [
              "<Figure size 432x288 with 1 Axes>"
            ]
          },
          "metadata": {
            "tags": [],
            "needs_background": "light"
          }
        },
        {
          "output_type": "display_data",
          "data": {
            "image/png": "[encoded data removed]",
            "text/plain": [
              "<Figure size 432x288 with 1 Axes>"
            ]
          },
          "metadata": {
            "tags": [],
            "needs_background": "light"
          }
        }
      ]
    },
    {
      "cell_type": "code",
      "metadata": {
        "id": "s4REFwVO8NYv",
        "outputId": "201ff03f-4fc2-450c-cbb8-da443b7f179b",
        "colab": {
          "base_uri": "https://localhost:8080/",
          "height": 459
        }
      },
      "source": [
        "predictions = model_2.predict(X_test)\n",
        "prediction_classes = model_2.predict_classes(X_test)\n",
        "prediction_classes"
      ],
      "execution_count": 18,
      "outputs": [
        {
          "output_type": "execute_result",
          "data": {
            "text/plain": [
              "array([5, 9, 4, 1, 4, 5, 9, 3, 3, 7, 7, 0, 1, 8, 0, 7, 7, 3, 5, 3, 3, 3,\n",
              "       9, 3, 3, 5, 9, 7, 0, 4, 4, 3, 3, 4, 6, 3, 4, 3, 9, 9, 0, 1, 5, 9,\n",
              "       4, 7, 3, 3, 3, 6, 7, 6, 0, 0, 8, 3, 5, 3, 3, 3, 3, 7, 8, 7, 0, 0,\n",
              "       4, 6, 3, 3, 3, 4, 3, 5, 1, 4, 9, 7, 4, 5, 0, 1, 6, 9, 7, 3, 3, 3,\n",
              "       1, 6, 0, 8, 0, 8, 7, 7, 3, 3, 3, 3, 3, 3, 7, 3, 7, 3, 3, 4, 1, 3,\n",
              "       3, 3, 7, 7, 1, 9, 9, 4, 5, 1, 5, 9, 3, 4, 3, 3, 8, 3, 0, 3, 8, 7,\n",
              "       3, 3, 3, 3, 7, 3, 5, 4, 4, 1, 4, 8, 7, 3, 3, 3, 1, 5, 0, 9, 5, 3,\n",
              "       3, 9, 3, 9, 4, 0, 3, 3, 3, 3, 3, 7, 7, 3, 5, 0, 4, 0, 8, 8, 6, 3,\n",
              "       3, 3, 6, 5, 5, 1, 0, 7, 3, 1, 0, 1, 3, 3, 9, 6, 1, 4, 8, 8, 4, 5,\n",
              "       3, 3, 7, 5, 4, 1, 6, 6, 9, 9, 6, 3, 3, 9, 5, 9, 1, 7, 0, 5, 1, 4,\n",
              "       9, 0, 3, 3, 6, 4, 8, 5, 8, 9, 7, 3, 3, 7, 5, 8, 8, 8, 3, 3, 6, 9,\n",
              "       6, 9, 4, 5, 0, 7, 9, 3, 9, 3, 3, 8, 0, 5, 8, 7, 3, 3, 3, 3, 7, 3,\n",
              "       3, 3, 5, 4, 5, 8, 6, 9, 3, 3, 3, 6, 9, 0, 9, 1, 1, 5, 1, 3, 3, 9,\n",
              "       3, 8, 0, 3, 3, 0, 3, 3, 0, 3, 5, 3, 3, 3, 8, 8, 0, 0, 4, 8, 8, 6,\n",
              "       6, 3, 3, 1, 1, 7, 9, 7, 1, 3, 3, 3, 3, 8, 4, 1, 6, 7, 3, 3, 0, 3,\n",
              "       3, 3, 7, 4, 1, 4, 3, 9, 3, 3, 1, 7, 9, 9, 9, 3, 3, 6, 8, 4, 8, 4,\n",
              "       3, 8, 3, 3, 3, 8, 8, 7, 3, 4, 1, 8, 3, 8, 3, 6, 3, 6, 9, 9, 9, 0,\n",
              "       1, 1, 7, 7, 9, 1, 1, 3, 3, 3, 8, 3, 4, 0, 0, 7, 7, 3, 8, 8, 3, 7,\n",
              "       7, 5, 4, 4, 5, 4, 3, 3, 4, 3, 3, 0, 1, 5, 5, 7, 4, 4, 1, 5, 3, 3,\n",
              "       6, 3, 6, 4, 0, 8, 7, 3, 9, 3, 8, 3, 3, 3, 3, 8, 3, 3, 7, 1, 1, 8,\n",
              "       0, 4, 0, 6, 3, 6, 4, 3, 3, 5, 4, 9, 1, 5, 5, 4, 3, 3, 4, 4, 0, 1,\n",
              "       5, 7, 7, 3, 3, 9, 3, 3, 9, 3, 8, 3, 8, 5, 1, 3, 6, 4, 4, 3, 3, 4,\n",
              "       5, 5, 0, 9, 1, 5, 9, 6, 3, 3, 3, 0, 1, 8, 0, 3, 8, 8, 8, 7, 3, 3,\n",
              "       3, 9, 3, 3, 3, 8, 3, 8, 0, 1, 3, 3, 3, 6, 4, 8, 4, 1, 3, 8, 4, 7,\n",
              "       3, 3, 1, 1, 1, 3, 3, 8, 3, 3, 3, 3, 3, 3, 7, 7, 3, 3, 4, 4, 8, 9,\n",
              "       3, 3, 3, 1, 5, 5, 7, 5])"
            ]
          },
          "metadata": {
            "tags": []
          },
          "execution_count": 18
        }
      ]
    },
    {
      "cell_type": "code",
      "metadata": {
        "id": "U5hGfKo08NYz"
      },
      "source": [
        "pd.DataFrame(prediction_classes).to_csv(\"submission_2.csv\")"
      ],
      "execution_count": 19,
      "outputs": []
    },
    {
      "cell_type": "markdown",
      "metadata": {
        "id": "C4yIdMKk8N8z"
      },
      "source": [
        "# Train Model 3"
      ]
    },
    {
      "cell_type": "code",
      "metadata": {
        "id": "KSYsTfmn8N80",
        "outputId": "6ffb58ca-b37d-4c29-eb15-771a005d0671",
        "colab": {
          "base_uri": "https://localhost:8080/",
          "height": 867
        }
      },
      "source": [
        "model_3 = get_model_3(X_train)\n",
        "model_3.summary()\n",
        "callback = tf.keras.callbacks.EarlyStopping(monitor='val_loss', patience=3)\n",
        "\n",
        "\n",
        "model_3.compile(loss=keras.losses.categorical_crossentropy,\n",
        "              optimizer=keras.optimizers.Adam(),\n",
        "              metrics=['accuracy'])\n",
        "history_3 = model_3.fit(X_train, y_train, batch_size=64, epochs=200,\n",
        "          verbose=2, validation_data=(X_val, y_val), callbacks=callback)"
      ],
      "execution_count": 21,
      "outputs": [
        {
          "output_type": "stream",
          "text": [
            "Model: \"sequential_4\"\n",
            "_________________________________________________________________\n",
            "Layer (type)                 Output Shape              Param #   \n",
            "=================================================================\n",
            "conv2d_8 (Conv2D)            (None, 513, 30, 128)      1280      \n",
            "_________________________________________________________________\n",
            "batch_normalization_5 (Batch (None, 513, 30, 128)      512       \n",
            "_________________________________________________________________\n",
            "dropout_12 (Dropout)         (None, 513, 30, 128)      0         \n",
            "_________________________________________________________________\n",
            "conv2d_9 (Conv2D)            (None, 257, 15, 64)       32832     \n",
            "_________________________________________________________________\n",
            "batch_normalization_6 (Batch (None, 257, 15, 64)       256       \n",
            "_________________________________________________________________\n",
            "dropout_13 (Dropout)         (None, 257, 15, 64)       0         \n",
            "_________________________________________________________________\n",
            "conv2d_10 (Conv2D)           (None, 129, 8, 64)        16448     \n",
            "_________________________________________________________________\n",
            "batch_normalization_7 (Batch (None, 129, 8, 64)        256       \n",
            "_________________________________________________________________\n",
            "dropout_14 (Dropout)         (None, 129, 8, 64)        0         \n",
            "_________________________________________________________________\n",
            "flatten_4 (Flatten)          (None, 66048)             0         \n",
            "_________________________________________________________________\n",
            "dense_10 (Dense)             (None, 256)               16908544  \n",
            "_________________________________________________________________\n",
            "batch_normalization_8 (Batch (None, 256)               1024      \n",
            "_________________________________________________________________\n",
            "dropout_15 (Dropout)         (None, 256)               0         \n",
            "_________________________________________________________________\n",
            "dense_11 (Dense)             (None, 128)               32896     \n",
            "_________________________________________________________________\n",
            "batch_normalization_9 (Batch (None, 128)               512       \n",
            "_________________________________________________________________\n",
            "dropout_16 (Dropout)         (None, 128)               0         \n",
            "_________________________________________________________________\n",
            "dense_12 (Dense)             (None, 10)                1290      \n",
            "=================================================================\n",
            "Total params: 16,995,850\n",
            "Trainable params: 16,994,570\n",
            "Non-trainable params: 1,280\n",
            "_________________________________________________________________\n",
            "Epoch 1/200\n",
            "12/12 - 2s - loss: 1.3364 - accuracy: 0.6069 - val_loss: 2.4335 - val_accuracy: 0.1164\n",
            "Epoch 2/200\n",
            "12/12 - 2s - loss: 0.4061 - accuracy: 0.8831 - val_loss: 2.9425 - val_accuracy: 0.1217\n",
            "Epoch 3/200\n",
            "12/12 - 2s - loss: 0.2452 - accuracy: 0.9336 - val_loss: 3.1919 - val_accuracy: 0.1217\n",
            "Epoch 4/200\n",
            "12/12 - 2s - loss: 0.1286 - accuracy: 0.9655 - val_loss: 3.4064 - val_accuracy: 0.1376\n"
          ],
          "name": "stdout"
        }
      ]
    },
    {
      "cell_type": "code",
      "metadata": {
        "id": "rH-y3HAj8N85",
        "outputId": "db2743f9-ef42-4488-85bb-b58eeb270bb8",
        "colab": {
          "base_uri": "https://localhost:8080/",
          "height": 590
        }
      },
      "source": [
        "model_3.evaluate(X_val, y_val)\n",
        "plot_performance_curves(history_3)"
      ],
      "execution_count": 22,
      "outputs": [
        {
          "output_type": "stream",
          "text": [
            "6/6 [==============================] - 0s 34ms/step - loss: 3.4064 - accuracy: 0.1376\n"
          ],
          "name": "stdout"
        },
        {
          "output_type": "display_data",
          "data": {
            "image/png": "[encoded data removed]",
            "text/plain": [
              "<Figure size 432x288 with 1 Axes>"
            ]
          },
          "metadata": {
            "tags": [],
            "needs_background": "light"
          }
        },
        {
          "output_type": "display_data",
          "data": {
            "image/png": "[encoded data removed]",
            "text/plain": [
              "<Figure size 432x288 with 1 Axes>"
            ]
          },
          "metadata": {
            "tags": [],
            "needs_background": "light"
          }
        }
      ]
    },
    {
      "cell_type": "code",
      "metadata": {
        "id": "Nk2ZUoUK8N8_",
        "outputId": "f028ac7c-8c3f-477a-d921-c8e64d76c34f",
        "colab": {
          "base_uri": "https://localhost:8080/",
          "height": 459
        }
      },
      "source": [
        "predictions = model_3.predict(X_test)\n",
        "prediction_classes = model_3.predict_classes(X_test)\n",
        "prediction_classes"
      ],
      "execution_count": 23,
      "outputs": [
        {
          "output_type": "execute_result",
          "data": {
            "text/plain": [
              "array([6, 6, 6, 6, 6, 6, 6, 6, 6, 6, 6, 6, 6, 6, 6, 6, 6, 6, 6, 6, 6, 6,\n",
              "       6, 6, 6, 6, 6, 6, 6, 6, 6, 6, 6, 6, 6, 6, 6, 6, 6, 6, 6, 6, 8, 6,\n",
              "       6, 6, 6, 6, 6, 6, 6, 6, 6, 6, 6, 6, 6, 6, 6, 6, 6, 6, 6, 6, 6, 6,\n",
              "       6, 6, 6, 6, 6, 6, 6, 6, 6, 6, 6, 6, 6, 6, 6, 6, 6, 6, 6, 6, 6, 6,\n",
              "       6, 6, 6, 6, 6, 6, 6, 6, 6, 6, 6, 6, 6, 6, 6, 6, 6, 6, 6, 6, 6, 6,\n",
              "       6, 6, 6, 6, 6, 6, 6, 6, 6, 6, 6, 6, 6, 6, 6, 6, 6, 6, 6, 6, 6, 6,\n",
              "       6, 6, 6, 6, 6, 6, 6, 6, 6, 6, 6, 6, 6, 6, 6, 6, 6, 6, 6, 6, 6, 6,\n",
              "       6, 6, 6, 6, 6, 6, 6, 6, 6, 6, 6, 6, 6, 6, 6, 6, 6, 6, 6, 8, 6, 6,\n",
              "       6, 6, 6, 6, 6, 6, 6, 6, 6, 6, 6, 6, 6, 6, 6, 6, 6, 8, 6, 6, 6, 6,\n",
              "       6, 6, 6, 6, 6, 6, 6, 6, 6, 6, 6, 6, 6, 6, 6, 6, 6, 6, 6, 6, 6, 6,\n",
              "       6, 6, 6, 6, 6, 6, 8, 6, 6, 6, 6, 6, 6, 6, 6, 6, 6, 6, 6, 6, 6, 6,\n",
              "       6, 6, 6, 6, 6, 6, 6, 6, 6, 6, 6, 6, 6, 6, 6, 6, 8, 6, 6, 6, 6, 6,\n",
              "       6, 6, 6, 6, 6, 6, 6, 6, 6, 6, 6, 6, 6, 6, 6, 6, 6, 6, 6, 6, 6, 6,\n",
              "       6, 6, 6, 6, 6, 6, 6, 6, 6, 6, 8, 6, 6, 6, 6, 6, 6, 6, 6, 6, 8, 6,\n",
              "       6, 6, 6, 6, 6, 6, 6, 6, 6, 6, 6, 6, 6, 8, 6, 6, 6, 6, 6, 6, 6, 6,\n",
              "       6, 6, 6, 6, 6, 6, 6, 6, 6, 6, 8, 6, 6, 6, 8, 6, 6, 6, 8, 6, 6, 6,\n",
              "       6, 6, 6, 6, 6, 6, 6, 6, 6, 6, 6, 6, 6, 6, 6, 6, 6, 6, 6, 6, 6, 6,\n",
              "       6, 6, 6, 6, 6, 6, 6, 6, 6, 6, 8, 6, 6, 6, 6, 6, 6, 6, 6, 6, 6, 6,\n",
              "       6, 6, 6, 8, 6, 6, 6, 6, 6, 6, 6, 6, 6, 6, 6, 6, 6, 6, 6, 6, 6, 6,\n",
              "       6, 6, 6, 6, 6, 6, 6, 6, 6, 6, 6, 6, 6, 6, 6, 6, 6, 6, 6, 6, 6, 6,\n",
              "       6, 6, 6, 6, 6, 6, 6, 6, 6, 6, 6, 6, 6, 6, 8, 6, 6, 6, 6, 6, 6, 6,\n",
              "       6, 6, 6, 6, 6, 6, 6, 6, 6, 6, 6, 6, 6, 6, 6, 6, 6, 6, 6, 6, 6, 6,\n",
              "       6, 6, 6, 6, 6, 6, 6, 6, 6, 6, 6, 6, 6, 6, 6, 6, 6, 8, 6, 6, 6, 6,\n",
              "       6, 6, 6, 6, 6, 6, 6, 6, 6, 6, 6, 6, 6, 6, 6, 6, 6, 6, 6, 6, 6, 6,\n",
              "       6, 6, 6, 6, 6, 6, 6, 6, 6, 6, 6, 6, 6, 6, 6, 6, 6, 6, 6, 6, 6, 6,\n",
              "       6, 6, 6, 6, 6, 6, 6, 8])"
            ]
          },
          "metadata": {
            "tags": []
          },
          "execution_count": 23
        }
      ]
    },
    {
      "cell_type": "code",
      "metadata": {
        "id": "PejUYuU-8N9C"
      },
      "source": [
        "pd.DataFrame(prediction_classes).to_csv(\"submission_3.csv\")"
      ],
      "execution_count": 24,
      "outputs": []
    }
  ]
}